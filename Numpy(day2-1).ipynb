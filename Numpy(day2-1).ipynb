{
 "cells": [
  {
   "cell_type": "markdown",
   "id": "eed7b059",
   "metadata": {},
   "source": [
    "### 1.5 불리언 색인"
   ]
  },
  {
   "cell_type": "code",
   "execution_count": null,
   "id": "384a3b14",
   "metadata": {},
   "outputs": [],
   "source": [
    "import numpy as np\n",
    "names = np.array(['Bob','Joe','Will','Bob','Will','Joe','Joe'])\n",
    "data = np.random.randn(7,4)"
   ]
  },
  {
   "cell_type": "code",
   "execution_count": null,
   "id": "c0123ce9",
   "metadata": {},
   "outputs": [],
   "source": [
    "names"
   ]
  },
  {
   "cell_type": "code",
   "execution_count": null,
   "id": "e6410c3b",
   "metadata": {},
   "outputs": [],
   "source": [
    "data"
   ]
  },
  {
   "cell_type": "code",
   "execution_count": null,
   "id": "571bec94",
   "metadata": {},
   "outputs": [],
   "source": [
    "# 위 까지 준비상태야"
   ]
  },
  {
   "cell_type": "code",
   "execution_count": null,
   "id": "1ccf0fd2",
   "metadata": {},
   "outputs": [],
   "source": [
    "names == 'Bob'"
   ]
  },
  {
   "cell_type": "code",
   "execution_count": null,
   "id": "dbf0264e",
   "metadata": {},
   "outputs": [],
   "source": [
    "# 브로드캐스팅 되어 각 요소 7개와 각각 비교, t/f 가 7개 나옴"
   ]
  },
  {
   "cell_type": "code",
   "execution_count": null,
   "id": "14eefcf1",
   "metadata": {},
   "outputs": [],
   "source": [
    "# 정답이 불리언으로 나왔으니까, 이 불리안 값으로 색인이 가능함"
   ]
  },
  {
   "cell_type": "code",
   "execution_count": null,
   "id": "a0412df8",
   "metadata": {},
   "outputs": [],
   "source": [
    "data[names == 'Bob']"
   ]
  },
  {
   "cell_type": "code",
   "execution_count": null,
   "id": "3cf48180",
   "metadata": {},
   "outputs": [],
   "source": [
    "# 트루인 것만 가져옴.\n",
    "# 추론해보자면..\n",
    "\n",
    "# 2차원 배열에서 불리안값을 통해 추론하여 2차원 값 중에 매치되는 것만 가져올 수 있음"
   ]
  },
  {
   "cell_type": "code",
   "execution_count": null,
   "id": "bdb2c1f6",
   "metadata": {},
   "outputs": [],
   "source": [
    "data[names == 'Bob', 2:]"
   ]
  },
  {
   "cell_type": "code",
   "execution_count": null,
   "id": "ecae5e50",
   "metadata": {},
   "outputs": [],
   "source": [
    "# 슬라이싱도 가능하쥬??"
   ]
  },
  {
   "cell_type": "code",
   "execution_count": null,
   "id": "3818828e",
   "metadata": {},
   "outputs": [],
   "source": [
    "data[names == 'Bob', 3] # 정수로 3열만 가져옴"
   ]
  },
  {
   "cell_type": "code",
   "execution_count": null,
   "id": "f3e4dad8",
   "metadata": {},
   "outputs": [],
   "source": [
    "# 가져오니까 한 차원 줄었지? 정수색인은 항상 한 차원이 줄어듬"
   ]
  },
  {
   "cell_type": "code",
   "execution_count": null,
   "id": "110e1ed0",
   "metadata": {},
   "outputs": [],
   "source": [
    "names != 'Bob'"
   ]
  },
  {
   "cell_type": "code",
   "execution_count": null,
   "id": "e81500cc",
   "metadata": {},
   "outputs": [],
   "source": [
    "data[names != 'Bob']"
   ]
  },
  {
   "cell_type": "code",
   "execution_count": null,
   "id": "9195216f",
   "metadata": {},
   "outputs": [],
   "source": [
    "~ (names == 'Bob')\n",
    "\n",
    "data[~ (names == 'Bob')] # 위의 다른 표현"
   ]
  },
  {
   "cell_type": "code",
   "execution_count": null,
   "id": "a0ec82c2",
   "metadata": {},
   "outputs": [],
   "source": [
    "cond = (names == 'Bob')"
   ]
  },
  {
   "cell_type": "code",
   "execution_count": null,
   "id": "289b4c59",
   "metadata": {},
   "outputs": [],
   "source": [
    "data[~cond] # 이것도 위와 같은 표현임"
   ]
  },
  {
   "cell_type": "code",
   "execution_count": null,
   "id": "49ee75fb",
   "metadata": {},
   "outputs": [],
   "source": [
    "names"
   ]
  },
  {
   "cell_type": "code",
   "execution_count": null,
   "id": "03c5ea80",
   "metadata": {},
   "outputs": [],
   "source": [
    "mask = (names =='Bob') | (names =='Will')"
   ]
  },
  {
   "cell_type": "code",
   "execution_count": null,
   "id": "a3ebfedf",
   "metadata": {},
   "outputs": [],
   "source": [
    "data[mask]"
   ]
  },
  {
   "cell_type": "code",
   "execution_count": null,
   "id": "61444475",
   "metadata": {},
   "outputs": [],
   "source": [
    "data < 0"
   ]
  },
  {
   "cell_type": "code",
   "execution_count": null,
   "id": "3518a527",
   "metadata": {},
   "outputs": [],
   "source": [
    "# 음수만 트루로 가져옴"
   ]
  },
  {
   "cell_type": "code",
   "execution_count": null,
   "id": "145c373b",
   "metadata": {},
   "outputs": [],
   "source": [
    "data[data < 0] = 0\n",
    "data"
   ]
  },
  {
   "cell_type": "code",
   "execution_count": null,
   "id": "6a97f992",
   "metadata": {},
   "outputs": [],
   "source": [
    "# 음수인 애들만 0으로 바꿈"
   ]
  },
  {
   "cell_type": "code",
   "execution_count": null,
   "id": "7791f0c3",
   "metadata": {},
   "outputs": [],
   "source": [
    "names"
   ]
  },
  {
   "cell_type": "code",
   "execution_count": null,
   "id": "68009981",
   "metadata": {},
   "outputs": [],
   "source": [
    "names != 'Joe'"
   ]
  },
  {
   "cell_type": "code",
   "execution_count": null,
   "id": "3e6296c9",
   "metadata": {},
   "outputs": [],
   "source": [
    "data[names != 'Joe'] = 7\n",
    "data"
   ]
  },
  {
   "cell_type": "code",
   "execution_count": null,
   "id": "eb9ad6cf",
   "metadata": {},
   "outputs": [],
   "source": [
    "~(names =='Bob')"
   ]
  },
  {
   "cell_type": "code",
   "execution_count": null,
   "id": "6f6bd9f7",
   "metadata": {},
   "outputs": [],
   "source": [
    "(names =='Bob')"
   ]
  },
  {
   "cell_type": "code",
   "execution_count": null,
   "id": "bb1b5b43",
   "metadata": {},
   "outputs": [],
   "source": [
    "# 조건에 대해서 변수로 만든 뒤에 해당 변수를 한번에 뒤집으면 반대결과를 색인할때 용이함"
   ]
  },
  {
   "cell_type": "code",
   "execution_count": null,
   "id": "60e50ef1",
   "metadata": {},
   "outputs": [],
   "source": [
    "# | ~ & 등은 넘파이에서는 비트연산자임"
   ]
  },
  {
   "cell_type": "code",
   "execution_count": null,
   "id": "9f15e700",
   "metadata": {},
   "outputs": [],
   "source": []
  },
  {
   "cell_type": "markdown",
   "id": "8e0a1a49",
   "metadata": {},
   "source": [
    "### 1.6 팬시 색인 fancy indexing"
   ]
  },
  {
   "cell_type": "code",
   "execution_count": null,
   "id": "6858a9bf",
   "metadata": {},
   "outputs": [],
   "source": [
    "arr = np.empty((8,4))\n",
    "for i in range(8):\n",
    "    arr[i] = i\n",
    "\n",
    "arr"
   ]
  },
  {
   "cell_type": "code",
   "execution_count": null,
   "id": "1082010a",
   "metadata": {},
   "outputs": [],
   "source": [
    "# 0번째 행에는 0, 1번째 행에는 1, ... n번재 행에는 n이 브로드캐스팅 되어 적용됨"
   ]
  },
  {
   "cell_type": "code",
   "execution_count": null,
   "id": "6e701f68",
   "metadata": {},
   "outputs": [],
   "source": [
    "arr[1:3] # 1번 2번 행 가져옴"
   ]
  },
  {
   "cell_type": "code",
   "execution_count": null,
   "id": "e94d2c03",
   "metadata": {},
   "outputs": [],
   "source": [
    "arr[[4, 3, 0, 6]]"
   ]
  },
  {
   "cell_type": "code",
   "execution_count": null,
   "id": "d7df2b6c",
   "metadata": {},
   "outputs": [],
   "source": [
    "# 이렇게 하면 원하는 행을 원하는 순서로 가져옴"
   ]
  },
  {
   "cell_type": "code",
   "execution_count": null,
   "id": "17f17b51",
   "metadata": {},
   "outputs": [],
   "source": [
    "# 이걸 음수 색인으로 변경 가능"
   ]
  },
  {
   "cell_type": "code",
   "execution_count": null,
   "id": "cc5b6f06",
   "metadata": {},
   "outputs": [],
   "source": [
    "arr[[-1]]"
   ]
  },
  {
   "cell_type": "code",
   "execution_count": null,
   "id": "493c8812",
   "metadata": {},
   "outputs": [],
   "source": [
    "# 7번째껄 가져왔네?"
   ]
  },
  {
   "cell_type": "code",
   "execution_count": null,
   "id": "a3039620",
   "metadata": {},
   "outputs": [],
   "source": [
    "arr[[-3, -5, -7]]"
   ]
  },
  {
   "cell_type": "code",
   "execution_count": null,
   "id": "d72743e2",
   "metadata": {},
   "outputs": [],
   "source": [
    "# 요렇게도 가능하쥬"
   ]
  },
  {
   "cell_type": "code",
   "execution_count": null,
   "id": "a2ffe6f7",
   "metadata": {},
   "outputs": [],
   "source": [
    "np.arange(32)"
   ]
  },
  {
   "cell_type": "code",
   "execution_count": null,
   "id": "4304c9b6",
   "metadata": {},
   "outputs": [],
   "source": [
    "np.arange(32).reshape((8,4)) # 뒤 두값을 곱한게 앞 32 가 나와야 모양이 같음 (4, 8) (16, 2) 다 가능"
   ]
  },
  {
   "cell_type": "code",
   "execution_count": null,
   "id": "a8afdb98",
   "metadata": {},
   "outputs": [],
   "source": [
    "# 여기서 부터 좀 이상한데"
   ]
  },
  {
   "cell_type": "code",
   "execution_count": null,
   "id": "ecbe082a",
   "metadata": {},
   "outputs": [],
   "source": [
    "arr[[1, 5, 7, 2]]"
   ]
  },
  {
   "cell_type": "code",
   "execution_count": null,
   "id": "af65b84d",
   "metadata": {},
   "outputs": [],
   "source": [
    "arr[[1, 5, 7, 2], [0, 3, 1 ,2]]"
   ]
  },
  {
   "cell_type": "code",
   "execution_count": null,
   "id": "6c98f1d5",
   "metadata": {},
   "outputs": [],
   "source": [
    "arr[[1,5,7,2,]][:, [0, 3, 1, 2]]"
   ]
  },
  {
   "cell_type": "code",
   "execution_count": null,
   "id": "019eb5b1",
   "metadata": {},
   "outputs": [],
   "source": [
    "# 꼭 다시 확인해볼것 # 왜 1, 5, 7, 2 만 나오지??"
   ]
  },
  {
   "cell_type": "markdown",
   "id": "08928651",
   "metadata": {},
   "source": [
    "### 1.7 배열 전치와 축 바꾸기"
   ]
  },
  {
   "cell_type": "code",
   "execution_count": null,
   "id": "c41e446b",
   "metadata": {},
   "outputs": [],
   "source": [
    "arr = np.arange(15).reshape((3, 5))"
   ]
  },
  {
   "cell_type": "code",
   "execution_count": null,
   "id": "5bd4a799",
   "metadata": {},
   "outputs": [],
   "source": [
    "arr"
   ]
  },
  {
   "cell_type": "code",
   "execution_count": null,
   "id": "b26217da",
   "metadata": {},
   "outputs": [],
   "source": [
    "arr.T"
   ]
  },
  {
   "cell_type": "code",
   "execution_count": null,
   "id": "dc62f2d7",
   "metadata": {},
   "outputs": [],
   "source": [
    "# 피벗됨, 그런데 수식을 만드는 용도로 쓰지 판다스의 피벗과 같은 용도로 사용하지는 않음"
   ]
  },
  {
   "cell_type": "code",
   "execution_count": null,
   "id": "6854ea3f",
   "metadata": {},
   "outputs": [],
   "source": [
    "# ex> 행렬 곱셈을 할때 전열과 후행의 개수가 같아야 하므로, 그런 용도로 트렌스포즈 할 때 사용함"
   ]
  },
  {
   "cell_type": "code",
   "execution_count": null,
   "id": "e5143646",
   "metadata": {},
   "outputs": [],
   "source": [
    "arr2 = arr.T\n",
    "arr2.shape"
   ]
  },
  {
   "cell_type": "code",
   "execution_count": null,
   "id": "57dc5571",
   "metadata": {},
   "outputs": [],
   "source": [
    "arr.shape"
   ]
  },
  {
   "cell_type": "code",
   "execution_count": null,
   "id": "10376ff5",
   "metadata": {},
   "outputs": [],
   "source": [
    "arr"
   ]
  },
  {
   "cell_type": "code",
   "execution_count": null,
   "id": "b3f1bcce",
   "metadata": {},
   "outputs": [],
   "source": [
    "# 정확하게는 행과 열의 인덱스값이 서로 각각 치환됐다고 보는게 맞음"
   ]
  },
  {
   "cell_type": "code",
   "execution_count": null,
   "id": "c8bfa215",
   "metadata": {},
   "outputs": [],
   "source": [
    "# 행렬의 곱셈에는 원소별 곱셈(같은 자리에 있는 애들 끼리 곱함)과 행렬곱셈이 있음(전열과 후행의 갯수가 같아야함)"
   ]
  },
  {
   "cell_type": "code",
   "execution_count": null,
   "id": "b64523d0",
   "metadata": {},
   "outputs": [],
   "source": [
    "# (3, 5) * (5, 3) 은 곱하기 가능"
   ]
  },
  {
   "cell_type": "code",
   "execution_count": null,
   "id": "bf17c493",
   "metadata": {},
   "outputs": [],
   "source": [
    "# dot @ 등의 연산자로 곱셈함"
   ]
  },
  {
   "cell_type": "code",
   "execution_count": null,
   "id": "67302ef5",
   "metadata": {},
   "outputs": [],
   "source": [
    "# AB 는 A행렬과 B행렬의 행렬곱셈임"
   ]
  },
  {
   "cell_type": "code",
   "execution_count": null,
   "id": "1b2ef021",
   "metadata": {},
   "outputs": [],
   "source": [
    "arr = np.random.randn(6,3)\n",
    "arr"
   ]
  },
  {
   "cell_type": "code",
   "execution_count": null,
   "id": "c809c120",
   "metadata": {},
   "outputs": [],
   "source": [
    "arr.shape"
   ]
  },
  {
   "cell_type": "code",
   "execution_count": null,
   "id": "ed172d04",
   "metadata": {},
   "outputs": [],
   "source": [
    "np.dot(arr , arr)"
   ]
  },
  {
   "cell_type": "code",
   "execution_count": null,
   "id": "447bf856",
   "metadata": {},
   "outputs": [],
   "source": [
    "# 행열의 개수가 안맞아서 곱셈 안됨"
   ]
  },
  {
   "cell_type": "code",
   "execution_count": null,
   "id": "64c48e57",
   "metadata": {},
   "outputs": [],
   "source": [
    "arr.T.shape"
   ]
  },
  {
   "cell_type": "code",
   "execution_count": null,
   "id": "81344e08",
   "metadata": {},
   "outputs": [],
   "source": [
    "np.dot(arr.T, arr)"
   ]
  },
  {
   "cell_type": "code",
   "execution_count": null,
   "id": "f1f18d59",
   "metadata": {},
   "outputs": [],
   "source": [
    "# 연산 가능해짐"
   ]
  },
  {
   "cell_type": "code",
   "execution_count": null,
   "id": "784375e4",
   "metadata": {},
   "outputs": [],
   "source": [
    "arr.transpose(1, 0)"
   ]
  },
  {
   "cell_type": "code",
   "execution_count": null,
   "id": "9350536b",
   "metadata": {},
   "outputs": [],
   "source": [
    "# arr.T랑 같은 효과임"
   ]
  },
  {
   "cell_type": "code",
   "execution_count": null,
   "id": "6988fd56",
   "metadata": {},
   "outputs": [],
   "source": [
    "# 3차원도 곱해보자"
   ]
  },
  {
   "cell_type": "code",
   "execution_count": null,
   "id": "7881e8ba",
   "metadata": {},
   "outputs": [],
   "source": [
    "arr = np.arange(16).reshape((2, 2 , 4))\n",
    "arr"
   ]
  },
  {
   "cell_type": "code",
   "execution_count": null,
   "id": "c6dd80eb",
   "metadata": {},
   "outputs": [],
   "source": [
    "# 좌표가 입방체임"
   ]
  },
  {
   "cell_type": "code",
   "execution_count": null,
   "id": "aa0854dd",
   "metadata": {},
   "outputs": [],
   "source": [
    "# T 가능한게 3종으로 늘었다는 말임"
   ]
  },
  {
   "cell_type": "code",
   "execution_count": null,
   "id": "3c0284d7",
   "metadata": {},
   "outputs": [],
   "source": [
    "arr.transpose(1, 0, 2) # 원본은 0,1,2 임, 0번축과 1번축을 바꾸고 2번축은 그대로 둔거임"
   ]
  },
  {
   "cell_type": "code",
   "execution_count": null,
   "id": "1a6b28e8",
   "metadata": {},
   "outputs": [],
   "source": [
    "# T는 축이 2개일 때 까지만 사용 가능\n",
    "# 그 이상은 transpose 사용"
   ]
  },
  {
   "cell_type": "code",
   "execution_count": null,
   "id": "051c517e",
   "metadata": {},
   "outputs": [],
   "source": [
    "arr.swapaxes(1, 2)"
   ]
  },
  {
   "cell_type": "markdown",
   "id": "dd55d146",
   "metadata": {},
   "source": [
    "## 2. 유니버설 함수"
   ]
  },
  {
   "cell_type": "code",
   "execution_count": null,
   "id": "7303f483",
   "metadata": {},
   "outputs": [],
   "source": [
    "# ufunc adarray 안에 있는데이터 원소별로 연산을 수행하는 함수"
   ]
  },
  {
   "cell_type": "code",
   "execution_count": null,
   "id": "c1286aa2",
   "metadata": {},
   "outputs": [],
   "source": [
    "arr = np.arange(10)\n",
    "arr"
   ]
  },
  {
   "cell_type": "code",
   "execution_count": null,
   "id": "bf4ba3c8",
   "metadata": {},
   "outputs": [],
   "source": [
    "np.sqrt(arr)"
   ]
  },
  {
   "cell_type": "code",
   "execution_count": null,
   "id": "05e065d1",
   "metadata": {},
   "outputs": [],
   "source": [
    "np.exp(arr)"
   ]
  },
  {
   "cell_type": "code",
   "execution_count": null,
   "id": "e0968e6d",
   "metadata": {},
   "outputs": [],
   "source": [
    "# 일괄적으로 제곱근을 씌워라"
   ]
  },
  {
   "cell_type": "code",
   "execution_count": null,
   "id": "4c06295e",
   "metadata": {},
   "outputs": [],
   "source": [
    "x = np.random.randn(8)\n",
    "y = np.random.randn(8)"
   ]
  },
  {
   "cell_type": "code",
   "execution_count": null,
   "id": "3149b0f8",
   "metadata": {},
   "outputs": [],
   "source": [
    "x"
   ]
  },
  {
   "cell_type": "code",
   "execution_count": null,
   "id": "c40418e6",
   "metadata": {},
   "outputs": [],
   "source": [
    "y"
   ]
  },
  {
   "cell_type": "code",
   "execution_count": null,
   "id": "80543955",
   "metadata": {},
   "outputs": [],
   "source": [
    "np.maximum(x, y)"
   ]
  },
  {
   "cell_type": "code",
   "execution_count": null,
   "id": "34b9f374",
   "metadata": {},
   "outputs": [],
   "source": [
    "# 둘을 각 스텔라 별로 비교해서 더 큰 값만 출력해줌"
   ]
  },
  {
   "cell_type": "code",
   "execution_count": null,
   "id": "10f643e9",
   "metadata": {},
   "outputs": [],
   "source": [
    "arr = np.random.randn(7) * 5\n",
    "arr"
   ]
  },
  {
   "cell_type": "code",
   "execution_count": null,
   "id": "cf46c2cf",
   "metadata": {},
   "outputs": [],
   "source": [
    "np.modf(arr)"
   ]
  },
  {
   "cell_type": "code",
   "execution_count": null,
   "id": "8b7a4f48",
   "metadata": {},
   "outputs": [],
   "source": [
    "remainder, whole_part = np.modf(arr)"
   ]
  },
  {
   "cell_type": "code",
   "execution_count": null,
   "id": "5f0dfe5d",
   "metadata": {},
   "outputs": [],
   "source": [
    "remainder"
   ]
  },
  {
   "cell_type": "code",
   "execution_count": null,
   "id": "04f84233",
   "metadata": {},
   "outputs": [],
   "source": [
    "# 정수와 실수부를 나눠서 보여줌"
   ]
  },
  {
   "cell_type": "code",
   "execution_count": null,
   "id": "3af0b759",
   "metadata": {},
   "outputs": [],
   "source": [
    "arr = np.arange(10)\n",
    "arr"
   ]
  },
  {
   "cell_type": "code",
   "execution_count": null,
   "id": "1c9e5ca5",
   "metadata": {},
   "outputs": [],
   "source": [
    "np.sqrt(arr)\n",
    "arr"
   ]
  },
  {
   "cell_type": "code",
   "execution_count": null,
   "id": "bc284ea3",
   "metadata": {},
   "outputs": [],
   "source": [
    "# 결과를 저장 못함"
   ]
  },
  {
   "cell_type": "code",
   "execution_count": null,
   "id": "3572f557",
   "metadata": {},
   "outputs": [],
   "source": [
    "out = np.empty(10) # 공간이 빈 변수를 하나 만들어 둠"
   ]
  },
  {
   "cell_type": "code",
   "execution_count": null,
   "id": "6799b67f",
   "metadata": {},
   "outputs": [],
   "source": [
    "np.sqrt(arr, out)"
   ]
  },
  {
   "cell_type": "code",
   "execution_count": null,
   "id": "867cbd1d",
   "metadata": {},
   "outputs": [],
   "source": [
    "out"
   ]
  },
  {
   "cell_type": "code",
   "execution_count": null,
   "id": "760ff9e4",
   "metadata": {},
   "outputs": [],
   "source": [
    "# 결과물이 out에 들어가 있음"
   ]
  },
  {
   "cell_type": "markdown",
   "id": "2ff72eeb",
   "metadata": {},
   "source": [
    "#### (실습) 거리계산하기 - 파이썬과 넘파이를 이용해 비교해보자"
   ]
  },
  {
   "cell_type": "code",
   "execution_count": null,
   "id": "2415f866",
   "metadata": {},
   "outputs": [],
   "source": [
    "# 넘파이를 이용하여 점 사이의 거리를 계산해 보자\n",
    "# 직교 좌표 위에서 A는 (1,1), B는 (3,2), C는  (5,7)일 때 X(2,3)와 A/B/C 와의 거리를 각각 구하여라\n",
    "\n",
    "# 위 코드블럭을 이용하여 distMeasure 함수를 정의하라"
   ]
  },
  {
   "cell_type": "code",
   "execution_count": null,
   "id": "974ac4ab",
   "metadata": {},
   "outputs": [],
   "source": [
    "# in python"
   ]
  },
  {
   "cell_type": "code",
   "execution_count": null,
   "id": "5d479133",
   "metadata": {},
   "outputs": [],
   "source": [
    "# A B C X 의 좌표값을 넣어 각각을 정의한 후\n",
    "# 삼각함수를 이용해 거리를 계산한다.\n",
    "# 삼각함수에 사용된 수식이 distMeasure의 정이이다"
   ]
  },
  {
   "cell_type": "code",
   "execution_count": null,
   "id": "e38609a6",
   "metadata": {},
   "outputs": [],
   "source": [
    "# 풀이"
   ]
  },
  {
   "cell_type": "code",
   "execution_count": null,
   "id": "3f6915c5",
   "metadata": {},
   "outputs": [],
   "source": [
    "import math\n",
    "import numpy as np\n",
    "\n",
    "def distMeasure(x,a,b,c):\n",
    "    a_result = math.sqrt(abs(x[1]-a[1])*2 + abs(x[0]-a[0])*2)\n",
    "    b_result = math.sqrt(abs(x[1]-b[1])*2 + abs(x[0]-b[0])*2)\n",
    "    c_result = math.sqrt(abs(x[1]-c[1])*2 + abs(x[0]-c[0])*2)\n",
    "    \n",
    "    print(a_result)\n",
    "    print(b_result)\n",
    "    print(c_result)\n",
    "    \n",
    "    \n",
    "x = [2,3]\n",
    "a = [1,1]\n",
    "b = [3,2]\n",
    "c = [5,7]\n",
    "distMeasure(x,a,b,c)\n",
    "\n",
    "x_np = np.array(x)\n",
    "a_np = np.array(a)\n",
    "b_np = np.array(b)\n",
    "c_np = np.array(c)\n",
    "distMeasure(x_np,a_np,b_np,c_np)"
   ]
  },
  {
   "cell_type": "code",
   "execution_count": null,
   "id": "36ec16cc",
   "metadata": {},
   "outputs": [],
   "source": [
    "Xa = np.sqrt((2-1)**2+(3-1)**2)\n",
    "Xb = np.sqrt((2-3)**2+(3-2)**2)\n",
    "Xc = np.sqrt((2-5)**2+(3-7)**2)\n",
    "Xa, Xb, Xc"
   ]
  },
  {
   "cell_type": "code",
   "execution_count": null,
   "id": "a87779ae",
   "metadata": {},
   "outputs": [],
   "source": [
    "arr = [(1, 1), (3, 2), (5, 7)]\n",
    "x = (2, 3)\n",
    "def distMeasure(arr, x):\n",
    "    for i in arr:\n",
    "        print(np.sqrt((i[0]-x[0]) ** 2 + (i[1]-x[1]) ** 2))\n",
    "              \n",
    "distMeasure(arr, x)"
   ]
  },
  {
   "cell_type": "code",
   "execution_count": null,
   "id": "846588b7",
   "metadata": {},
   "outputs": [],
   "source": [
    "# 강사님 풀이"
   ]
  },
  {
   "cell_type": "code",
   "execution_count": 21,
   "id": "3e36bbb5",
   "metadata": {},
   "outputs": [],
   "source": [
    "from math import sqrt"
   ]
  },
  {
   "cell_type": "code",
   "execution_count": 22,
   "id": "74ecc322",
   "metadata": {},
   "outputs": [],
   "source": [
    "points = [[1,1],[3,2],[5,7]] # A B C\n",
    "X = [2,3]\n",
    "result = []"
   ]
  },
  {
   "cell_type": "code",
   "execution_count": 27,
   "id": "3ba610f6",
   "metadata": {
    "scrolled": true
   },
   "outputs": [
    {
     "ename": "ValueError",
     "evalue": "math domain error",
     "output_type": "error",
     "traceback": [
      "\u001b[1;31m---------------------------------------------------------------------------\u001b[0m",
      "\u001b[1;31mValueError\u001b[0m                                Traceback (most recent call last)",
      "\u001b[1;32m<ipython-input-27-ba351ce98aee>\u001b[0m in \u001b[0;36m<module>\u001b[1;34m\u001b[0m\n\u001b[0;32m      1\u001b[0m \u001b[1;32mfor\u001b[0m \u001b[0mpoint\u001b[0m \u001b[1;32min\u001b[0m \u001b[0mpoints\u001b[0m\u001b[1;33m:\u001b[0m\u001b[1;33m\u001b[0m\u001b[1;33m\u001b[0m\u001b[0m\n\u001b[1;32m----> 2\u001b[1;33m     \u001b[0mresult\u001b[0m\u001b[1;33m.\u001b[0m\u001b[0mappend\u001b[0m\u001b[1;33m(\u001b[0m\u001b[0msqrt\u001b[0m\u001b[1;33m(\u001b[0m\u001b[1;33m(\u001b[0m\u001b[0mpoint\u001b[0m\u001b[1;33m[\u001b[0m\u001b[1;36m0\u001b[0m\u001b[1;33m]\u001b[0m \u001b[1;33m-\u001b[0m \u001b[0mX\u001b[0m\u001b[1;33m[\u001b[0m\u001b[1;36m0\u001b[0m\u001b[1;33m]\u001b[0m\u001b[1;33m)\u001b[0m \u001b[1;33m**\u001b[0m \u001b[1;36m2\u001b[0m \u001b[1;33m+\u001b[0m \u001b[1;33m(\u001b[0m\u001b[0mpoint\u001b[0m\u001b[1;33m[\u001b[0m\u001b[1;36m1\u001b[0m\u001b[1;33m]\u001b[0m \u001b[1;33m-\u001b[0m \u001b[0mX\u001b[0m\u001b[1;33m[\u001b[0m\u001b[1;36m1\u001b[0m\u001b[1;33m]\u001b[0m \u001b[1;33m**\u001b[0m \u001b[1;36m2\u001b[0m\u001b[1;33m)\u001b[0m\u001b[1;33m)\u001b[0m\u001b[1;33m)\u001b[0m\u001b[1;33m\u001b[0m\u001b[1;33m\u001b[0m\u001b[0m\n\u001b[0m",
      "\u001b[1;31mValueError\u001b[0m: math domain error"
     ]
    }
   ],
   "source": [
    "for point in points:\n",
    "    result.append(sqrt((point[0] - X[0]) ** 2 + (point[1] - X[1] ** 2)))"
   ]
  },
  {
   "cell_type": "code",
   "execution_count": 8,
   "id": "53e5a7dc",
   "metadata": {},
   "outputs": [],
   "source": [
    "# 일단 위게거가 왜 안되는지는 한 번 더 확인해볼 것"
   ]
  },
  {
   "cell_type": "code",
   "execution_count": null,
   "id": "da8aab75",
   "metadata": {},
   "outputs": [],
   "source": []
  },
  {
   "cell_type": "code",
   "execution_count": 9,
   "id": "385313b9",
   "metadata": {},
   "outputs": [],
   "source": [
    "import numpy as np\n",
    "\n",
    "points = [[1,1],[3,2],[5,7]] # A B C\n",
    "X = [2,3]\n",
    "\n",
    "\n",
    "points_arr = np.array(points)\n",
    "X_arr = np.array(X)"
   ]
  },
  {
   "cell_type": "code",
   "execution_count": 10,
   "id": "50d076d3",
   "metadata": {},
   "outputs": [
    {
     "data": {
      "text/plain": [
       "array([[1, 1],\n",
       "       [3, 2],\n",
       "       [5, 7]])"
      ]
     },
     "execution_count": 10,
     "metadata": {},
     "output_type": "execute_result"
    }
   ],
   "source": [
    "points_arr"
   ]
  },
  {
   "cell_type": "code",
   "execution_count": 11,
   "id": "6f4a4c5e",
   "metadata": {},
   "outputs": [
    {
     "data": {
      "text/plain": [
       "array([2, 3])"
      ]
     },
     "execution_count": 11,
     "metadata": {},
     "output_type": "execute_result"
    }
   ],
   "source": [
    "X_arr"
   ]
  },
  {
   "cell_type": "code",
   "execution_count": 12,
   "id": "1bf19175",
   "metadata": {},
   "outputs": [
    {
     "data": {
      "text/plain": [
       "array([[-1, -2],\n",
       "       [ 1, -1],\n",
       "       [ 3,  4]])"
      ]
     },
     "execution_count": 12,
     "metadata": {},
     "output_type": "execute_result"
    }
   ],
   "source": [
    "points_arr - X_arr"
   ]
  },
  {
   "cell_type": "code",
   "execution_count": 13,
   "id": "4c652327",
   "metadata": {},
   "outputs": [
    {
     "data": {
      "text/plain": [
       "array([[ 1,  4],\n",
       "       [ 1,  1],\n",
       "       [ 9, 16]], dtype=int32)"
      ]
     },
     "execution_count": 13,
     "metadata": {},
     "output_type": "execute_result"
    }
   ],
   "source": [
    "(points_arr - X_arr) ** 2"
   ]
  },
  {
   "cell_type": "code",
   "execution_count": 14,
   "id": "00cf3dbe",
   "metadata": {},
   "outputs": [
    {
     "data": {
      "text/plain": [
       "32"
      ]
     },
     "execution_count": 14,
     "metadata": {},
     "output_type": "execute_result"
    }
   ],
   "source": [
    "np.sum((points_arr - X_arr) ** 2) # 그냥 이렇게 섬하면 안에 값을 전부 다더함"
   ]
  },
  {
   "cell_type": "code",
   "execution_count": 19,
   "id": "4d883cf7",
   "metadata": {},
   "outputs": [
    {
     "data": {
      "text/plain": [
       "array([ 5,  2, 25], dtype=int32)"
      ]
     },
     "execution_count": 19,
     "metadata": {},
     "output_type": "execute_result"
    }
   ],
   "source": [
    "np.sum((points_arr - X_arr) ** 2, axis=1)"
   ]
  },
  {
   "cell_type": "code",
   "execution_count": 20,
   "id": "775e8187",
   "metadata": {},
   "outputs": [
    {
     "data": {
      "text/plain": [
       "array([2.23606798, 1.41421356, 5.        ])"
      ]
     },
     "execution_count": 20,
     "metadata": {},
     "output_type": "execute_result"
    }
   ],
   "source": [
    "np.sqrt(np.sum((points_arr - X_arr) ** 2, axis=1)) # 이렇게 해서 결과값이 나와야함"
   ]
  },
  {
   "cell_type": "markdown",
   "id": "3b938d34",
   "metadata": {},
   "source": [
    "## 3. 배열을 이용한 배열지향 프로그래밍"
   ]
  },
  {
   "cell_type": "code",
   "execution_count": 28,
   "id": "a2adcc5d",
   "metadata": {},
   "outputs": [],
   "source": [
    "# numpy 배열을 사용하면 반복문 작성하지 않고 간결한 배열 연산을 사용해 많은 종류의 데이터 처리 작업을 할 수 있음"
   ]
  },
  {
   "cell_type": "code",
   "execution_count": 29,
   "id": "7fce16df",
   "metadata": {},
   "outputs": [],
   "source": [
    "# 순수 파이썬 연산보다 2~3배, 쵀대 수십~수백배 빠름"
   ]
  },
  {
   "cell_type": "code",
   "execution_count": 30,
   "id": "643f6c82",
   "metadata": {},
   "outputs": [],
   "source": [
    "# 브로드캐스팅도 강력한 벡터 연산 방법임"
   ]
  },
  {
   "cell_type": "code",
   "execution_count": 31,
   "id": "6ef8488e",
   "metadata": {},
   "outputs": [],
   "source": [
    "# sqrt(x^2 + y^2) 계산 예제"
   ]
  },
  {
   "cell_type": "code",
   "execution_count": null,
   "id": "a6aafdd4",
   "metadata": {},
   "outputs": [],
   "source": [
    "sqrt(x^2 + y^2)"
   ]
  },
  {
   "cell_type": "code",
   "execution_count": 32,
   "id": "8680c1b4",
   "metadata": {},
   "outputs": [],
   "source": [
    "# np.arange() # 파이썬의 range와 유사 = range(start, stop, step)"
   ]
  },
  {
   "cell_type": "code",
   "execution_count": 33,
   "id": "d05bf2d4",
   "metadata": {},
   "outputs": [],
   "source": [
    "points = np.arange(-5, 5, 0.01) # 1000개의 포인트 생성"
   ]
  },
  {
   "cell_type": "code",
   "execution_count": 34,
   "id": "7fde33db",
   "metadata": {},
   "outputs": [
    {
     "data": {
      "text/plain": [
       "array([-5.0000000e+00, -4.9900000e+00, -4.9800000e+00, -4.9700000e+00,\n",
       "       -4.9600000e+00, -4.9500000e+00, -4.9400000e+00, -4.9300000e+00,\n",
       "       -4.9200000e+00, -4.9100000e+00, -4.9000000e+00, -4.8900000e+00,\n",
       "       -4.8800000e+00, -4.8700000e+00, -4.8600000e+00, -4.8500000e+00,\n",
       "       -4.8400000e+00, -4.8300000e+00, -4.8200000e+00, -4.8100000e+00,\n",
       "       -4.8000000e+00, -4.7900000e+00, -4.7800000e+00, -4.7700000e+00,\n",
       "       -4.7600000e+00, -4.7500000e+00, -4.7400000e+00, -4.7300000e+00,\n",
       "       -4.7200000e+00, -4.7100000e+00, -4.7000000e+00, -4.6900000e+00,\n",
       "       -4.6800000e+00, -4.6700000e+00, -4.6600000e+00, -4.6500000e+00,\n",
       "       -4.6400000e+00, -4.6300000e+00, -4.6200000e+00, -4.6100000e+00,\n",
       "       -4.6000000e+00, -4.5900000e+00, -4.5800000e+00, -4.5700000e+00,\n",
       "       -4.5600000e+00, -4.5500000e+00, -4.5400000e+00, -4.5300000e+00,\n",
       "       -4.5200000e+00, -4.5100000e+00, -4.5000000e+00, -4.4900000e+00,\n",
       "       -4.4800000e+00, -4.4700000e+00, -4.4600000e+00, -4.4500000e+00,\n",
       "       -4.4400000e+00, -4.4300000e+00, -4.4200000e+00, -4.4100000e+00,\n",
       "       -4.4000000e+00, -4.3900000e+00, -4.3800000e+00, -4.3700000e+00,\n",
       "       -4.3600000e+00, -4.3500000e+00, -4.3400000e+00, -4.3300000e+00,\n",
       "       -4.3200000e+00, -4.3100000e+00, -4.3000000e+00, -4.2900000e+00,\n",
       "       -4.2800000e+00, -4.2700000e+00, -4.2600000e+00, -4.2500000e+00,\n",
       "       -4.2400000e+00, -4.2300000e+00, -4.2200000e+00, -4.2100000e+00,\n",
       "       -4.2000000e+00, -4.1900000e+00, -4.1800000e+00, -4.1700000e+00,\n",
       "       -4.1600000e+00, -4.1500000e+00, -4.1400000e+00, -4.1300000e+00,\n",
       "       -4.1200000e+00, -4.1100000e+00, -4.1000000e+00, -4.0900000e+00,\n",
       "       -4.0800000e+00, -4.0700000e+00, -4.0600000e+00, -4.0500000e+00,\n",
       "       -4.0400000e+00, -4.0300000e+00, -4.0200000e+00, -4.0100000e+00,\n",
       "       -4.0000000e+00, -3.9900000e+00, -3.9800000e+00, -3.9700000e+00,\n",
       "       -3.9600000e+00, -3.9500000e+00, -3.9400000e+00, -3.9300000e+00,\n",
       "       -3.9200000e+00, -3.9100000e+00, -3.9000000e+00, -3.8900000e+00,\n",
       "       -3.8800000e+00, -3.8700000e+00, -3.8600000e+00, -3.8500000e+00,\n",
       "       -3.8400000e+00, -3.8300000e+00, -3.8200000e+00, -3.8100000e+00,\n",
       "       -3.8000000e+00, -3.7900000e+00, -3.7800000e+00, -3.7700000e+00,\n",
       "       -3.7600000e+00, -3.7500000e+00, -3.7400000e+00, -3.7300000e+00,\n",
       "       -3.7200000e+00, -3.7100000e+00, -3.7000000e+00, -3.6900000e+00,\n",
       "       -3.6800000e+00, -3.6700000e+00, -3.6600000e+00, -3.6500000e+00,\n",
       "       -3.6400000e+00, -3.6300000e+00, -3.6200000e+00, -3.6100000e+00,\n",
       "       -3.6000000e+00, -3.5900000e+00, -3.5800000e+00, -3.5700000e+00,\n",
       "       -3.5600000e+00, -3.5500000e+00, -3.5400000e+00, -3.5300000e+00,\n",
       "       -3.5200000e+00, -3.5100000e+00, -3.5000000e+00, -3.4900000e+00,\n",
       "       -3.4800000e+00, -3.4700000e+00, -3.4600000e+00, -3.4500000e+00,\n",
       "       -3.4400000e+00, -3.4300000e+00, -3.4200000e+00, -3.4100000e+00,\n",
       "       -3.4000000e+00, -3.3900000e+00, -3.3800000e+00, -3.3700000e+00,\n",
       "       -3.3600000e+00, -3.3500000e+00, -3.3400000e+00, -3.3300000e+00,\n",
       "       -3.3200000e+00, -3.3100000e+00, -3.3000000e+00, -3.2900000e+00,\n",
       "       -3.2800000e+00, -3.2700000e+00, -3.2600000e+00, -3.2500000e+00,\n",
       "       -3.2400000e+00, -3.2300000e+00, -3.2200000e+00, -3.2100000e+00,\n",
       "       -3.2000000e+00, -3.1900000e+00, -3.1800000e+00, -3.1700000e+00,\n",
       "       -3.1600000e+00, -3.1500000e+00, -3.1400000e+00, -3.1300000e+00,\n",
       "       -3.1200000e+00, -3.1100000e+00, -3.1000000e+00, -3.0900000e+00,\n",
       "       -3.0800000e+00, -3.0700000e+00, -3.0600000e+00, -3.0500000e+00,\n",
       "       -3.0400000e+00, -3.0300000e+00, -3.0200000e+00, -3.0100000e+00,\n",
       "       -3.0000000e+00, -2.9900000e+00, -2.9800000e+00, -2.9700000e+00,\n",
       "       -2.9600000e+00, -2.9500000e+00, -2.9400000e+00, -2.9300000e+00,\n",
       "       -2.9200000e+00, -2.9100000e+00, -2.9000000e+00, -2.8900000e+00,\n",
       "       -2.8800000e+00, -2.8700000e+00, -2.8600000e+00, -2.8500000e+00,\n",
       "       -2.8400000e+00, -2.8300000e+00, -2.8200000e+00, -2.8100000e+00,\n",
       "       -2.8000000e+00, -2.7900000e+00, -2.7800000e+00, -2.7700000e+00,\n",
       "       -2.7600000e+00, -2.7500000e+00, -2.7400000e+00, -2.7300000e+00,\n",
       "       -2.7200000e+00, -2.7100000e+00, -2.7000000e+00, -2.6900000e+00,\n",
       "       -2.6800000e+00, -2.6700000e+00, -2.6600000e+00, -2.6500000e+00,\n",
       "       -2.6400000e+00, -2.6300000e+00, -2.6200000e+00, -2.6100000e+00,\n",
       "       -2.6000000e+00, -2.5900000e+00, -2.5800000e+00, -2.5700000e+00,\n",
       "       -2.5600000e+00, -2.5500000e+00, -2.5400000e+00, -2.5300000e+00,\n",
       "       -2.5200000e+00, -2.5100000e+00, -2.5000000e+00, -2.4900000e+00,\n",
       "       -2.4800000e+00, -2.4700000e+00, -2.4600000e+00, -2.4500000e+00,\n",
       "       -2.4400000e+00, -2.4300000e+00, -2.4200000e+00, -2.4100000e+00,\n",
       "       -2.4000000e+00, -2.3900000e+00, -2.3800000e+00, -2.3700000e+00,\n",
       "       -2.3600000e+00, -2.3500000e+00, -2.3400000e+00, -2.3300000e+00,\n",
       "       -2.3200000e+00, -2.3100000e+00, -2.3000000e+00, -2.2900000e+00,\n",
       "       -2.2800000e+00, -2.2700000e+00, -2.2600000e+00, -2.2500000e+00,\n",
       "       -2.2400000e+00, -2.2300000e+00, -2.2200000e+00, -2.2100000e+00,\n",
       "       -2.2000000e+00, -2.1900000e+00, -2.1800000e+00, -2.1700000e+00,\n",
       "       -2.1600000e+00, -2.1500000e+00, -2.1400000e+00, -2.1300000e+00,\n",
       "       -2.1200000e+00, -2.1100000e+00, -2.1000000e+00, -2.0900000e+00,\n",
       "       -2.0800000e+00, -2.0700000e+00, -2.0600000e+00, -2.0500000e+00,\n",
       "       -2.0400000e+00, -2.0300000e+00, -2.0200000e+00, -2.0100000e+00,\n",
       "       -2.0000000e+00, -1.9900000e+00, -1.9800000e+00, -1.9700000e+00,\n",
       "       -1.9600000e+00, -1.9500000e+00, -1.9400000e+00, -1.9300000e+00,\n",
       "       -1.9200000e+00, -1.9100000e+00, -1.9000000e+00, -1.8900000e+00,\n",
       "       -1.8800000e+00, -1.8700000e+00, -1.8600000e+00, -1.8500000e+00,\n",
       "       -1.8400000e+00, -1.8300000e+00, -1.8200000e+00, -1.8100000e+00,\n",
       "       -1.8000000e+00, -1.7900000e+00, -1.7800000e+00, -1.7700000e+00,\n",
       "       -1.7600000e+00, -1.7500000e+00, -1.7400000e+00, -1.7300000e+00,\n",
       "       -1.7200000e+00, -1.7100000e+00, -1.7000000e+00, -1.6900000e+00,\n",
       "       -1.6800000e+00, -1.6700000e+00, -1.6600000e+00, -1.6500000e+00,\n",
       "       -1.6400000e+00, -1.6300000e+00, -1.6200000e+00, -1.6100000e+00,\n",
       "       -1.6000000e+00, -1.5900000e+00, -1.5800000e+00, -1.5700000e+00,\n",
       "       -1.5600000e+00, -1.5500000e+00, -1.5400000e+00, -1.5300000e+00,\n",
       "       -1.5200000e+00, -1.5100000e+00, -1.5000000e+00, -1.4900000e+00,\n",
       "       -1.4800000e+00, -1.4700000e+00, -1.4600000e+00, -1.4500000e+00,\n",
       "       -1.4400000e+00, -1.4300000e+00, -1.4200000e+00, -1.4100000e+00,\n",
       "       -1.4000000e+00, -1.3900000e+00, -1.3800000e+00, -1.3700000e+00,\n",
       "       -1.3600000e+00, -1.3500000e+00, -1.3400000e+00, -1.3300000e+00,\n",
       "       -1.3200000e+00, -1.3100000e+00, -1.3000000e+00, -1.2900000e+00,\n",
       "       -1.2800000e+00, -1.2700000e+00, -1.2600000e+00, -1.2500000e+00,\n",
       "       -1.2400000e+00, -1.2300000e+00, -1.2200000e+00, -1.2100000e+00,\n",
       "       -1.2000000e+00, -1.1900000e+00, -1.1800000e+00, -1.1700000e+00,\n",
       "       -1.1600000e+00, -1.1500000e+00, -1.1400000e+00, -1.1300000e+00,\n",
       "       -1.1200000e+00, -1.1100000e+00, -1.1000000e+00, -1.0900000e+00,\n",
       "       -1.0800000e+00, -1.0700000e+00, -1.0600000e+00, -1.0500000e+00,\n",
       "       -1.0400000e+00, -1.0300000e+00, -1.0200000e+00, -1.0100000e+00,\n",
       "       -1.0000000e+00, -9.9000000e-01, -9.8000000e-01, -9.7000000e-01,\n",
       "       -9.6000000e-01, -9.5000000e-01, -9.4000000e-01, -9.3000000e-01,\n",
       "       -9.2000000e-01, -9.1000000e-01, -9.0000000e-01, -8.9000000e-01,\n",
       "       -8.8000000e-01, -8.7000000e-01, -8.6000000e-01, -8.5000000e-01,\n",
       "       -8.4000000e-01, -8.3000000e-01, -8.2000000e-01, -8.1000000e-01,\n",
       "       -8.0000000e-01, -7.9000000e-01, -7.8000000e-01, -7.7000000e-01,\n",
       "       -7.6000000e-01, -7.5000000e-01, -7.4000000e-01, -7.3000000e-01,\n",
       "       -7.2000000e-01, -7.1000000e-01, -7.0000000e-01, -6.9000000e-01,\n",
       "       -6.8000000e-01, -6.7000000e-01, -6.6000000e-01, -6.5000000e-01,\n",
       "       -6.4000000e-01, -6.3000000e-01, -6.2000000e-01, -6.1000000e-01,\n",
       "       -6.0000000e-01, -5.9000000e-01, -5.8000000e-01, -5.7000000e-01,\n",
       "       -5.6000000e-01, -5.5000000e-01, -5.4000000e-01, -5.3000000e-01,\n",
       "       -5.2000000e-01, -5.1000000e-01, -5.0000000e-01, -4.9000000e-01,\n",
       "       -4.8000000e-01, -4.7000000e-01, -4.6000000e-01, -4.5000000e-01,\n",
       "       -4.4000000e-01, -4.3000000e-01, -4.2000000e-01, -4.1000000e-01,\n",
       "       -4.0000000e-01, -3.9000000e-01, -3.8000000e-01, -3.7000000e-01,\n",
       "       -3.6000000e-01, -3.5000000e-01, -3.4000000e-01, -3.3000000e-01,\n",
       "       -3.2000000e-01, -3.1000000e-01, -3.0000000e-01, -2.9000000e-01,\n",
       "       -2.8000000e-01, -2.7000000e-01, -2.6000000e-01, -2.5000000e-01,\n",
       "       -2.4000000e-01, -2.3000000e-01, -2.2000000e-01, -2.1000000e-01,\n",
       "       -2.0000000e-01, -1.9000000e-01, -1.8000000e-01, -1.7000000e-01,\n",
       "       -1.6000000e-01, -1.5000000e-01, -1.4000000e-01, -1.3000000e-01,\n",
       "       -1.2000000e-01, -1.1000000e-01, -1.0000000e-01, -9.0000000e-02,\n",
       "       -8.0000000e-02, -7.0000000e-02, -6.0000000e-02, -5.0000000e-02,\n",
       "       -4.0000000e-02, -3.0000000e-02, -2.0000000e-02, -1.0000000e-02,\n",
       "       -1.0658141e-13,  1.0000000e-02,  2.0000000e-02,  3.0000000e-02,\n",
       "        4.0000000e-02,  5.0000000e-02,  6.0000000e-02,  7.0000000e-02,\n",
       "        8.0000000e-02,  9.0000000e-02,  1.0000000e-01,  1.1000000e-01,\n",
       "        1.2000000e-01,  1.3000000e-01,  1.4000000e-01,  1.5000000e-01,\n",
       "        1.6000000e-01,  1.7000000e-01,  1.8000000e-01,  1.9000000e-01,\n",
       "        2.0000000e-01,  2.1000000e-01,  2.2000000e-01,  2.3000000e-01,\n",
       "        2.4000000e-01,  2.5000000e-01,  2.6000000e-01,  2.7000000e-01,\n",
       "        2.8000000e-01,  2.9000000e-01,  3.0000000e-01,  3.1000000e-01,\n",
       "        3.2000000e-01,  3.3000000e-01,  3.4000000e-01,  3.5000000e-01,\n",
       "        3.6000000e-01,  3.7000000e-01,  3.8000000e-01,  3.9000000e-01,\n",
       "        4.0000000e-01,  4.1000000e-01,  4.2000000e-01,  4.3000000e-01,\n",
       "        4.4000000e-01,  4.5000000e-01,  4.6000000e-01,  4.7000000e-01,\n",
       "        4.8000000e-01,  4.9000000e-01,  5.0000000e-01,  5.1000000e-01,\n",
       "        5.2000000e-01,  5.3000000e-01,  5.4000000e-01,  5.5000000e-01,\n",
       "        5.6000000e-01,  5.7000000e-01,  5.8000000e-01,  5.9000000e-01,\n",
       "        6.0000000e-01,  6.1000000e-01,  6.2000000e-01,  6.3000000e-01,\n",
       "        6.4000000e-01,  6.5000000e-01,  6.6000000e-01,  6.7000000e-01,\n",
       "        6.8000000e-01,  6.9000000e-01,  7.0000000e-01,  7.1000000e-01,\n",
       "        7.2000000e-01,  7.3000000e-01,  7.4000000e-01,  7.5000000e-01,\n",
       "        7.6000000e-01,  7.7000000e-01,  7.8000000e-01,  7.9000000e-01,\n",
       "        8.0000000e-01,  8.1000000e-01,  8.2000000e-01,  8.3000000e-01,\n",
       "        8.4000000e-01,  8.5000000e-01,  8.6000000e-01,  8.7000000e-01,\n",
       "        8.8000000e-01,  8.9000000e-01,  9.0000000e-01,  9.1000000e-01,\n",
       "        9.2000000e-01,  9.3000000e-01,  9.4000000e-01,  9.5000000e-01,\n",
       "        9.6000000e-01,  9.7000000e-01,  9.8000000e-01,  9.9000000e-01,\n",
       "        1.0000000e+00,  1.0100000e+00,  1.0200000e+00,  1.0300000e+00,\n",
       "        1.0400000e+00,  1.0500000e+00,  1.0600000e+00,  1.0700000e+00,\n",
       "        1.0800000e+00,  1.0900000e+00,  1.1000000e+00,  1.1100000e+00,\n",
       "        1.1200000e+00,  1.1300000e+00,  1.1400000e+00,  1.1500000e+00,\n",
       "        1.1600000e+00,  1.1700000e+00,  1.1800000e+00,  1.1900000e+00,\n",
       "        1.2000000e+00,  1.2100000e+00,  1.2200000e+00,  1.2300000e+00,\n",
       "        1.2400000e+00,  1.2500000e+00,  1.2600000e+00,  1.2700000e+00,\n",
       "        1.2800000e+00,  1.2900000e+00,  1.3000000e+00,  1.3100000e+00,\n",
       "        1.3200000e+00,  1.3300000e+00,  1.3400000e+00,  1.3500000e+00,\n",
       "        1.3600000e+00,  1.3700000e+00,  1.3800000e+00,  1.3900000e+00,\n",
       "        1.4000000e+00,  1.4100000e+00,  1.4200000e+00,  1.4300000e+00,\n",
       "        1.4400000e+00,  1.4500000e+00,  1.4600000e+00,  1.4700000e+00,\n",
       "        1.4800000e+00,  1.4900000e+00,  1.5000000e+00,  1.5100000e+00,\n",
       "        1.5200000e+00,  1.5300000e+00,  1.5400000e+00,  1.5500000e+00,\n",
       "        1.5600000e+00,  1.5700000e+00,  1.5800000e+00,  1.5900000e+00,\n",
       "        1.6000000e+00,  1.6100000e+00,  1.6200000e+00,  1.6300000e+00,\n",
       "        1.6400000e+00,  1.6500000e+00,  1.6600000e+00,  1.6700000e+00,\n",
       "        1.6800000e+00,  1.6900000e+00,  1.7000000e+00,  1.7100000e+00,\n",
       "        1.7200000e+00,  1.7300000e+00,  1.7400000e+00,  1.7500000e+00,\n",
       "        1.7600000e+00,  1.7700000e+00,  1.7800000e+00,  1.7900000e+00,\n",
       "        1.8000000e+00,  1.8100000e+00,  1.8200000e+00,  1.8300000e+00,\n",
       "        1.8400000e+00,  1.8500000e+00,  1.8600000e+00,  1.8700000e+00,\n",
       "        1.8800000e+00,  1.8900000e+00,  1.9000000e+00,  1.9100000e+00,\n",
       "        1.9200000e+00,  1.9300000e+00,  1.9400000e+00,  1.9500000e+00,\n",
       "        1.9600000e+00,  1.9700000e+00,  1.9800000e+00,  1.9900000e+00,\n",
       "        2.0000000e+00,  2.0100000e+00,  2.0200000e+00,  2.0300000e+00,\n",
       "        2.0400000e+00,  2.0500000e+00,  2.0600000e+00,  2.0700000e+00,\n",
       "        2.0800000e+00,  2.0900000e+00,  2.1000000e+00,  2.1100000e+00,\n",
       "        2.1200000e+00,  2.1300000e+00,  2.1400000e+00,  2.1500000e+00,\n",
       "        2.1600000e+00,  2.1700000e+00,  2.1800000e+00,  2.1900000e+00,\n",
       "        2.2000000e+00,  2.2100000e+00,  2.2200000e+00,  2.2300000e+00,\n",
       "        2.2400000e+00,  2.2500000e+00,  2.2600000e+00,  2.2700000e+00,\n",
       "        2.2800000e+00,  2.2900000e+00,  2.3000000e+00,  2.3100000e+00,\n",
       "        2.3200000e+00,  2.3300000e+00,  2.3400000e+00,  2.3500000e+00,\n",
       "        2.3600000e+00,  2.3700000e+00,  2.3800000e+00,  2.3900000e+00,\n",
       "        2.4000000e+00,  2.4100000e+00,  2.4200000e+00,  2.4300000e+00,\n",
       "        2.4400000e+00,  2.4500000e+00,  2.4600000e+00,  2.4700000e+00,\n",
       "        2.4800000e+00,  2.4900000e+00,  2.5000000e+00,  2.5100000e+00,\n",
       "        2.5200000e+00,  2.5300000e+00,  2.5400000e+00,  2.5500000e+00,\n",
       "        2.5600000e+00,  2.5700000e+00,  2.5800000e+00,  2.5900000e+00,\n",
       "        2.6000000e+00,  2.6100000e+00,  2.6200000e+00,  2.6300000e+00,\n",
       "        2.6400000e+00,  2.6500000e+00,  2.6600000e+00,  2.6700000e+00,\n",
       "        2.6800000e+00,  2.6900000e+00,  2.7000000e+00,  2.7100000e+00,\n",
       "        2.7200000e+00,  2.7300000e+00,  2.7400000e+00,  2.7500000e+00,\n",
       "        2.7600000e+00,  2.7700000e+00,  2.7800000e+00,  2.7900000e+00,\n",
       "        2.8000000e+00,  2.8100000e+00,  2.8200000e+00,  2.8300000e+00,\n",
       "        2.8400000e+00,  2.8500000e+00,  2.8600000e+00,  2.8700000e+00,\n",
       "        2.8800000e+00,  2.8900000e+00,  2.9000000e+00,  2.9100000e+00,\n",
       "        2.9200000e+00,  2.9300000e+00,  2.9400000e+00,  2.9500000e+00,\n",
       "        2.9600000e+00,  2.9700000e+00,  2.9800000e+00,  2.9900000e+00,\n",
       "        3.0000000e+00,  3.0100000e+00,  3.0200000e+00,  3.0300000e+00,\n",
       "        3.0400000e+00,  3.0500000e+00,  3.0600000e+00,  3.0700000e+00,\n",
       "        3.0800000e+00,  3.0900000e+00,  3.1000000e+00,  3.1100000e+00,\n",
       "        3.1200000e+00,  3.1300000e+00,  3.1400000e+00,  3.1500000e+00,\n",
       "        3.1600000e+00,  3.1700000e+00,  3.1800000e+00,  3.1900000e+00,\n",
       "        3.2000000e+00,  3.2100000e+00,  3.2200000e+00,  3.2300000e+00,\n",
       "        3.2400000e+00,  3.2500000e+00,  3.2600000e+00,  3.2700000e+00,\n",
       "        3.2800000e+00,  3.2900000e+00,  3.3000000e+00,  3.3100000e+00,\n",
       "        3.3200000e+00,  3.3300000e+00,  3.3400000e+00,  3.3500000e+00,\n",
       "        3.3600000e+00,  3.3700000e+00,  3.3800000e+00,  3.3900000e+00,\n",
       "        3.4000000e+00,  3.4100000e+00,  3.4200000e+00,  3.4300000e+00,\n",
       "        3.4400000e+00,  3.4500000e+00,  3.4600000e+00,  3.4700000e+00,\n",
       "        3.4800000e+00,  3.4900000e+00,  3.5000000e+00,  3.5100000e+00,\n",
       "        3.5200000e+00,  3.5300000e+00,  3.5400000e+00,  3.5500000e+00,\n",
       "        3.5600000e+00,  3.5700000e+00,  3.5800000e+00,  3.5900000e+00,\n",
       "        3.6000000e+00,  3.6100000e+00,  3.6200000e+00,  3.6300000e+00,\n",
       "        3.6400000e+00,  3.6500000e+00,  3.6600000e+00,  3.6700000e+00,\n",
       "        3.6800000e+00,  3.6900000e+00,  3.7000000e+00,  3.7100000e+00,\n",
       "        3.7200000e+00,  3.7300000e+00,  3.7400000e+00,  3.7500000e+00,\n",
       "        3.7600000e+00,  3.7700000e+00,  3.7800000e+00,  3.7900000e+00,\n",
       "        3.8000000e+00,  3.8100000e+00,  3.8200000e+00,  3.8300000e+00,\n",
       "        3.8400000e+00,  3.8500000e+00,  3.8600000e+00,  3.8700000e+00,\n",
       "        3.8800000e+00,  3.8900000e+00,  3.9000000e+00,  3.9100000e+00,\n",
       "        3.9200000e+00,  3.9300000e+00,  3.9400000e+00,  3.9500000e+00,\n",
       "        3.9600000e+00,  3.9700000e+00,  3.9800000e+00,  3.9900000e+00,\n",
       "        4.0000000e+00,  4.0100000e+00,  4.0200000e+00,  4.0300000e+00,\n",
       "        4.0400000e+00,  4.0500000e+00,  4.0600000e+00,  4.0700000e+00,\n",
       "        4.0800000e+00,  4.0900000e+00,  4.1000000e+00,  4.1100000e+00,\n",
       "        4.1200000e+00,  4.1300000e+00,  4.1400000e+00,  4.1500000e+00,\n",
       "        4.1600000e+00,  4.1700000e+00,  4.1800000e+00,  4.1900000e+00,\n",
       "        4.2000000e+00,  4.2100000e+00,  4.2200000e+00,  4.2300000e+00,\n",
       "        4.2400000e+00,  4.2500000e+00,  4.2600000e+00,  4.2700000e+00,\n",
       "        4.2800000e+00,  4.2900000e+00,  4.3000000e+00,  4.3100000e+00,\n",
       "        4.3200000e+00,  4.3300000e+00,  4.3400000e+00,  4.3500000e+00,\n",
       "        4.3600000e+00,  4.3700000e+00,  4.3800000e+00,  4.3900000e+00,\n",
       "        4.4000000e+00,  4.4100000e+00,  4.4200000e+00,  4.4300000e+00,\n",
       "        4.4400000e+00,  4.4500000e+00,  4.4600000e+00,  4.4700000e+00,\n",
       "        4.4800000e+00,  4.4900000e+00,  4.5000000e+00,  4.5100000e+00,\n",
       "        4.5200000e+00,  4.5300000e+00,  4.5400000e+00,  4.5500000e+00,\n",
       "        4.5600000e+00,  4.5700000e+00,  4.5800000e+00,  4.5900000e+00,\n",
       "        4.6000000e+00,  4.6100000e+00,  4.6200000e+00,  4.6300000e+00,\n",
       "        4.6400000e+00,  4.6500000e+00,  4.6600000e+00,  4.6700000e+00,\n",
       "        4.6800000e+00,  4.6900000e+00,  4.7000000e+00,  4.7100000e+00,\n",
       "        4.7200000e+00,  4.7300000e+00,  4.7400000e+00,  4.7500000e+00,\n",
       "        4.7600000e+00,  4.7700000e+00,  4.7800000e+00,  4.7900000e+00,\n",
       "        4.8000000e+00,  4.8100000e+00,  4.8200000e+00,  4.8300000e+00,\n",
       "        4.8400000e+00,  4.8500000e+00,  4.8600000e+00,  4.8700000e+00,\n",
       "        4.8800000e+00,  4.8900000e+00,  4.9000000e+00,  4.9100000e+00,\n",
       "        4.9200000e+00,  4.9300000e+00,  4.9400000e+00,  4.9500000e+00,\n",
       "        4.9600000e+00,  4.9700000e+00,  4.9800000e+00,  4.9900000e+00])"
      ]
     },
     "execution_count": 34,
     "metadata": {},
     "output_type": "execute_result"
    }
   ],
   "source": [
    "points"
   ]
  },
  {
   "cell_type": "markdown",
   "id": "36eadf2d",
   "metadata": {},
   "source": [
    "* meshgrid 참고"
   ]
  },
  {
   "cell_type": "code",
   "execution_count": 37,
   "id": "1bd0bba2",
   "metadata": {},
   "outputs": [
    {
     "data": {
      "text/plain": [
       "[array([[1, 2, 3],\n",
       "        [1, 2, 3],\n",
       "        [1, 2, 3]]),\n",
       " array([[1, 1, 1],\n",
       "        [2, 2, 2],\n",
       "        [3, 3, 3]])]"
      ]
     },
     "execution_count": 37,
     "metadata": {},
     "output_type": "execute_result"
    }
   ],
   "source": [
    "x = np.array([1,2,3])\n",
    "y = np.array([1,2,3])\n",
    "\n",
    "np.meshgrid(x,y)"
   ]
  },
  {
   "cell_type": "code",
   "execution_count": 38,
   "id": "31bdad1b",
   "metadata": {},
   "outputs": [],
   "source": [
    "# 이게 뭘 의미하느냐???"
   ]
  },
  {
   "cell_type": "code",
   "execution_count": 39,
   "id": "40f08abd",
   "metadata": {},
   "outputs": [],
   "source": [
    "# 그리드를 만들 수 있는 좌표가 생겨난거임"
   ]
  },
  {
   "cell_type": "code",
   "execution_count": 40,
   "id": "51247749",
   "metadata": {},
   "outputs": [],
   "source": [
    "# 위 아래 결과값 기준, 1,1, 1,2, 1,3 / 2,1, 2,2, 2,3 .... 이런식으로 좌표들이 생성된거임"
   ]
  },
  {
   "cell_type": "markdown",
   "id": "d3c46496",
   "metadata": {},
   "source": [
    "* meshgrid 참고 끝"
   ]
  },
  {
   "cell_type": "code",
   "execution_count": 42,
   "id": "9e1ff817",
   "metadata": {},
   "outputs": [
    {
     "data": {
      "text/plain": [
       "array([-5.0000000e+00, -4.9900000e+00, -4.9800000e+00, -4.9700000e+00,\n",
       "       -4.9600000e+00, -4.9500000e+00, -4.9400000e+00, -4.9300000e+00,\n",
       "       -4.9200000e+00, -4.9100000e+00, -4.9000000e+00, -4.8900000e+00,\n",
       "       -4.8800000e+00, -4.8700000e+00, -4.8600000e+00, -4.8500000e+00,\n",
       "       -4.8400000e+00, -4.8300000e+00, -4.8200000e+00, -4.8100000e+00,\n",
       "       -4.8000000e+00, -4.7900000e+00, -4.7800000e+00, -4.7700000e+00,\n",
       "       -4.7600000e+00, -4.7500000e+00, -4.7400000e+00, -4.7300000e+00,\n",
       "       -4.7200000e+00, -4.7100000e+00, -4.7000000e+00, -4.6900000e+00,\n",
       "       -4.6800000e+00, -4.6700000e+00, -4.6600000e+00, -4.6500000e+00,\n",
       "       -4.6400000e+00, -4.6300000e+00, -4.6200000e+00, -4.6100000e+00,\n",
       "       -4.6000000e+00, -4.5900000e+00, -4.5800000e+00, -4.5700000e+00,\n",
       "       -4.5600000e+00, -4.5500000e+00, -4.5400000e+00, -4.5300000e+00,\n",
       "       -4.5200000e+00, -4.5100000e+00, -4.5000000e+00, -4.4900000e+00,\n",
       "       -4.4800000e+00, -4.4700000e+00, -4.4600000e+00, -4.4500000e+00,\n",
       "       -4.4400000e+00, -4.4300000e+00, -4.4200000e+00, -4.4100000e+00,\n",
       "       -4.4000000e+00, -4.3900000e+00, -4.3800000e+00, -4.3700000e+00,\n",
       "       -4.3600000e+00, -4.3500000e+00, -4.3400000e+00, -4.3300000e+00,\n",
       "       -4.3200000e+00, -4.3100000e+00, -4.3000000e+00, -4.2900000e+00,\n",
       "       -4.2800000e+00, -4.2700000e+00, -4.2600000e+00, -4.2500000e+00,\n",
       "       -4.2400000e+00, -4.2300000e+00, -4.2200000e+00, -4.2100000e+00,\n",
       "       -4.2000000e+00, -4.1900000e+00, -4.1800000e+00, -4.1700000e+00,\n",
       "       -4.1600000e+00, -4.1500000e+00, -4.1400000e+00, -4.1300000e+00,\n",
       "       -4.1200000e+00, -4.1100000e+00, -4.1000000e+00, -4.0900000e+00,\n",
       "       -4.0800000e+00, -4.0700000e+00, -4.0600000e+00, -4.0500000e+00,\n",
       "       -4.0400000e+00, -4.0300000e+00, -4.0200000e+00, -4.0100000e+00,\n",
       "       -4.0000000e+00, -3.9900000e+00, -3.9800000e+00, -3.9700000e+00,\n",
       "       -3.9600000e+00, -3.9500000e+00, -3.9400000e+00, -3.9300000e+00,\n",
       "       -3.9200000e+00, -3.9100000e+00, -3.9000000e+00, -3.8900000e+00,\n",
       "       -3.8800000e+00, -3.8700000e+00, -3.8600000e+00, -3.8500000e+00,\n",
       "       -3.8400000e+00, -3.8300000e+00, -3.8200000e+00, -3.8100000e+00,\n",
       "       -3.8000000e+00, -3.7900000e+00, -3.7800000e+00, -3.7700000e+00,\n",
       "       -3.7600000e+00, -3.7500000e+00, -3.7400000e+00, -3.7300000e+00,\n",
       "       -3.7200000e+00, -3.7100000e+00, -3.7000000e+00, -3.6900000e+00,\n",
       "       -3.6800000e+00, -3.6700000e+00, -3.6600000e+00, -3.6500000e+00,\n",
       "       -3.6400000e+00, -3.6300000e+00, -3.6200000e+00, -3.6100000e+00,\n",
       "       -3.6000000e+00, -3.5900000e+00, -3.5800000e+00, -3.5700000e+00,\n",
       "       -3.5600000e+00, -3.5500000e+00, -3.5400000e+00, -3.5300000e+00,\n",
       "       -3.5200000e+00, -3.5100000e+00, -3.5000000e+00, -3.4900000e+00,\n",
       "       -3.4800000e+00, -3.4700000e+00, -3.4600000e+00, -3.4500000e+00,\n",
       "       -3.4400000e+00, -3.4300000e+00, -3.4200000e+00, -3.4100000e+00,\n",
       "       -3.4000000e+00, -3.3900000e+00, -3.3800000e+00, -3.3700000e+00,\n",
       "       -3.3600000e+00, -3.3500000e+00, -3.3400000e+00, -3.3300000e+00,\n",
       "       -3.3200000e+00, -3.3100000e+00, -3.3000000e+00, -3.2900000e+00,\n",
       "       -3.2800000e+00, -3.2700000e+00, -3.2600000e+00, -3.2500000e+00,\n",
       "       -3.2400000e+00, -3.2300000e+00, -3.2200000e+00, -3.2100000e+00,\n",
       "       -3.2000000e+00, -3.1900000e+00, -3.1800000e+00, -3.1700000e+00,\n",
       "       -3.1600000e+00, -3.1500000e+00, -3.1400000e+00, -3.1300000e+00,\n",
       "       -3.1200000e+00, -3.1100000e+00, -3.1000000e+00, -3.0900000e+00,\n",
       "       -3.0800000e+00, -3.0700000e+00, -3.0600000e+00, -3.0500000e+00,\n",
       "       -3.0400000e+00, -3.0300000e+00, -3.0200000e+00, -3.0100000e+00,\n",
       "       -3.0000000e+00, -2.9900000e+00, -2.9800000e+00, -2.9700000e+00,\n",
       "       -2.9600000e+00, -2.9500000e+00, -2.9400000e+00, -2.9300000e+00,\n",
       "       -2.9200000e+00, -2.9100000e+00, -2.9000000e+00, -2.8900000e+00,\n",
       "       -2.8800000e+00, -2.8700000e+00, -2.8600000e+00, -2.8500000e+00,\n",
       "       -2.8400000e+00, -2.8300000e+00, -2.8200000e+00, -2.8100000e+00,\n",
       "       -2.8000000e+00, -2.7900000e+00, -2.7800000e+00, -2.7700000e+00,\n",
       "       -2.7600000e+00, -2.7500000e+00, -2.7400000e+00, -2.7300000e+00,\n",
       "       -2.7200000e+00, -2.7100000e+00, -2.7000000e+00, -2.6900000e+00,\n",
       "       -2.6800000e+00, -2.6700000e+00, -2.6600000e+00, -2.6500000e+00,\n",
       "       -2.6400000e+00, -2.6300000e+00, -2.6200000e+00, -2.6100000e+00,\n",
       "       -2.6000000e+00, -2.5900000e+00, -2.5800000e+00, -2.5700000e+00,\n",
       "       -2.5600000e+00, -2.5500000e+00, -2.5400000e+00, -2.5300000e+00,\n",
       "       -2.5200000e+00, -2.5100000e+00, -2.5000000e+00, -2.4900000e+00,\n",
       "       -2.4800000e+00, -2.4700000e+00, -2.4600000e+00, -2.4500000e+00,\n",
       "       -2.4400000e+00, -2.4300000e+00, -2.4200000e+00, -2.4100000e+00,\n",
       "       -2.4000000e+00, -2.3900000e+00, -2.3800000e+00, -2.3700000e+00,\n",
       "       -2.3600000e+00, -2.3500000e+00, -2.3400000e+00, -2.3300000e+00,\n",
       "       -2.3200000e+00, -2.3100000e+00, -2.3000000e+00, -2.2900000e+00,\n",
       "       -2.2800000e+00, -2.2700000e+00, -2.2600000e+00, -2.2500000e+00,\n",
       "       -2.2400000e+00, -2.2300000e+00, -2.2200000e+00, -2.2100000e+00,\n",
       "       -2.2000000e+00, -2.1900000e+00, -2.1800000e+00, -2.1700000e+00,\n",
       "       -2.1600000e+00, -2.1500000e+00, -2.1400000e+00, -2.1300000e+00,\n",
       "       -2.1200000e+00, -2.1100000e+00, -2.1000000e+00, -2.0900000e+00,\n",
       "       -2.0800000e+00, -2.0700000e+00, -2.0600000e+00, -2.0500000e+00,\n",
       "       -2.0400000e+00, -2.0300000e+00, -2.0200000e+00, -2.0100000e+00,\n",
       "       -2.0000000e+00, -1.9900000e+00, -1.9800000e+00, -1.9700000e+00,\n",
       "       -1.9600000e+00, -1.9500000e+00, -1.9400000e+00, -1.9300000e+00,\n",
       "       -1.9200000e+00, -1.9100000e+00, -1.9000000e+00, -1.8900000e+00,\n",
       "       -1.8800000e+00, -1.8700000e+00, -1.8600000e+00, -1.8500000e+00,\n",
       "       -1.8400000e+00, -1.8300000e+00, -1.8200000e+00, -1.8100000e+00,\n",
       "       -1.8000000e+00, -1.7900000e+00, -1.7800000e+00, -1.7700000e+00,\n",
       "       -1.7600000e+00, -1.7500000e+00, -1.7400000e+00, -1.7300000e+00,\n",
       "       -1.7200000e+00, -1.7100000e+00, -1.7000000e+00, -1.6900000e+00,\n",
       "       -1.6800000e+00, -1.6700000e+00, -1.6600000e+00, -1.6500000e+00,\n",
       "       -1.6400000e+00, -1.6300000e+00, -1.6200000e+00, -1.6100000e+00,\n",
       "       -1.6000000e+00, -1.5900000e+00, -1.5800000e+00, -1.5700000e+00,\n",
       "       -1.5600000e+00, -1.5500000e+00, -1.5400000e+00, -1.5300000e+00,\n",
       "       -1.5200000e+00, -1.5100000e+00, -1.5000000e+00, -1.4900000e+00,\n",
       "       -1.4800000e+00, -1.4700000e+00, -1.4600000e+00, -1.4500000e+00,\n",
       "       -1.4400000e+00, -1.4300000e+00, -1.4200000e+00, -1.4100000e+00,\n",
       "       -1.4000000e+00, -1.3900000e+00, -1.3800000e+00, -1.3700000e+00,\n",
       "       -1.3600000e+00, -1.3500000e+00, -1.3400000e+00, -1.3300000e+00,\n",
       "       -1.3200000e+00, -1.3100000e+00, -1.3000000e+00, -1.2900000e+00,\n",
       "       -1.2800000e+00, -1.2700000e+00, -1.2600000e+00, -1.2500000e+00,\n",
       "       -1.2400000e+00, -1.2300000e+00, -1.2200000e+00, -1.2100000e+00,\n",
       "       -1.2000000e+00, -1.1900000e+00, -1.1800000e+00, -1.1700000e+00,\n",
       "       -1.1600000e+00, -1.1500000e+00, -1.1400000e+00, -1.1300000e+00,\n",
       "       -1.1200000e+00, -1.1100000e+00, -1.1000000e+00, -1.0900000e+00,\n",
       "       -1.0800000e+00, -1.0700000e+00, -1.0600000e+00, -1.0500000e+00,\n",
       "       -1.0400000e+00, -1.0300000e+00, -1.0200000e+00, -1.0100000e+00,\n",
       "       -1.0000000e+00, -9.9000000e-01, -9.8000000e-01, -9.7000000e-01,\n",
       "       -9.6000000e-01, -9.5000000e-01, -9.4000000e-01, -9.3000000e-01,\n",
       "       -9.2000000e-01, -9.1000000e-01, -9.0000000e-01, -8.9000000e-01,\n",
       "       -8.8000000e-01, -8.7000000e-01, -8.6000000e-01, -8.5000000e-01,\n",
       "       -8.4000000e-01, -8.3000000e-01, -8.2000000e-01, -8.1000000e-01,\n",
       "       -8.0000000e-01, -7.9000000e-01, -7.8000000e-01, -7.7000000e-01,\n",
       "       -7.6000000e-01, -7.5000000e-01, -7.4000000e-01, -7.3000000e-01,\n",
       "       -7.2000000e-01, -7.1000000e-01, -7.0000000e-01, -6.9000000e-01,\n",
       "       -6.8000000e-01, -6.7000000e-01, -6.6000000e-01, -6.5000000e-01,\n",
       "       -6.4000000e-01, -6.3000000e-01, -6.2000000e-01, -6.1000000e-01,\n",
       "       -6.0000000e-01, -5.9000000e-01, -5.8000000e-01, -5.7000000e-01,\n",
       "       -5.6000000e-01, -5.5000000e-01, -5.4000000e-01, -5.3000000e-01,\n",
       "       -5.2000000e-01, -5.1000000e-01, -5.0000000e-01, -4.9000000e-01,\n",
       "       -4.8000000e-01, -4.7000000e-01, -4.6000000e-01, -4.5000000e-01,\n",
       "       -4.4000000e-01, -4.3000000e-01, -4.2000000e-01, -4.1000000e-01,\n",
       "       -4.0000000e-01, -3.9000000e-01, -3.8000000e-01, -3.7000000e-01,\n",
       "       -3.6000000e-01, -3.5000000e-01, -3.4000000e-01, -3.3000000e-01,\n",
       "       -3.2000000e-01, -3.1000000e-01, -3.0000000e-01, -2.9000000e-01,\n",
       "       -2.8000000e-01, -2.7000000e-01, -2.6000000e-01, -2.5000000e-01,\n",
       "       -2.4000000e-01, -2.3000000e-01, -2.2000000e-01, -2.1000000e-01,\n",
       "       -2.0000000e-01, -1.9000000e-01, -1.8000000e-01, -1.7000000e-01,\n",
       "       -1.6000000e-01, -1.5000000e-01, -1.4000000e-01, -1.3000000e-01,\n",
       "       -1.2000000e-01, -1.1000000e-01, -1.0000000e-01, -9.0000000e-02,\n",
       "       -8.0000000e-02, -7.0000000e-02, -6.0000000e-02, -5.0000000e-02,\n",
       "       -4.0000000e-02, -3.0000000e-02, -2.0000000e-02, -1.0000000e-02,\n",
       "       -1.0658141e-13,  1.0000000e-02,  2.0000000e-02,  3.0000000e-02,\n",
       "        4.0000000e-02,  5.0000000e-02,  6.0000000e-02,  7.0000000e-02,\n",
       "        8.0000000e-02,  9.0000000e-02,  1.0000000e-01,  1.1000000e-01,\n",
       "        1.2000000e-01,  1.3000000e-01,  1.4000000e-01,  1.5000000e-01,\n",
       "        1.6000000e-01,  1.7000000e-01,  1.8000000e-01,  1.9000000e-01,\n",
       "        2.0000000e-01,  2.1000000e-01,  2.2000000e-01,  2.3000000e-01,\n",
       "        2.4000000e-01,  2.5000000e-01,  2.6000000e-01,  2.7000000e-01,\n",
       "        2.8000000e-01,  2.9000000e-01,  3.0000000e-01,  3.1000000e-01,\n",
       "        3.2000000e-01,  3.3000000e-01,  3.4000000e-01,  3.5000000e-01,\n",
       "        3.6000000e-01,  3.7000000e-01,  3.8000000e-01,  3.9000000e-01,\n",
       "        4.0000000e-01,  4.1000000e-01,  4.2000000e-01,  4.3000000e-01,\n",
       "        4.4000000e-01,  4.5000000e-01,  4.6000000e-01,  4.7000000e-01,\n",
       "        4.8000000e-01,  4.9000000e-01,  5.0000000e-01,  5.1000000e-01,\n",
       "        5.2000000e-01,  5.3000000e-01,  5.4000000e-01,  5.5000000e-01,\n",
       "        5.6000000e-01,  5.7000000e-01,  5.8000000e-01,  5.9000000e-01,\n",
       "        6.0000000e-01,  6.1000000e-01,  6.2000000e-01,  6.3000000e-01,\n",
       "        6.4000000e-01,  6.5000000e-01,  6.6000000e-01,  6.7000000e-01,\n",
       "        6.8000000e-01,  6.9000000e-01,  7.0000000e-01,  7.1000000e-01,\n",
       "        7.2000000e-01,  7.3000000e-01,  7.4000000e-01,  7.5000000e-01,\n",
       "        7.6000000e-01,  7.7000000e-01,  7.8000000e-01,  7.9000000e-01,\n",
       "        8.0000000e-01,  8.1000000e-01,  8.2000000e-01,  8.3000000e-01,\n",
       "        8.4000000e-01,  8.5000000e-01,  8.6000000e-01,  8.7000000e-01,\n",
       "        8.8000000e-01,  8.9000000e-01,  9.0000000e-01,  9.1000000e-01,\n",
       "        9.2000000e-01,  9.3000000e-01,  9.4000000e-01,  9.5000000e-01,\n",
       "        9.6000000e-01,  9.7000000e-01,  9.8000000e-01,  9.9000000e-01,\n",
       "        1.0000000e+00,  1.0100000e+00,  1.0200000e+00,  1.0300000e+00,\n",
       "        1.0400000e+00,  1.0500000e+00,  1.0600000e+00,  1.0700000e+00,\n",
       "        1.0800000e+00,  1.0900000e+00,  1.1000000e+00,  1.1100000e+00,\n",
       "        1.1200000e+00,  1.1300000e+00,  1.1400000e+00,  1.1500000e+00,\n",
       "        1.1600000e+00,  1.1700000e+00,  1.1800000e+00,  1.1900000e+00,\n",
       "        1.2000000e+00,  1.2100000e+00,  1.2200000e+00,  1.2300000e+00,\n",
       "        1.2400000e+00,  1.2500000e+00,  1.2600000e+00,  1.2700000e+00,\n",
       "        1.2800000e+00,  1.2900000e+00,  1.3000000e+00,  1.3100000e+00,\n",
       "        1.3200000e+00,  1.3300000e+00,  1.3400000e+00,  1.3500000e+00,\n",
       "        1.3600000e+00,  1.3700000e+00,  1.3800000e+00,  1.3900000e+00,\n",
       "        1.4000000e+00,  1.4100000e+00,  1.4200000e+00,  1.4300000e+00,\n",
       "        1.4400000e+00,  1.4500000e+00,  1.4600000e+00,  1.4700000e+00,\n",
       "        1.4800000e+00,  1.4900000e+00,  1.5000000e+00,  1.5100000e+00,\n",
       "        1.5200000e+00,  1.5300000e+00,  1.5400000e+00,  1.5500000e+00,\n",
       "        1.5600000e+00,  1.5700000e+00,  1.5800000e+00,  1.5900000e+00,\n",
       "        1.6000000e+00,  1.6100000e+00,  1.6200000e+00,  1.6300000e+00,\n",
       "        1.6400000e+00,  1.6500000e+00,  1.6600000e+00,  1.6700000e+00,\n",
       "        1.6800000e+00,  1.6900000e+00,  1.7000000e+00,  1.7100000e+00,\n",
       "        1.7200000e+00,  1.7300000e+00,  1.7400000e+00,  1.7500000e+00,\n",
       "        1.7600000e+00,  1.7700000e+00,  1.7800000e+00,  1.7900000e+00,\n",
       "        1.8000000e+00,  1.8100000e+00,  1.8200000e+00,  1.8300000e+00,\n",
       "        1.8400000e+00,  1.8500000e+00,  1.8600000e+00,  1.8700000e+00,\n",
       "        1.8800000e+00,  1.8900000e+00,  1.9000000e+00,  1.9100000e+00,\n",
       "        1.9200000e+00,  1.9300000e+00,  1.9400000e+00,  1.9500000e+00,\n",
       "        1.9600000e+00,  1.9700000e+00,  1.9800000e+00,  1.9900000e+00,\n",
       "        2.0000000e+00,  2.0100000e+00,  2.0200000e+00,  2.0300000e+00,\n",
       "        2.0400000e+00,  2.0500000e+00,  2.0600000e+00,  2.0700000e+00,\n",
       "        2.0800000e+00,  2.0900000e+00,  2.1000000e+00,  2.1100000e+00,\n",
       "        2.1200000e+00,  2.1300000e+00,  2.1400000e+00,  2.1500000e+00,\n",
       "        2.1600000e+00,  2.1700000e+00,  2.1800000e+00,  2.1900000e+00,\n",
       "        2.2000000e+00,  2.2100000e+00,  2.2200000e+00,  2.2300000e+00,\n",
       "        2.2400000e+00,  2.2500000e+00,  2.2600000e+00,  2.2700000e+00,\n",
       "        2.2800000e+00,  2.2900000e+00,  2.3000000e+00,  2.3100000e+00,\n",
       "        2.3200000e+00,  2.3300000e+00,  2.3400000e+00,  2.3500000e+00,\n",
       "        2.3600000e+00,  2.3700000e+00,  2.3800000e+00,  2.3900000e+00,\n",
       "        2.4000000e+00,  2.4100000e+00,  2.4200000e+00,  2.4300000e+00,\n",
       "        2.4400000e+00,  2.4500000e+00,  2.4600000e+00,  2.4700000e+00,\n",
       "        2.4800000e+00,  2.4900000e+00,  2.5000000e+00,  2.5100000e+00,\n",
       "        2.5200000e+00,  2.5300000e+00,  2.5400000e+00,  2.5500000e+00,\n",
       "        2.5600000e+00,  2.5700000e+00,  2.5800000e+00,  2.5900000e+00,\n",
       "        2.6000000e+00,  2.6100000e+00,  2.6200000e+00,  2.6300000e+00,\n",
       "        2.6400000e+00,  2.6500000e+00,  2.6600000e+00,  2.6700000e+00,\n",
       "        2.6800000e+00,  2.6900000e+00,  2.7000000e+00,  2.7100000e+00,\n",
       "        2.7200000e+00,  2.7300000e+00,  2.7400000e+00,  2.7500000e+00,\n",
       "        2.7600000e+00,  2.7700000e+00,  2.7800000e+00,  2.7900000e+00,\n",
       "        2.8000000e+00,  2.8100000e+00,  2.8200000e+00,  2.8300000e+00,\n",
       "        2.8400000e+00,  2.8500000e+00,  2.8600000e+00,  2.8700000e+00,\n",
       "        2.8800000e+00,  2.8900000e+00,  2.9000000e+00,  2.9100000e+00,\n",
       "        2.9200000e+00,  2.9300000e+00,  2.9400000e+00,  2.9500000e+00,\n",
       "        2.9600000e+00,  2.9700000e+00,  2.9800000e+00,  2.9900000e+00,\n",
       "        3.0000000e+00,  3.0100000e+00,  3.0200000e+00,  3.0300000e+00,\n",
       "        3.0400000e+00,  3.0500000e+00,  3.0600000e+00,  3.0700000e+00,\n",
       "        3.0800000e+00,  3.0900000e+00,  3.1000000e+00,  3.1100000e+00,\n",
       "        3.1200000e+00,  3.1300000e+00,  3.1400000e+00,  3.1500000e+00,\n",
       "        3.1600000e+00,  3.1700000e+00,  3.1800000e+00,  3.1900000e+00,\n",
       "        3.2000000e+00,  3.2100000e+00,  3.2200000e+00,  3.2300000e+00,\n",
       "        3.2400000e+00,  3.2500000e+00,  3.2600000e+00,  3.2700000e+00,\n",
       "        3.2800000e+00,  3.2900000e+00,  3.3000000e+00,  3.3100000e+00,\n",
       "        3.3200000e+00,  3.3300000e+00,  3.3400000e+00,  3.3500000e+00,\n",
       "        3.3600000e+00,  3.3700000e+00,  3.3800000e+00,  3.3900000e+00,\n",
       "        3.4000000e+00,  3.4100000e+00,  3.4200000e+00,  3.4300000e+00,\n",
       "        3.4400000e+00,  3.4500000e+00,  3.4600000e+00,  3.4700000e+00,\n",
       "        3.4800000e+00,  3.4900000e+00,  3.5000000e+00,  3.5100000e+00,\n",
       "        3.5200000e+00,  3.5300000e+00,  3.5400000e+00,  3.5500000e+00,\n",
       "        3.5600000e+00,  3.5700000e+00,  3.5800000e+00,  3.5900000e+00,\n",
       "        3.6000000e+00,  3.6100000e+00,  3.6200000e+00,  3.6300000e+00,\n",
       "        3.6400000e+00,  3.6500000e+00,  3.6600000e+00,  3.6700000e+00,\n",
       "        3.6800000e+00,  3.6900000e+00,  3.7000000e+00,  3.7100000e+00,\n",
       "        3.7200000e+00,  3.7300000e+00,  3.7400000e+00,  3.7500000e+00,\n",
       "        3.7600000e+00,  3.7700000e+00,  3.7800000e+00,  3.7900000e+00,\n",
       "        3.8000000e+00,  3.8100000e+00,  3.8200000e+00,  3.8300000e+00,\n",
       "        3.8400000e+00,  3.8500000e+00,  3.8600000e+00,  3.8700000e+00,\n",
       "        3.8800000e+00,  3.8900000e+00,  3.9000000e+00,  3.9100000e+00,\n",
       "        3.9200000e+00,  3.9300000e+00,  3.9400000e+00,  3.9500000e+00,\n",
       "        3.9600000e+00,  3.9700000e+00,  3.9800000e+00,  3.9900000e+00,\n",
       "        4.0000000e+00,  4.0100000e+00,  4.0200000e+00,  4.0300000e+00,\n",
       "        4.0400000e+00,  4.0500000e+00,  4.0600000e+00,  4.0700000e+00,\n",
       "        4.0800000e+00,  4.0900000e+00,  4.1000000e+00,  4.1100000e+00,\n",
       "        4.1200000e+00,  4.1300000e+00,  4.1400000e+00,  4.1500000e+00,\n",
       "        4.1600000e+00,  4.1700000e+00,  4.1800000e+00,  4.1900000e+00,\n",
       "        4.2000000e+00,  4.2100000e+00,  4.2200000e+00,  4.2300000e+00,\n",
       "        4.2400000e+00,  4.2500000e+00,  4.2600000e+00,  4.2700000e+00,\n",
       "        4.2800000e+00,  4.2900000e+00,  4.3000000e+00,  4.3100000e+00,\n",
       "        4.3200000e+00,  4.3300000e+00,  4.3400000e+00,  4.3500000e+00,\n",
       "        4.3600000e+00,  4.3700000e+00,  4.3800000e+00,  4.3900000e+00,\n",
       "        4.4000000e+00,  4.4100000e+00,  4.4200000e+00,  4.4300000e+00,\n",
       "        4.4400000e+00,  4.4500000e+00,  4.4600000e+00,  4.4700000e+00,\n",
       "        4.4800000e+00,  4.4900000e+00,  4.5000000e+00,  4.5100000e+00,\n",
       "        4.5200000e+00,  4.5300000e+00,  4.5400000e+00,  4.5500000e+00,\n",
       "        4.5600000e+00,  4.5700000e+00,  4.5800000e+00,  4.5900000e+00,\n",
       "        4.6000000e+00,  4.6100000e+00,  4.6200000e+00,  4.6300000e+00,\n",
       "        4.6400000e+00,  4.6500000e+00,  4.6600000e+00,  4.6700000e+00,\n",
       "        4.6800000e+00,  4.6900000e+00,  4.7000000e+00,  4.7100000e+00,\n",
       "        4.7200000e+00,  4.7300000e+00,  4.7400000e+00,  4.7500000e+00,\n",
       "        4.7600000e+00,  4.7700000e+00,  4.7800000e+00,  4.7900000e+00,\n",
       "        4.8000000e+00,  4.8100000e+00,  4.8200000e+00,  4.8300000e+00,\n",
       "        4.8400000e+00,  4.8500000e+00,  4.8600000e+00,  4.8700000e+00,\n",
       "        4.8800000e+00,  4.8900000e+00,  4.9000000e+00,  4.9100000e+00,\n",
       "        4.9200000e+00,  4.9300000e+00,  4.9400000e+00,  4.9500000e+00,\n",
       "        4.9600000e+00,  4.9700000e+00,  4.9800000e+00,  4.9900000e+00])"
      ]
     },
     "execution_count": 42,
     "metadata": {},
     "output_type": "execute_result"
    }
   ],
   "source": [
    "points"
   ]
  },
  {
   "cell_type": "code",
   "execution_count": 43,
   "id": "886c9b59",
   "metadata": {},
   "outputs": [],
   "source": [
    "# -5 ~ 5 까지 0.01 마다 1000개의 좌표가 생성됨"
   ]
  },
  {
   "cell_type": "code",
   "execution_count": 47,
   "id": "0d87ab20",
   "metadata": {},
   "outputs": [],
   "source": [
    "xs, ys = np.meshgrid(points, points)"
   ]
  },
  {
   "cell_type": "code",
   "execution_count": 48,
   "id": "910cbb9f",
   "metadata": {},
   "outputs": [
    {
     "data": {
      "text/plain": [
       "array([[-5.  , -4.99, -4.98, ...,  4.97,  4.98,  4.99],\n",
       "       [-5.  , -4.99, -4.98, ...,  4.97,  4.98,  4.99],\n",
       "       [-5.  , -4.99, -4.98, ...,  4.97,  4.98,  4.99],\n",
       "       ...,\n",
       "       [-5.  , -4.99, -4.98, ...,  4.97,  4.98,  4.99],\n",
       "       [-5.  , -4.99, -4.98, ...,  4.97,  4.98,  4.99],\n",
       "       [-5.  , -4.99, -4.98, ...,  4.97,  4.98,  4.99]])"
      ]
     },
     "execution_count": 48,
     "metadata": {},
     "output_type": "execute_result"
    }
   ],
   "source": [
    "xs"
   ]
  },
  {
   "cell_type": "code",
   "execution_count": 49,
   "id": "a7970923",
   "metadata": {},
   "outputs": [
    {
     "data": {
      "text/plain": [
       "array([[-5.  , -5.  , -5.  , ..., -5.  , -5.  , -5.  ],\n",
       "       [-4.99, -4.99, -4.99, ..., -4.99, -4.99, -4.99],\n",
       "       [-4.98, -4.98, -4.98, ..., -4.98, -4.98, -4.98],\n",
       "       ...,\n",
       "       [ 4.97,  4.97,  4.97, ...,  4.97,  4.97,  4.97],\n",
       "       [ 4.98,  4.98,  4.98, ...,  4.98,  4.98,  4.98],\n",
       "       [ 4.99,  4.99,  4.99, ...,  4.99,  4.99,  4.99]])"
      ]
     },
     "execution_count": 49,
     "metadata": {},
     "output_type": "execute_result"
    }
   ],
   "source": [
    "ys"
   ]
  },
  {
   "cell_type": "code",
   "execution_count": 50,
   "id": "735fb1b1",
   "metadata": {},
   "outputs": [],
   "source": [
    "# 그리드를 생성할 수 있는 좌표를 생성해냈음"
   ]
  },
  {
   "cell_type": "code",
   "execution_count": 51,
   "id": "0babe574",
   "metadata": {},
   "outputs": [],
   "source": [
    "# 이 그리드안의 각 점들의 거리를 구하려면 1000 x 1000 만큼의 for 문이 반복되어야 하지만,"
   ]
  },
  {
   "cell_type": "code",
   "execution_count": 52,
   "id": "ec7a4531",
   "metadata": {},
   "outputs": [
    {
     "data": {
      "text/plain": [
       "array([[7.07106781, 7.06400028, 7.05693985, ..., 7.04988652, 7.05693985,\n",
       "        7.06400028],\n",
       "       [7.06400028, 7.05692568, 7.04985815, ..., 7.04279774, 7.04985815,\n",
       "        7.05692568],\n",
       "       [7.05693985, 7.04985815, 7.04278354, ..., 7.03571603, 7.04278354,\n",
       "        7.04985815],\n",
       "       ...,\n",
       "       [7.04988652, 7.04279774, 7.03571603, ..., 7.0286414 , 7.03571603,\n",
       "        7.04279774],\n",
       "       [7.05693985, 7.04985815, 7.04278354, ..., 7.03571603, 7.04278354,\n",
       "        7.04985815],\n",
       "       [7.06400028, 7.05692568, 7.04985815, ..., 7.04279774, 7.04985815,\n",
       "        7.05692568]])"
      ]
     },
     "execution_count": 52,
     "metadata": {},
     "output_type": "execute_result"
    }
   ],
   "source": [
    "z = np.sqrt(xs ** 2 + ys ** 2)\n",
    "z"
   ]
  },
  {
   "cell_type": "code",
   "execution_count": 53,
   "id": "b4804524",
   "metadata": {},
   "outputs": [
    {
     "data": {
      "text/plain": [
       "<matplotlib.image.AxesImage at 0x1e9c0deb400>"
      ]
     },
     "execution_count": 53,
     "metadata": {},
     "output_type": "execute_result"
    },
    {
     "data": {
      "image/png": "[encoded data removed]",
      "text/plain": [
       "<Figure size 432x288 with 1 Axes>"
      ]
     },
     "metadata": {
      "needs_background": "light"
     },
     "output_type": "display_data"
    }
   ],
   "source": [
    "import matplotlib.pyplot as plt\n",
    "plt.imshow(z)"
   ]
  },
  {
   "cell_type": "code",
   "execution_count": 56,
   "id": "56159713",
   "metadata": {},
   "outputs": [
    {
     "data": {
      "text/plain": [
       "<matplotlib.image.AxesImage at 0x1e9c26ca310>"
      ]
     },
     "execution_count": 56,
     "metadata": {},
     "output_type": "execute_result"
    },
    {
     "data": {
      "image/png": "[encoded data removed]",
      "text/plain": [
       "<Figure size 432x288 with 1 Axes>"
      ]
     },
     "metadata": {
      "needs_background": "light"
     },
     "output_type": "display_data"
    }
   ],
   "source": [
    "# RGB 값으로 하면 크고 작은걸 구분 못하니까\n",
    "# 그레이값으로 바꾸면 구분이 편함, 밝을 수록 큰 값임\n",
    "\n",
    "plt.imshow(z, cmap = plt.cm.gray)"
   ]
  },
  {
   "cell_type": "code",
   "execution_count": 57,
   "id": "c4563df3",
   "metadata": {},
   "outputs": [],
   "source": [
    "# 한줄로 다 끝내버릴 수 있음을 보여준거임"
   ]
  },
  {
   "cell_type": "code",
   "execution_count": 59,
   "id": "431c584f",
   "metadata": {},
   "outputs": [
    {
     "data": {
      "text/plain": [
       "<matplotlib.colorbar.Colorbar at 0x1e9c2f1a0d0>"
      ]
     },
     "execution_count": 59,
     "metadata": {},
     "output_type": "execute_result"
    },
    {
     "data": {
      "image/png": "[encoded data removed]",
      "text/plain": [
       "<Figure size 432x288 with 2 Axes>"
      ]
     },
     "metadata": {
      "needs_background": "light"
     },
     "output_type": "display_data"
    }
   ],
   "source": [
    "plt.imshow(z, cmap = plt.cm.gray)\n",
    "plt.colorbar()"
   ]
  },
  {
   "cell_type": "code",
   "execution_count": 60,
   "id": "46893fcb",
   "metadata": {},
   "outputs": [],
   "source": [
    "# 이러면 밝기를 최소값과 최대값의 파라미터로 보여줌"
   ]
  },
  {
   "cell_type": "code",
   "execution_count": 61,
   "id": "d94fbbf5",
   "metadata": {},
   "outputs": [],
   "source": [
    "# 좌표를 구하기위해 meshgrid를 사용하긴 했지만, 일단 많은 값들을 한번에 연산할 수 있다는게 포인트임"
   ]
  },
  {
   "cell_type": "markdown",
   "id": "2271f7e5",
   "metadata": {},
   "source": [
    "#### 3.1 배열 연산으로 조건절 표현하기"
   ]
  },
  {
   "cell_type": "code",
   "execution_count": 62,
   "id": "a5a3758e",
   "metadata": {},
   "outputs": [],
   "source": [
    "xarr = np.array([1.1, 1.2, 1.3, 1.4, 1.5])\n",
    "yarr = np.array([2.1, 2.2, 2.3, 2.4, 2.5])"
   ]
  },
  {
   "cell_type": "code",
   "execution_count": 63,
   "id": "f30c732e",
   "metadata": {},
   "outputs": [
    {
     "data": {
      "text/plain": [
       "array([1.1, 1.2, 1.3, 1.4, 1.5])"
      ]
     },
     "execution_count": 63,
     "metadata": {},
     "output_type": "execute_result"
    }
   ],
   "source": [
    "xarr"
   ]
  },
  {
   "cell_type": "code",
   "execution_count": 64,
   "id": "6fa4835b",
   "metadata": {},
   "outputs": [
    {
     "data": {
      "text/plain": [
       "array([2.1, 2.2, 2.3, 2.4, 2.5])"
      ]
     },
     "execution_count": 64,
     "metadata": {},
     "output_type": "execute_result"
    }
   ],
   "source": [
    "yarr"
   ]
  },
  {
   "cell_type": "code",
   "execution_count": 65,
   "id": "bd0b9591",
   "metadata": {},
   "outputs": [],
   "source": [
    "cond = np.array([True, False, True, True, False])"
   ]
  },
  {
   "cell_type": "code",
   "execution_count": 66,
   "id": "af26a8ff",
   "metadata": {},
   "outputs": [
    {
     "data": {
      "text/plain": [
       "array([1.1, 2.2, 1.3, 1.4, 2.5])"
      ]
     },
     "execution_count": 66,
     "metadata": {},
     "output_type": "execute_result"
    }
   ],
   "source": [
    "result = np.where(cond, xarr, yarr) # 참이면 xarr값, 거짓이면 yarr 값 가져옴\n",
    "result"
   ]
  },
  {
   "cell_type": "code",
   "execution_count": null,
   "id": "afb1ada2",
   "metadata": {},
   "outputs": [],
   "source": [
    "# python 이었다면 이렇게 짯겠지\n",
    "for in if cond  else: ....."
   ]
  },
  {
   "cell_type": "code",
   "execution_count": 67,
   "id": "73a354b4",
   "metadata": {},
   "outputs": [
    {
     "data": {
      "text/plain": [
       "array([[-1.73474616,  0.22223696, -0.51900907,  1.49383926],\n",
       "       [ 0.51015674, -0.00962986,  0.21933564,  0.25562973],\n",
       "       [ 0.08843547,  0.55022249,  0.96634837,  0.8262081 ],\n",
       "       [-2.00882144, -0.85128859,  1.10375561, -0.8764119 ]])"
      ]
     },
     "execution_count": 67,
     "metadata": {},
     "output_type": "execute_result"
    }
   ],
   "source": [
    "arr = np.random.randn(4, 4)\n",
    "arr"
   ]
  },
  {
   "cell_type": "code",
   "execution_count": 69,
   "id": "e8ed66af",
   "metadata": {},
   "outputs": [],
   "source": [
    "# 표준정규분포를 따르는 4 x 4 데이터를 가져옴. 데이터 평균은 0임, 표준편차가 1임"
   ]
  },
  {
   "cell_type": "code",
   "execution_count": 70,
   "id": "4a8b5dc1",
   "metadata": {},
   "outputs": [
    {
     "data": {
      "text/plain": [
       "array([[False,  True, False,  True],\n",
       "       [ True, False,  True,  True],\n",
       "       [ True,  True,  True,  True],\n",
       "       [False, False,  True, False]])"
      ]
     },
     "execution_count": 70,
     "metadata": {},
     "output_type": "execute_result"
    }
   ],
   "source": [
    "arr > 0"
   ]
  },
  {
   "cell_type": "code",
   "execution_count": 71,
   "id": "37c40710",
   "metadata": {},
   "outputs": [
    {
     "data": {
      "text/plain": [
       "array([[-1.73474616,  2.        , -0.51900907,  2.        ],\n",
       "       [ 2.        , -0.00962986,  2.        ,  2.        ],\n",
       "       [ 2.        ,  2.        ,  2.        ,  2.        ],\n",
       "       [-2.00882144, -0.85128859,  2.        , -0.8764119 ]])"
      ]
     },
     "execution_count": 71,
     "metadata": {},
     "output_type": "execute_result"
    }
   ],
   "source": [
    "# np.where(__, t, f)\n",
    "\n",
    "np.where(arr > 0, 2, arr)"
   ]
  },
  {
   "cell_type": "code",
   "execution_count": 72,
   "id": "4b61dc40",
   "metadata": {},
   "outputs": [],
   "source": [
    "# 0보다 큰 경우에 트루면 2를 넣고 폴스면 원래 arr 값을 가져와라"
   ]
  },
  {
   "cell_type": "markdown",
   "id": "6055a0ac",
   "metadata": {},
   "source": [
    "#### 3.2 수학 메서드와 통계 메서드"
   ]
  },
  {
   "cell_type": "code",
   "execution_count": 73,
   "id": "91ec5866",
   "metadata": {},
   "outputs": [
    {
     "data": {
      "text/plain": [
       "array([[-0.42334201,  0.09897263, -0.19402266, -0.24230578],\n",
       "       [-0.3199159 , -2.08696812, -1.41047449,  0.87448787],\n",
       "       [-1.58839183,  0.17197309,  1.78802362,  2.10398992],\n",
       "       [-0.63648303, -0.40062807,  0.63887036,  0.75523346],\n",
       "       [-0.29428099,  1.82028884,  0.72581362, -0.36777501]])"
      ]
     },
     "execution_count": 73,
     "metadata": {},
     "output_type": "execute_result"
    }
   ],
   "source": [
    "arr = np.random.randn(5, 4)\n",
    "arr"
   ]
  },
  {
   "cell_type": "code",
   "execution_count": 74,
   "id": "cc9f1780",
   "metadata": {},
   "outputs": [
    {
     "data": {
      "text/plain": [
       "0.05065327751646119"
      ]
     },
     "execution_count": 74,
     "metadata": {},
     "output_type": "execute_result"
    }
   ],
   "source": [
    "arr.mean()"
   ]
  },
  {
   "cell_type": "code",
   "execution_count": 77,
   "id": "d4420eb4",
   "metadata": {},
   "outputs": [],
   "source": [
    "# 위는 전체 평균 낸거임"
   ]
  },
  {
   "cell_type": "code",
   "execution_count": 78,
   "id": "2d03e9c8",
   "metadata": {},
   "outputs": [
    {
     "data": {
      "text/plain": [
       "0.05065327751646119"
      ]
     },
     "execution_count": 78,
     "metadata": {},
     "output_type": "execute_result"
    }
   ],
   "source": [
    "np.mean(arr)"
   ]
  },
  {
   "cell_type": "code",
   "execution_count": 79,
   "id": "cbbfbc65",
   "metadata": {},
   "outputs": [],
   "source": [
    "# 같은 값이 나옴"
   ]
  },
  {
   "cell_type": "code",
   "execution_count": 80,
   "id": "b4474574",
   "metadata": {},
   "outputs": [
    {
     "data": {
      "text/plain": [
       "1.0130655503292239"
      ]
     },
     "execution_count": 80,
     "metadata": {},
     "output_type": "execute_result"
    }
   ],
   "source": [
    "arr.sum()"
   ]
  },
  {
   "cell_type": "code",
   "execution_count": 81,
   "id": "8817f7fe",
   "metadata": {},
   "outputs": [],
   "source": [
    "# 다 더해져서 나옴"
   ]
  },
  {
   "cell_type": "code",
   "execution_count": 82,
   "id": "a6d0ef51",
   "metadata": {},
   "outputs": [
    {
     "data": {
      "text/plain": [
       "1.0130655503292239"
      ]
     },
     "execution_count": 82,
     "metadata": {},
     "output_type": "execute_result"
    }
   ],
   "source": [
    "np.sum(arr)"
   ]
  },
  {
   "cell_type": "code",
   "execution_count": 84,
   "id": "3e2eadaf",
   "metadata": {},
   "outputs": [
    {
     "data": {
      "text/plain": [
       "array([-0.76069781, -2.94287064,  2.4755948 ,  0.35699273,  1.88404647])"
      ]
     },
     "execution_count": 84,
     "metadata": {},
     "output_type": "execute_result"
    }
   ],
   "source": [
    "arr.sum(axis=1) # 축이 1번이니까 열을 따라서 그 아래 5개 값들을 모두 더한다는 뜻"
   ]
  },
  {
   "cell_type": "code",
   "execution_count": 85,
   "id": "d9e2dde9",
   "metadata": {},
   "outputs": [
    {
     "data": {
      "text/plain": [
       "array([-3.26241376, -0.39636163,  1.54821046,  3.12363047])"
      ]
     },
     "execution_count": 85,
     "metadata": {},
     "output_type": "execute_result"
    }
   ],
   "source": [
    "arr.sum(axis=0) # 0번 축이니까 행 옆으로 있는 4개를 다 더하란 뜻"
   ]
  },
  {
   "cell_type": "code",
   "execution_count": 86,
   "id": "ad850543",
   "metadata": {},
   "outputs": [
    {
     "data": {
      "text/plain": [
       "array([-0.19017445, -0.73571766,  0.6188987 ,  0.08924818,  0.47101162])"
      ]
     },
     "execution_count": 86,
     "metadata": {},
     "output_type": "execute_result"
    }
   ],
   "source": [
    "arr.mean(axis=1)"
   ]
  },
  {
   "cell_type": "code",
   "execution_count": 87,
   "id": "ca82b9a7",
   "metadata": {},
   "outputs": [
    {
     "data": {
      "text/plain": [
       "array([-0.65248275, -0.07927233,  0.30964209,  0.62472609])"
      ]
     },
     "execution_count": 87,
     "metadata": {},
     "output_type": "execute_result"
    }
   ],
   "source": [
    "arr.mean(axis=0)"
   ]
  },
  {
   "cell_type": "code",
   "execution_count": 89,
   "id": "43ab7ea9",
   "metadata": {},
   "outputs": [
    {
     "data": {
      "text/plain": [
       "array([ 0,  1,  3,  6, 10, 15, 21, 28], dtype=int32)"
      ]
     },
     "execution_count": 89,
     "metadata": {},
     "output_type": "execute_result"
    }
   ],
   "source": [
    "arr = np.array([0,1,2,3,4,5,6,7])\n",
    "arr.cumsum()"
   ]
  },
  {
   "cell_type": "code",
   "execution_count": 90,
   "id": "927137c5",
   "metadata": {},
   "outputs": [
    {
     "data": {
      "text/plain": [
       "array([0, 0, 0, 0, 0, 0, 0, 0], dtype=int32)"
      ]
     },
     "execution_count": 90,
     "metadata": {},
     "output_type": "execute_result"
    }
   ],
   "source": [
    "arr.cumprod()"
   ]
  },
  {
   "cell_type": "code",
   "execution_count": 91,
   "id": "c0c36b22",
   "metadata": {},
   "outputs": [],
   "source": [
    "# 이건 앞에 0이 잇어서 이렇게 된거임"
   ]
  },
  {
   "cell_type": "code",
   "execution_count": 92,
   "id": "b21c8fc3",
   "metadata": {},
   "outputs": [
    {
     "data": {
      "text/plain": [
       "array([[0, 1, 2],\n",
       "       [3, 4, 5],\n",
       "       [6, 7, 8]])"
      ]
     },
     "execution_count": 92,
     "metadata": {},
     "output_type": "execute_result"
    }
   ],
   "source": [
    "arr = np.array([[0,1,2],[3,4,5,],[6,7,8]])\n",
    "arr"
   ]
  },
  {
   "cell_type": "code",
   "execution_count": 93,
   "id": "8c6e8772",
   "metadata": {},
   "outputs": [
    {
     "data": {
      "text/plain": [
       "array([[ 0,  1,  2],\n",
       "       [ 3,  5,  7],\n",
       "       [ 9, 12, 15]], dtype=int32)"
      ]
     },
     "execution_count": 93,
     "metadata": {},
     "output_type": "execute_result"
    }
   ],
   "source": [
    "arr.cumsum(axis=0)"
   ]
  },
  {
   "cell_type": "code",
   "execution_count": 94,
   "id": "5c3ce9b0",
   "metadata": {},
   "outputs": [
    {
     "data": {
      "text/plain": [
       "array([[ 0,  1,  3],\n",
       "       [ 3,  7, 12],\n",
       "       [ 6, 13, 21]], dtype=int32)"
      ]
     },
     "execution_count": 94,
     "metadata": {},
     "output_type": "execute_result"
    }
   ],
   "source": [
    "arr.cumsum(axis=1)"
   ]
  },
  {
   "cell_type": "code",
   "execution_count": 95,
   "id": "8233066a",
   "metadata": {},
   "outputs": [
    {
     "data": {
      "text/plain": [
       "array([[ 0,  1,  2],\n",
       "       [ 0,  4, 10],\n",
       "       [ 0, 28, 80]], dtype=int32)"
      ]
     },
     "execution_count": 95,
     "metadata": {},
     "output_type": "execute_result"
    }
   ],
   "source": [
    "arr.cumprod(axis=0)"
   ]
  },
  {
   "cell_type": "code",
   "execution_count": 98,
   "id": "8d6da991",
   "metadata": {},
   "outputs": [
    {
     "data": {
      "text/plain": [
       "array([[  0,   0,   0],\n",
       "       [  3,  12,  60],\n",
       "       [  6,  42, 336]], dtype=int32)"
      ]
     },
     "execution_count": 98,
     "metadata": {},
     "output_type": "execute_result"
    }
   ],
   "source": [
    "arr.cumprod(axis=1)"
   ]
  },
  {
   "cell_type": "code",
   "execution_count": 99,
   "id": "467cd055",
   "metadata": {},
   "outputs": [],
   "source": [
    "# 축을 따라 누적합, 누적곱"
   ]
  },
  {
   "cell_type": "markdown",
   "id": "bfb8c33c",
   "metadata": {},
   "source": [
    "#### 3.3 불리언 배열을 위한 메서드"
   ]
  },
  {
   "cell_type": "code",
   "execution_count": 101,
   "id": "0f8f7e89",
   "metadata": {},
   "outputs": [
    {
     "data": {
      "text/plain": [
       "array([-0.72137884, -0.33623686,  0.44119377, -0.83644696, -1.08560852,\n",
       "       -0.29664107, -0.97458779,  0.76864385,  0.00473908, -2.47234776,\n",
       "       -1.11980795,  1.09850168, -0.15502709, -2.57214716, -0.3019117 ,\n",
       "       -0.20181847, -1.09462687,  1.12198081, -0.41776667,  0.22910656,\n",
       "       -0.98812623,  0.24051636,  0.58971681, -1.02433587, -1.19257869,\n",
       "        2.21684804, -0.73626311, -0.41391874, -0.99824951, -0.16699522,\n",
       "       -0.21578979,  0.68974818, -0.2861616 , -1.54122236, -1.22499493,\n",
       "       -0.18981257,  0.251565  ,  0.32626554, -0.50649976,  0.57701889,\n",
       "        0.15789352, -0.24299933, -0.51999357,  1.50396574, -0.81248154,\n",
       "        0.69760484,  0.80484321, -0.88758254,  0.62289737,  1.45944741,\n",
       "        0.04611799, -0.61467441, -1.71978598,  0.56764832,  1.3230242 ,\n",
       "        0.57905109, -0.10617622, -0.88670438, -0.25974812, -1.4058087 ,\n",
       "        0.73990345,  0.99071279,  1.00538405,  0.35238258, -0.48660843,\n",
       "       -0.90787932,  0.67078302,  0.59436858,  0.46815017,  0.41100963,\n",
       "        0.53572133, -0.80904009,  0.75243759, -1.18652872, -0.06678032,\n",
       "       -0.73212503,  1.35943658, -0.80313042, -0.72977296,  0.07999298,\n",
       "       -0.86624653,  1.5357544 , -0.1667407 ,  0.42601103,  0.09160376,\n",
       "       -0.26883543,  0.33109382,  1.88247677,  0.81786376, -0.1882602 ,\n",
       "        0.39933957,  0.34561263, -1.51853536, -0.82000341, -0.16105684,\n",
       "        0.28466525,  2.49276712,  0.5163521 ,  1.09633477,  0.4718231 ])"
      ]
     },
     "execution_count": 101,
     "metadata": {},
     "output_type": "execute_result"
    }
   ],
   "source": [
    "arr = np.random.randn(100)\n",
    "arr"
   ]
  },
  {
   "cell_type": "code",
   "execution_count": 102,
   "id": "2a36e1a9",
   "metadata": {},
   "outputs": [],
   "source": [
    "# 100개짜리 1차원 배열 하나 만듬"
   ]
  },
  {
   "cell_type": "code",
   "execution_count": 103,
   "id": "9567927a",
   "metadata": {},
   "outputs": [
    {
     "data": {
      "text/plain": [
       "array([False, False,  True, False, False, False, False,  True,  True,\n",
       "       False, False,  True, False, False, False, False, False,  True,\n",
       "       False,  True, False,  True,  True, False, False,  True, False,\n",
       "       False, False, False, False,  True, False, False, False, False,\n",
       "        True,  True, False,  True,  True, False, False,  True, False,\n",
       "        True,  True, False,  True,  True,  True, False, False,  True,\n",
       "        True,  True, False, False, False, False,  True,  True,  True,\n",
       "        True, False, False,  True,  True,  True,  True,  True, False,\n",
       "        True, False, False, False,  True, False, False,  True, False,\n",
       "        True, False,  True,  True, False,  True,  True,  True, False,\n",
       "        True,  True, False, False, False,  True,  True,  True,  True,\n",
       "        True])"
      ]
     },
     "execution_count": 103,
     "metadata": {},
     "output_type": "execute_result"
    }
   ],
   "source": [
    "arr > 0"
   ]
  },
  {
   "cell_type": "code",
   "execution_count": 104,
   "id": "5a5b588f",
   "metadata": {},
   "outputs": [],
   "source": [
    "# 이러면 불리안값이 나오는데, false는 0, true = 1 인데,"
   ]
  },
  {
   "cell_type": "code",
   "execution_count": 105,
   "id": "5047f23a",
   "metadata": {},
   "outputs": [
    {
     "data": {
      "text/plain": [
       "48"
      ]
     },
     "execution_count": 105,
     "metadata": {},
     "output_type": "execute_result"
    }
   ],
   "source": [
    "(arr > 0).sum()"
   ]
  },
  {
   "cell_type": "code",
   "execution_count": 106,
   "id": "5b87a01e",
   "metadata": {},
   "outputs": [],
   "source": [
    "# 이러면 0 값과 1값들을 더함"
   ]
  },
  {
   "cell_type": "code",
   "execution_count": 107,
   "id": "cde434c4",
   "metadata": {},
   "outputs": [],
   "source": [
    "# 당연히 결과값은 랜덤이니까 다 다르지"
   ]
  },
  {
   "cell_type": "code",
   "execution_count": 108,
   "id": "65d5a603",
   "metadata": {},
   "outputs": [],
   "source": [
    "# 이게 True의 갯수임"
   ]
  },
  {
   "cell_type": "code",
   "execution_count": 109,
   "id": "fbe8efea",
   "metadata": {},
   "outputs": [],
   "source": [
    "bools = np.array([False, False, True, False])"
   ]
  },
  {
   "cell_type": "code",
   "execution_count": 110,
   "id": "ea4cd7c3",
   "metadata": {},
   "outputs": [
    {
     "data": {
      "text/plain": [
       "True"
      ]
     },
     "execution_count": 110,
     "metadata": {},
     "output_type": "execute_result"
    }
   ],
   "source": [
    "bools.any() # any는 ~이거나 라는 뜻, 이중에 True가 하나만 있으면 됨"
   ]
  },
  {
   "cell_type": "code",
   "execution_count": 112,
   "id": "d7ffbe5e",
   "metadata": {},
   "outputs": [
    {
     "data": {
      "text/plain": [
       "False"
      ]
     },
     "execution_count": 112,
     "metadata": {},
     "output_type": "execute_result"
    }
   ],
   "source": [
    "bools.all() # 이건 모두를 만족하지 않으면 False 값이 나옴"
   ]
  },
  {
   "cell_type": "code",
   "execution_count": 113,
   "id": "1deaa1f7",
   "metadata": {},
   "outputs": [
    {
     "data": {
      "text/plain": [
       "array([-2.57214716, -2.47234776, -1.71978598, -1.54122236, -1.51853536,\n",
       "       -1.4058087 , -1.22499493, -1.19257869, -1.18652872, -1.11980795,\n",
       "       -1.09462687, -1.08560852, -1.02433587, -0.99824951, -0.98812623,\n",
       "       -0.97458779, -0.90787932, -0.88758254, -0.88670438, -0.86624653,\n",
       "       -0.83644696, -0.82000341, -0.81248154, -0.80904009, -0.80313042,\n",
       "       -0.73626311, -0.73212503, -0.72977296, -0.72137884, -0.61467441,\n",
       "       -0.51999357, -0.50649976, -0.48660843, -0.41776667, -0.41391874,\n",
       "       -0.33623686, -0.3019117 , -0.29664107, -0.2861616 , -0.26883543,\n",
       "       -0.25974812, -0.24299933, -0.21578979, -0.20181847, -0.18981257,\n",
       "       -0.1882602 , -0.16699522, -0.1667407 , -0.16105684, -0.15502709,\n",
       "       -0.10617622, -0.06678032,  0.00473908,  0.04611799,  0.07999298,\n",
       "        0.09160376,  0.15789352,  0.22910656,  0.24051636,  0.251565  ,\n",
       "        0.28466525,  0.32626554,  0.33109382,  0.34561263,  0.35238258,\n",
       "        0.39933957,  0.41100963,  0.42601103,  0.44119377,  0.46815017,\n",
       "        0.4718231 ,  0.5163521 ,  0.53572133,  0.56764832,  0.57701889,\n",
       "        0.57905109,  0.58971681,  0.59436858,  0.62289737,  0.67078302,\n",
       "        0.68974818,  0.69760484,  0.73990345,  0.75243759,  0.76864385,\n",
       "        0.80484321,  0.81786376,  0.99071279,  1.00538405,  1.09633477,\n",
       "        1.09850168,  1.12198081,  1.3230242 ,  1.35943658,  1.45944741,\n",
       "        1.50396574,  1.5357544 ,  1.88247677,  2.21684804,  2.49276712])"
      ]
     },
     "execution_count": 113,
     "metadata": {},
     "output_type": "execute_result"
    }
   ],
   "source": [
    "arr.sort()\n",
    "arr"
   ]
  },
  {
   "cell_type": "code",
   "execution_count": 114,
   "id": "2b03df87",
   "metadata": {},
   "outputs": [
    {
     "data": {
      "text/plain": [
       "array([[-0.18870625,  0.44769012,  0.47132587],\n",
       "       [-0.70087995,  1.30221937,  0.51135645],\n",
       "       [ 0.00364747,  0.69748774,  0.245921  ],\n",
       "       [-0.61072104, -1.11929323, -1.44953735],\n",
       "       [-0.29408148, -0.38880406,  0.79527894]])"
      ]
     },
     "execution_count": 114,
     "metadata": {},
     "output_type": "execute_result"
    }
   ],
   "source": [
    "arr = np.random.randn(5,3)\n",
    "arr"
   ]
  },
  {
   "cell_type": "code",
   "execution_count": 115,
   "id": "cde71d88",
   "metadata": {},
   "outputs": [],
   "source": [
    "arr.sort()"
   ]
  },
  {
   "cell_type": "code",
   "execution_count": 116,
   "id": "b94826e6",
   "metadata": {},
   "outputs": [
    {
     "data": {
      "text/plain": [
       "array([[-0.18870625,  0.44769012,  0.47132587],\n",
       "       [-0.70087995,  0.51135645,  1.30221937],\n",
       "       [ 0.00364747,  0.245921  ,  0.69748774],\n",
       "       [-1.44953735, -1.11929323, -0.61072104],\n",
       "       [-0.38880406, -0.29408148,  0.79527894]])"
      ]
     },
     "execution_count": 116,
     "metadata": {},
     "output_type": "execute_result"
    }
   ],
   "source": [
    "arr"
   ]
  },
  {
   "cell_type": "code",
   "execution_count": 117,
   "id": "9dd9abf2",
   "metadata": {},
   "outputs": [
    {
     "data": {
      "text/plain": [
       "array([[-0.18870625,  0.44769012,  0.47132587],\n",
       "       [-0.70087995,  0.51135645,  1.30221937],\n",
       "       [ 0.00364747,  0.245921  ,  0.69748774],\n",
       "       [-1.44953735, -1.11929323, -0.61072104],\n",
       "       [-0.38880406, -0.29408148,  0.79527894]])"
      ]
     },
     "execution_count": 117,
     "metadata": {},
     "output_type": "execute_result"
    }
   ],
   "source": [
    "arr.sort(1)\n",
    "arr"
   ]
  },
  {
   "cell_type": "code",
   "execution_count": 118,
   "id": "4653afa6",
   "metadata": {},
   "outputs": [],
   "source": [
    "# sort로 하면 axis 값이 -1이 디폴트임. 즉, 가장 마지막 축을 따라 소팅해줌"
   ]
  },
  {
   "cell_type": "code",
   "execution_count": 119,
   "id": "3300fe98",
   "metadata": {},
   "outputs": [
    {
     "data": {
      "text/plain": [
       "array([[-1.44953735, -1.11929323, -0.61072104],\n",
       "       [-0.70087995, -0.29408148,  0.47132587],\n",
       "       [-0.38880406,  0.245921  ,  0.69748774],\n",
       "       [-0.18870625,  0.44769012,  0.79527894],\n",
       "       [ 0.00364747,  0.51135645,  1.30221937]])"
      ]
     },
     "execution_count": 119,
     "metadata": {},
     "output_type": "execute_result"
    }
   ],
   "source": [
    "arr.sort(0)\n",
    "arr"
   ]
  },
  {
   "cell_type": "code",
   "execution_count": 120,
   "id": "19c4e4fa",
   "metadata": {},
   "outputs": [],
   "source": [
    "# 지정해주는 축을 따라 sorting 해줌"
   ]
  },
  {
   "cell_type": "code",
   "execution_count": 122,
   "id": "3a8258d2",
   "metadata": {},
   "outputs": [
    {
     "data": {
      "text/plain": [
       "array([-3.86430742e+00, -3.02912741e+00, -2.96350556e+00, -2.84958653e+00,\n",
       "       -2.73228599e+00, -2.59557913e+00, -2.56063119e+00, -2.53325214e+00,\n",
       "       -2.52864910e+00, -2.51714456e+00, -2.49729319e+00, -2.48010098e+00,\n",
       "       -2.42128856e+00, -2.37345948e+00, -2.34795429e+00, -2.31799657e+00,\n",
       "       -2.30253446e+00, -2.23649625e+00, -2.20352840e+00, -2.20270457e+00,\n",
       "       -2.18960176e+00, -2.18918999e+00, -2.17835032e+00, -2.16678210e+00,\n",
       "       -2.12568153e+00, -2.10270816e+00, -2.08888822e+00, -2.08548895e+00,\n",
       "       -2.08009434e+00, -2.06634774e+00, -2.06308763e+00, -2.04558573e+00,\n",
       "       -2.04273648e+00, -2.03696339e+00, -2.02503936e+00, -2.01689205e+00,\n",
       "       -1.96350482e+00, -1.95460247e+00, -1.94365976e+00, -1.88051242e+00,\n",
       "       -1.84987111e+00, -1.83473685e+00, -1.82841006e+00, -1.82236121e+00,\n",
       "       -1.81953015e+00, -1.81792102e+00, -1.81338628e+00, -1.81336934e+00,\n",
       "       -1.80868002e+00, -1.80049513e+00, -1.79092459e+00, -1.75960582e+00,\n",
       "       -1.73068857e+00, -1.72598604e+00, -1.71966378e+00, -1.70503096e+00,\n",
       "       -1.69979129e+00, -1.67186349e+00, -1.63926106e+00, -1.63835937e+00,\n",
       "       -1.63458454e+00, -1.63291367e+00, -1.60066824e+00, -1.58702901e+00,\n",
       "       -1.56946939e+00, -1.55449734e+00, -1.54565608e+00, -1.54371128e+00,\n",
       "       -1.54168899e+00, -1.53453379e+00, -1.52056765e+00, -1.51991461e+00,\n",
       "       -1.51445742e+00, -1.51096065e+00, -1.50385540e+00, -1.49268725e+00,\n",
       "       -1.47407101e+00, -1.47153881e+00, -1.46982540e+00, -1.46502640e+00,\n",
       "       -1.44425562e+00, -1.43765294e+00, -1.43511818e+00, -1.42159853e+00,\n",
       "       -1.41984192e+00, -1.41419388e+00, -1.41404266e+00, -1.41397065e+00,\n",
       "       -1.41367450e+00, -1.39377427e+00, -1.37984301e+00, -1.37686071e+00,\n",
       "       -1.37426890e+00, -1.36012907e+00, -1.35945796e+00, -1.35845104e+00,\n",
       "       -1.35549759e+00, -1.35426545e+00, -1.35161106e+00, -1.35095913e+00,\n",
       "       -1.34767335e+00, -1.34640499e+00, -1.34157014e+00, -1.32882885e+00,\n",
       "       -1.32752858e+00, -1.31184689e+00, -1.30513909e+00, -1.29297892e+00,\n",
       "       -1.28442150e+00, -1.28142800e+00, -1.27931330e+00, -1.27374701e+00,\n",
       "       -1.27314576e+00, -1.26311147e+00, -1.25594226e+00, -1.25319612e+00,\n",
       "       -1.24642665e+00, -1.24301757e+00, -1.24123439e+00, -1.23477248e+00,\n",
       "       -1.23408236e+00, -1.23071405e+00, -1.23022260e+00, -1.22376911e+00,\n",
       "       -1.22360917e+00, -1.22176476e+00, -1.21879710e+00, -1.21525005e+00,\n",
       "       -1.19187628e+00, -1.18964841e+00, -1.18776681e+00, -1.18422221e+00,\n",
       "       -1.18213036e+00, -1.17297847e+00, -1.16164185e+00, -1.12780987e+00,\n",
       "       -1.12250774e+00, -1.11521248e+00, -1.11156577e+00, -1.11141807e+00,\n",
       "       -1.11027235e+00, -1.10978742e+00, -1.10438554e+00, -1.10182422e+00,\n",
       "       -1.10013668e+00, -1.09413256e+00, -1.08581868e+00, -1.08248759e+00,\n",
       "       -1.08019798e+00, -1.07288698e+00, -1.07172686e+00, -1.07103555e+00,\n",
       "       -1.06900309e+00, -1.06128352e+00, -1.06100594e+00, -1.04614297e+00,\n",
       "       -1.02204063e+00, -1.01969320e+00, -1.01798074e+00, -1.01554555e+00,\n",
       "       -1.01045732e+00, -1.00908814e+00, -1.00421620e+00, -1.00219945e+00,\n",
       "       -9.98786441e-01, -9.98139312e-01, -9.90882636e-01, -9.88553062e-01,\n",
       "       -9.84105311e-01, -9.81181307e-01, -9.74949057e-01, -9.65699924e-01,\n",
       "       -9.62928560e-01, -9.54254881e-01, -9.49101811e-01, -9.48427287e-01,\n",
       "       -9.45214445e-01, -9.44560936e-01, -9.39638210e-01, -9.27315507e-01,\n",
       "       -9.12736047e-01, -9.10850549e-01, -9.04690985e-01, -9.00172458e-01,\n",
       "       -8.96930674e-01, -8.92848066e-01, -8.84553705e-01, -8.82666759e-01,\n",
       "       -8.81562828e-01, -8.73742972e-01, -8.72150243e-01, -8.70670537e-01,\n",
       "       -8.59468118e-01, -8.52293541e-01, -8.39957442e-01, -8.36087617e-01,\n",
       "       -8.33363936e-01, -8.26329843e-01, -8.23736831e-01, -8.19372961e-01,\n",
       "       -8.16670394e-01, -8.15783004e-01, -8.14510820e-01, -8.14458214e-01,\n",
       "       -8.12061456e-01, -8.07308455e-01, -8.03118368e-01, -8.02852199e-01,\n",
       "       -8.01547761e-01, -7.98157113e-01, -7.91479254e-01, -7.85983601e-01,\n",
       "       -7.85798945e-01, -7.75290888e-01, -7.67240947e-01, -7.59301295e-01,\n",
       "       -7.56103195e-01, -7.54700238e-01, -7.46326346e-01, -7.45263271e-01,\n",
       "       -7.39342269e-01, -7.25029171e-01, -7.13853053e-01, -7.02169703e-01,\n",
       "       -6.99996771e-01, -6.99552532e-01, -6.95352957e-01, -6.93768222e-01,\n",
       "       -6.89565953e-01, -6.87514956e-01, -6.78982407e-01, -6.68014368e-01,\n",
       "       -6.66842095e-01, -6.66558303e-01, -6.63210492e-01, -6.63173457e-01,\n",
       "       -6.54980258e-01, -6.54594790e-01, -6.49344460e-01, -6.47898647e-01,\n",
       "       -6.46267299e-01, -6.45355865e-01, -6.41541165e-01, -6.33213804e-01,\n",
       "       -6.28973294e-01, -6.28778696e-01, -6.26684360e-01, -6.25652012e-01,\n",
       "       -6.24690222e-01, -6.19944733e-01, -6.19368328e-01, -6.18756129e-01,\n",
       "       -6.14958441e-01, -6.06051543e-01, -6.04298896e-01, -6.00491482e-01,\n",
       "       -6.00360398e-01, -5.98991023e-01, -5.93073022e-01, -5.88036141e-01,\n",
       "       -5.81627151e-01, -5.73224383e-01, -5.70083054e-01, -5.65712983e-01,\n",
       "       -5.63442922e-01, -5.60397795e-01, -5.59786515e-01, -5.59466060e-01,\n",
       "       -5.55372622e-01, -5.54258750e-01, -5.50038142e-01, -5.48333990e-01,\n",
       "       -5.47266629e-01, -5.47257479e-01, -5.46582655e-01, -5.39651868e-01,\n",
       "       -5.39465786e-01, -5.38004363e-01, -5.34808526e-01, -5.34689181e-01,\n",
       "       -5.30885768e-01, -5.28032071e-01, -5.26473984e-01, -5.24219449e-01,\n",
       "       -5.20429007e-01, -5.15933306e-01, -5.14881814e-01, -5.03203673e-01,\n",
       "       -5.02976585e-01, -5.01032496e-01, -5.00539713e-01, -4.99562110e-01,\n",
       "       -4.99494799e-01, -4.98068522e-01, -4.90644210e-01, -4.86609316e-01,\n",
       "       -4.85727727e-01, -4.84950437e-01, -4.82103862e-01, -4.76997787e-01,\n",
       "       -4.72665650e-01, -4.71877472e-01, -4.62453505e-01, -4.57204457e-01,\n",
       "       -4.55610994e-01, -4.52371673e-01, -4.52234945e-01, -4.49804446e-01,\n",
       "       -4.49080746e-01, -4.40582235e-01, -4.40285987e-01, -4.33144088e-01,\n",
       "       -4.31824643e-01, -4.29391550e-01, -4.25383820e-01, -4.22725503e-01,\n",
       "       -4.18349411e-01, -4.14565877e-01, -4.11998700e-01, -4.09250308e-01,\n",
       "       -4.06296647e-01, -4.05714495e-01, -4.02093829e-01, -4.01081256e-01,\n",
       "       -3.99009876e-01, -3.92809251e-01, -3.89284578e-01, -3.84736731e-01,\n",
       "       -3.84087695e-01, -3.79773356e-01, -3.76887102e-01, -3.71397185e-01,\n",
       "       -3.68921503e-01, -3.67757292e-01, -3.64077761e-01, -3.60692772e-01,\n",
       "       -3.58955171e-01, -3.56284365e-01, -3.47962513e-01, -3.45738698e-01,\n",
       "       -3.43689170e-01, -3.40880581e-01, -3.40731560e-01, -3.38467460e-01,\n",
       "       -3.30684605e-01, -3.23505923e-01, -3.21834404e-01, -3.17725887e-01,\n",
       "       -3.17094678e-01, -3.17031119e-01, -3.12087341e-01, -3.11889472e-01,\n",
       "       -3.10675035e-01, -3.10354892e-01, -3.08857830e-01, -3.01590236e-01,\n",
       "       -2.96342524e-01, -2.95861003e-01, -2.93457437e-01, -2.92503245e-01,\n",
       "       -2.89083439e-01, -2.88019922e-01, -2.81509141e-01, -2.80972119e-01,\n",
       "       -2.79190028e-01, -2.75209784e-01, -2.74196092e-01, -2.73649937e-01,\n",
       "       -2.62945232e-01, -2.62630439e-01, -2.60315345e-01, -2.56375627e-01,\n",
       "       -2.48658771e-01, -2.47822563e-01, -2.47017196e-01, -2.46987896e-01,\n",
       "       -2.45519921e-01, -2.43714611e-01, -2.42938343e-01, -2.41957045e-01,\n",
       "       -2.41667483e-01, -2.34196556e-01, -2.34111317e-01, -2.31493850e-01,\n",
       "       -2.28568696e-01, -2.28102005e-01, -2.26609605e-01, -2.26153532e-01,\n",
       "       -2.25005380e-01, -2.24614804e-01, -2.23579239e-01, -2.21512962e-01,\n",
       "       -2.19831708e-01, -2.15450685e-01, -2.15328146e-01, -2.13802252e-01,\n",
       "       -2.12224171e-01, -2.08043290e-01, -2.07282592e-01, -2.06488155e-01,\n",
       "       -2.03983204e-01, -2.02847607e-01, -2.01646977e-01, -2.00115752e-01,\n",
       "       -1.99479212e-01, -1.95426534e-01, -1.93870575e-01, -1.91132167e-01,\n",
       "       -1.88038345e-01, -1.87507024e-01, -1.84284230e-01, -1.83614279e-01,\n",
       "       -1.80406481e-01, -1.77655260e-01, -1.76018889e-01, -1.73679303e-01,\n",
       "       -1.72959594e-01, -1.72697014e-01, -1.71998256e-01, -1.71765209e-01,\n",
       "       -1.67503001e-01, -1.64122683e-01, -1.62496762e-01, -1.60736372e-01,\n",
       "       -1.59202147e-01, -1.59036916e-01, -1.55310287e-01, -1.51321772e-01,\n",
       "       -1.50615297e-01, -1.46321907e-01, -1.40187006e-01, -1.38693681e-01,\n",
       "       -1.37968649e-01, -1.36990773e-01, -1.36367099e-01, -1.35097023e-01,\n",
       "       -1.31955345e-01, -1.31476801e-01, -1.31076241e-01, -1.30670023e-01,\n",
       "       -1.29576731e-01, -1.28378448e-01, -1.25304636e-01, -1.22592985e-01,\n",
       "       -1.13148552e-01, -1.12537180e-01, -1.10541708e-01, -1.08491094e-01,\n",
       "       -1.03582370e-01, -9.77999440e-02, -9.60023168e-02, -9.03149056e-02,\n",
       "       -8.94042138e-02, -8.93198343e-02, -8.59254817e-02, -8.37429893e-02,\n",
       "       -8.18276945e-02, -7.33463394e-02, -7.32912816e-02, -6.81337354e-02,\n",
       "       -6.77258332e-02, -6.56633745e-02, -6.26452564e-02, -5.85724208e-02,\n",
       "       -5.71375626e-02, -5.44003992e-02, -4.63176962e-02, -4.35342256e-02,\n",
       "       -4.21501413e-02, -4.06598902e-02, -3.98197750e-02, -3.90378381e-02,\n",
       "       -3.62698598e-02, -3.48066568e-02, -3.20847604e-02, -2.55573601e-02,\n",
       "       -2.47954351e-02, -1.91809054e-02, -1.85138315e-02, -1.04376653e-02,\n",
       "       -1.03522085e-02, -8.53959550e-03, -8.49583417e-03, -6.60758490e-03,\n",
       "       -6.46515141e-03, -5.79553592e-03, -4.18181667e-03,  1.07143599e-03,\n",
       "        2.22823034e-03,  3.69296598e-03,  8.99066598e-03,  1.19974187e-02,\n",
       "        1.32503592e-02,  2.07773007e-02,  2.13877627e-02,  2.37730407e-02,\n",
       "        2.56446661e-02,  2.71028827e-02,  2.84519763e-02,  2.89779505e-02,\n",
       "        3.17339679e-02,  3.27751292e-02,  3.75904724e-02,  4.37409988e-02,\n",
       "        4.43757828e-02,  4.51336292e-02,  4.59562157e-02,  4.67420026e-02,\n",
       "        5.05091905e-02,  5.32482782e-02,  5.37545685e-02,  5.45828100e-02,\n",
       "        5.63134953e-02,  6.10297396e-02,  6.31827518e-02,  6.70178275e-02,\n",
       "        6.70412690e-02,  6.98948211e-02,  7.16393258e-02,  7.46629998e-02,\n",
       "        7.52691541e-02,  7.56476303e-02,  7.82386632e-02,  7.93415311e-02,\n",
       "        7.98943940e-02,  8.15507638e-02,  8.77631454e-02,  9.08793423e-02,\n",
       "        9.09485106e-02,  9.11414413e-02,  9.95212953e-02,  1.05472202e-01,\n",
       "        1.05844963e-01,  1.07309268e-01,  1.08144073e-01,  1.09212458e-01,\n",
       "        1.15469973e-01,  1.16652043e-01,  1.16730867e-01,  1.18610060e-01,\n",
       "        1.21423842e-01,  1.23286792e-01,  1.24684485e-01,  1.27686469e-01,\n",
       "        1.29323224e-01,  1.29426878e-01,  1.36583191e-01,  1.36652285e-01,\n",
       "        1.36751712e-01,  1.38349273e-01,  1.39014713e-01,  1.39284965e-01,\n",
       "        1.39606618e-01,  1.47110442e-01,  1.49459430e-01,  1.51973200e-01,\n",
       "        1.57696076e-01,  1.59151595e-01,  1.60160119e-01,  1.64745398e-01,\n",
       "        1.68355176e-01,  1.71611632e-01,  1.75488821e-01,  1.75975914e-01,\n",
       "        1.81129152e-01,  1.83424311e-01,  1.86195331e-01,  1.87294612e-01,\n",
       "        1.88765768e-01,  1.99475525e-01,  2.00813099e-01,  2.02434503e-01,\n",
       "        2.05624110e-01,  2.08778930e-01,  2.09924690e-01,  2.11299942e-01,\n",
       "        2.13391315e-01,  2.13723435e-01,  2.13754553e-01,  2.15736469e-01,\n",
       "        2.15908973e-01,  2.16003688e-01,  2.18399077e-01,  2.20031093e-01,\n",
       "        2.21074275e-01,  2.27918221e-01,  2.29326541e-01,  2.31105912e-01,\n",
       "        2.32708773e-01,  2.33737896e-01,  2.34036837e-01,  2.34222244e-01,\n",
       "        2.34469398e-01,  2.37106041e-01,  2.41915539e-01,  2.44604438e-01,\n",
       "        2.48444993e-01,  2.53397386e-01,  2.54740063e-01,  2.55828806e-01,\n",
       "        2.56042780e-01,  2.56489493e-01,  2.58591812e-01,  2.60007880e-01,\n",
       "        2.69712724e-01,  2.77946986e-01,  2.81470358e-01,  2.83179130e-01,\n",
       "        2.83213367e-01,  2.88715953e-01,  2.89089116e-01,  2.93716356e-01,\n",
       "        2.96123876e-01,  3.00193065e-01,  3.02207592e-01,  3.03798909e-01,\n",
       "        3.05155629e-01,  3.09592898e-01,  3.15381245e-01,  3.15548222e-01,\n",
       "        3.19140894e-01,  3.22143776e-01,  3.27050538e-01,  3.31279886e-01,\n",
       "        3.32904518e-01,  3.32935811e-01,  3.34711835e-01,  3.43535574e-01,\n",
       "        3.43788000e-01,  3.44468340e-01,  3.45825488e-01,  3.47691723e-01,\n",
       "        3.49558395e-01,  3.50078176e-01,  3.58023837e-01,  3.63279331e-01,\n",
       "        3.66036921e-01,  3.67980902e-01,  3.69184004e-01,  3.70172726e-01,\n",
       "        3.70627684e-01,  3.74709149e-01,  3.77426852e-01,  3.77453650e-01,\n",
       "        3.82986944e-01,  3.85000776e-01,  3.85261711e-01,  3.89285536e-01,\n",
       "        3.89458404e-01,  3.95722375e-01,  4.00685424e-01,  4.02591909e-01,\n",
       "        4.06975561e-01,  4.07914675e-01,  4.15214421e-01,  4.15493336e-01,\n",
       "        4.17936169e-01,  4.19179506e-01,  4.19532034e-01,  4.19759221e-01,\n",
       "        4.22617565e-01,  4.22700664e-01,  4.23196883e-01,  4.28439745e-01,\n",
       "        4.32897535e-01,  4.37638638e-01,  4.42042380e-01,  4.43271109e-01,\n",
       "        4.43278312e-01,  4.45901258e-01,  4.55735198e-01,  4.57777634e-01,\n",
       "        4.59097503e-01,  4.62459756e-01,  4.63253799e-01,  4.64417021e-01,\n",
       "        4.66175168e-01,  4.70144849e-01,  4.73513887e-01,  4.76129579e-01,\n",
       "        4.76273902e-01,  4.78375332e-01,  4.85671382e-01,  4.88997159e-01,\n",
       "        4.91386065e-01,  4.94372124e-01,  4.98599849e-01,  4.98898533e-01,\n",
       "        5.17257969e-01,  5.17673220e-01,  5.18015108e-01,  5.18338014e-01,\n",
       "        5.18509901e-01,  5.20111962e-01,  5.20730549e-01,  5.27634981e-01,\n",
       "        5.28016466e-01,  5.33744059e-01,  5.36479987e-01,  5.42425989e-01,\n",
       "        5.44675045e-01,  5.44762318e-01,  5.48593822e-01,  5.49984685e-01,\n",
       "        5.53041231e-01,  5.59108684e-01,  5.60956484e-01,  5.65584672e-01,\n",
       "        5.71160718e-01,  5.71459692e-01,  5.75773709e-01,  5.78170554e-01,\n",
       "        5.81497805e-01,  5.88173130e-01,  5.90120029e-01,  5.91438693e-01,\n",
       "        5.97099312e-01,  5.97416892e-01,  5.98865568e-01,  5.99183272e-01,\n",
       "        6.01521209e-01,  6.03128743e-01,  6.04787857e-01,  6.07010917e-01,\n",
       "        6.08597245e-01,  6.19324236e-01,  6.20439869e-01,  6.21820849e-01,\n",
       "        6.23314889e-01,  6.28351432e-01,  6.31408020e-01,  6.36556521e-01,\n",
       "        6.39394861e-01,  6.42594744e-01,  6.43491797e-01,  6.46083230e-01,\n",
       "        6.48130597e-01,  6.50828457e-01,  6.51234207e-01,  6.51481931e-01,\n",
       "        6.51970468e-01,  6.54131916e-01,  6.56020517e-01,  6.61362766e-01,\n",
       "        6.61493831e-01,  6.66162013e-01,  6.71443209e-01,  6.72032795e-01,\n",
       "        6.79726451e-01,  6.82944858e-01,  6.84198697e-01,  6.86608600e-01,\n",
       "        6.98179802e-01,  7.02432428e-01,  7.04061489e-01,  7.10924645e-01,\n",
       "        7.13518797e-01,  7.16101967e-01,  7.16478281e-01,  7.17909008e-01,\n",
       "        7.20880298e-01,  7.26838534e-01,  7.28483800e-01,  7.31655316e-01,\n",
       "        7.38116644e-01,  7.40703528e-01,  7.48023784e-01,  7.61805212e-01,\n",
       "        7.63277678e-01,  7.64181429e-01,  7.64197525e-01,  7.64609826e-01,\n",
       "        7.69850021e-01,  7.73049910e-01,  7.87806265e-01,  8.00068879e-01,\n",
       "        8.01568612e-01,  8.02365176e-01,  8.06357645e-01,  8.07693462e-01,\n",
       "        8.10138516e-01,  8.15270401e-01,  8.15684178e-01,  8.27226763e-01,\n",
       "        8.27315041e-01,  8.30604563e-01,  8.31365724e-01,  8.32269925e-01,\n",
       "        8.36061599e-01,  8.40215334e-01,  8.42275835e-01,  8.44503317e-01,\n",
       "        8.46710063e-01,  8.54393355e-01,  8.54465635e-01,  8.54528808e-01,\n",
       "        8.64282902e-01,  8.73031629e-01,  8.73250676e-01,  8.73601397e-01,\n",
       "        8.76905848e-01,  8.77368645e-01,  8.87792486e-01,  8.87982012e-01,\n",
       "        8.90289490e-01,  8.91536372e-01,  8.91955419e-01,  8.99697164e-01,\n",
       "        8.99766709e-01,  9.02795585e-01,  9.09287023e-01,  9.10583942e-01,\n",
       "        9.13000522e-01,  9.14114799e-01,  9.19273888e-01,  9.20089923e-01,\n",
       "        9.24094048e-01,  9.32086525e-01,  9.34050413e-01,  9.38045303e-01,\n",
       "        9.47261686e-01,  9.48077240e-01,  9.51318033e-01,  9.52118116e-01,\n",
       "        9.52444240e-01,  9.57267866e-01,  9.58407523e-01,  9.58499281e-01,\n",
       "        9.58538793e-01,  9.60275347e-01,  9.62244076e-01,  9.62593512e-01,\n",
       "        9.68286257e-01,  9.69987579e-01,  9.80978680e-01,  9.82118667e-01,\n",
       "        9.83890743e-01,  9.86214480e-01,  9.87035017e-01,  9.92671145e-01,\n",
       "        9.92835970e-01,  9.94794317e-01,  9.98086862e-01,  1.01440798e+00,\n",
       "        1.01870130e+00,  1.02290948e+00,  1.02898136e+00,  1.02980467e+00,\n",
       "        1.03278240e+00,  1.03791953e+00,  1.04165174e+00,  1.05100558e+00,\n",
       "        1.05122861e+00,  1.06258120e+00,  1.06657897e+00,  1.07724838e+00,\n",
       "        1.08019045e+00,  1.08607371e+00,  1.08746746e+00,  1.08804800e+00,\n",
       "        1.08853753e+00,  1.10756961e+00,  1.11164765e+00,  1.11939403e+00,\n",
       "        1.11978043e+00,  1.12029137e+00,  1.12092648e+00,  1.12567139e+00,\n",
       "        1.12893947e+00,  1.12981724e+00,  1.13263712e+00,  1.13463622e+00,\n",
       "        1.14254808e+00,  1.16822691e+00,  1.16982513e+00,  1.18133621e+00,\n",
       "        1.18611342e+00,  1.19054898e+00,  1.19883546e+00,  1.20239414e+00,\n",
       "        1.20304910e+00,  1.21910368e+00,  1.22363386e+00,  1.22991885e+00,\n",
       "        1.23225675e+00,  1.23234302e+00,  1.23661115e+00,  1.24335440e+00,\n",
       "        1.25388032e+00,  1.25406346e+00,  1.25989759e+00,  1.26500487e+00,\n",
       "        1.27748408e+00,  1.29509274e+00,  1.30388775e+00,  1.30747363e+00,\n",
       "        1.31198541e+00,  1.31211415e+00,  1.32543979e+00,  1.32564257e+00,\n",
       "        1.33777867e+00,  1.34278590e+00,  1.35247309e+00,  1.35700275e+00,\n",
       "        1.36837821e+00,  1.38005114e+00,  1.38096472e+00,  1.38334365e+00,\n",
       "        1.38659379e+00,  1.40029058e+00,  1.40283688e+00,  1.40771798e+00,\n",
       "        1.42307698e+00,  1.43456486e+00,  1.44455561e+00,  1.44840285e+00,\n",
       "        1.45113040e+00,  1.45169925e+00,  1.45778474e+00,  1.45996108e+00,\n",
       "        1.46247043e+00,  1.47260835e+00,  1.48363803e+00,  1.48372311e+00,\n",
       "        1.48643106e+00,  1.52806990e+00,  1.53105512e+00,  1.54380521e+00,\n",
       "        1.54853056e+00,  1.55102941e+00,  1.56217521e+00,  1.57142196e+00,\n",
       "        1.58422001e+00,  1.59252389e+00,  1.59481208e+00,  1.61954125e+00,\n",
       "        1.62738439e+00,  1.62781040e+00,  1.66267133e+00,  1.68332121e+00,\n",
       "        1.68871594e+00,  1.70202573e+00,  1.71062016e+00,  1.71187776e+00,\n",
       "        1.71747224e+00,  1.72337060e+00,  1.73577925e+00,  1.74884469e+00,\n",
       "        1.75256516e+00,  1.75434668e+00,  1.76077670e+00,  1.76121089e+00,\n",
       "        1.76929048e+00,  1.78141909e+00,  1.78568962e+00,  1.78756560e+00,\n",
       "        1.81003811e+00,  1.83298512e+00,  1.83772138e+00,  1.84155322e+00,\n",
       "        1.84338038e+00,  1.84834541e+00,  1.84869311e+00,  1.87708798e+00,\n",
       "        1.88962141e+00,  1.90173134e+00,  1.92481017e+00,  1.96323093e+00,\n",
       "        2.00530899e+00,  2.04210119e+00,  2.05659279e+00,  2.07207920e+00,\n",
       "        2.09489568e+00,  2.11625187e+00,  2.11995378e+00,  2.13675582e+00,\n",
       "        2.15950051e+00,  2.19820452e+00,  2.20315218e+00,  2.24578775e+00,\n",
       "        2.24811541e+00,  2.28574029e+00,  2.30568160e+00,  2.34094729e+00,\n",
       "        2.35998950e+00,  2.37545333e+00,  2.38360032e+00,  2.43738929e+00,\n",
       "        2.44212819e+00,  2.47010779e+00,  2.51254129e+00,  2.52977092e+00,\n",
       "        2.55514156e+00,  2.62423416e+00,  2.83202116e+00,  2.97620919e+00,\n",
       "        2.98505006e+00,  3.17947642e+00,  3.23391997e+00,  3.24058192e+00])"
      ]
     },
     "execution_count": 122,
     "metadata": {},
     "output_type": "execute_result"
    }
   ],
   "source": [
    "large_arr = np.random.randn(1000)\n",
    "large_arr.sort()\n",
    "large_arr"
   ]
  },
  {
   "cell_type": "code",
   "execution_count": 123,
   "id": "6f011241",
   "metadata": {},
   "outputs": [],
   "source": [
    "# 5프로 순위에 있는 값을 알고 싶을 때"
   ]
  },
  {
   "cell_type": "code",
   "execution_count": 124,
   "id": "5f566ef4",
   "metadata": {},
   "outputs": [
    {
     "data": {
      "text/plain": [
       "50.0"
      ]
     },
     "execution_count": 124,
     "metadata": {},
     "output_type": "execute_result"
    }
   ],
   "source": [
    "0.05 * len(large_arr)"
   ]
  },
  {
   "cell_type": "code",
   "execution_count": 125,
   "id": "c9442f0d",
   "metadata": {},
   "outputs": [
    {
     "data": {
      "text/plain": [
       "50"
      ]
     },
     "execution_count": 125,
     "metadata": {},
     "output_type": "execute_result"
    }
   ],
   "source": [
    "int(0.05 * len(large_arr))"
   ]
  },
  {
   "cell_type": "code",
   "execution_count": 126,
   "id": "e24800be",
   "metadata": {},
   "outputs": [
    {
     "data": {
      "text/plain": [
       "-1.7909245876206816"
      ]
     },
     "execution_count": 126,
     "metadata": {},
     "output_type": "execute_result"
    }
   ],
   "source": [
    "large_arr[int(0.05 * len(large_arr))]"
   ]
  },
  {
   "cell_type": "code",
   "execution_count": 128,
   "id": "01c94b0b",
   "metadata": {},
   "outputs": [],
   "source": [
    "# 이러면 50번째에 있는 값을 알아내 줌"
   ]
  },
  {
   "cell_type": "code",
   "execution_count": 129,
   "id": "8ec50e24",
   "metadata": {},
   "outputs": [
    {
     "data": {
      "text/plain": [
       "array([[-1.44953735, -1.11929323, -0.61072104],\n",
       "       [-0.70087995, -0.29408148,  0.47132587],\n",
       "       [-0.38880406,  0.245921  ,  0.69748774],\n",
       "       [-0.18870625,  0.44769012,  0.79527894],\n",
       "       [ 0.00364747,  0.51135645,  1.30221937]])"
      ]
     },
     "execution_count": 129,
     "metadata": {},
     "output_type": "execute_result"
    }
   ],
   "source": [
    "np.random.randn(5, 3)\n",
    "arr"
   ]
  },
  {
   "cell_type": "code",
   "execution_count": 130,
   "id": "d1f2cbfc",
   "metadata": {},
   "outputs": [
    {
     "data": {
      "text/plain": [
       "array([[-1.44953735, -1.11929323, -0.61072104],\n",
       "       [-0.70087995, -0.29408148,  0.47132587],\n",
       "       [-0.38880406,  0.245921  ,  0.69748774],\n",
       "       [-0.18870625,  0.44769012,  0.79527894],\n",
       "       [ 0.00364747,  0.51135645,  1.30221937]])"
      ]
     },
     "execution_count": 130,
     "metadata": {},
     "output_type": "execute_result"
    }
   ],
   "source": [
    "r = np.sort(arr, 1) # 1 안써도 1번축 기준임\n",
    "r"
   ]
  },
  {
   "cell_type": "code",
   "execution_count": 131,
   "id": "884fbf6c",
   "metadata": {},
   "outputs": [],
   "source": [
    "# 1번축을 따라 정렬됨"
   ]
  },
  {
   "cell_type": "code",
   "execution_count": 134,
   "id": "52db5214",
   "metadata": {},
   "outputs": [
    {
     "data": {
      "text/plain": [
       "array([[-1.44953735, -1.11929323, -0.61072104],\n",
       "       [-0.70087995, -0.29408148,  0.47132587],\n",
       "       [-0.38880406,  0.245921  ,  0.69748774],\n",
       "       [-0.18870625,  0.44769012,  0.79527894],\n",
       "       [ 0.00364747,  0.51135645,  1.30221937]])"
      ]
     },
     "execution_count": 134,
     "metadata": {},
     "output_type": "execute_result"
    }
   ],
   "source": [
    "arr"
   ]
  },
  {
   "cell_type": "code",
   "execution_count": 133,
   "id": "486c37a8",
   "metadata": {},
   "outputs": [],
   "source": [
    "# 원본은 그대로임"
   ]
  },
  {
   "cell_type": "markdown",
   "id": "6d0d58f9",
   "metadata": {},
   "source": [
    "#### 3.5 집합 관련 함수"
   ]
  },
  {
   "cell_type": "code",
   "execution_count": 135,
   "id": "d799292c",
   "metadata": {},
   "outputs": [
    {
     "data": {
      "text/plain": [
       "array(['Bob', 'Joe', 'Will'], dtype='<U4')"
      ]
     },
     "execution_count": 135,
     "metadata": {},
     "output_type": "execute_result"
    }
   ],
   "source": [
    "names = np.array(['Bob','Joe','Will','Bob','Will','Joe','Joe']) # set 함수와 비슷한걸 볼거임\n",
    "\n",
    "np.unique(names)"
   ]
  },
  {
   "cell_type": "code",
   "execution_count": 136,
   "id": "0d57ef6b",
   "metadata": {},
   "outputs": [],
   "source": [
    "# 중복이 사라짐"
   ]
  },
  {
   "cell_type": "code",
   "execution_count": 137,
   "id": "5ddd9d4d",
   "metadata": {},
   "outputs": [
    {
     "data": {
      "text/plain": [
       "array([1, 2, 3, 4])"
      ]
     },
     "execution_count": 137,
     "metadata": {},
     "output_type": "execute_result"
    }
   ],
   "source": [
    "ints = np.array([3,3,3,2,2,1,1,4,4])\n",
    "np.unique(ints)"
   ]
  },
  {
   "cell_type": "code",
   "execution_count": 139,
   "id": "7e2ac019",
   "metadata": {},
   "outputs": [
    {
     "data": {
      "text/plain": [
       "{1, 2, 3, 5}"
      ]
     },
     "execution_count": 139,
     "metadata": {},
     "output_type": "execute_result"
    }
   ],
   "source": [
    "set([5,3,3,2,5,1])"
   ]
  },
  {
   "cell_type": "code",
   "execution_count": 140,
   "id": "9ab69015",
   "metadata": {},
   "outputs": [
    {
     "data": {
      "text/plain": [
       "[1, 2, 3, 5]"
      ]
     },
     "execution_count": 140,
     "metadata": {},
     "output_type": "execute_result"
    }
   ],
   "source": [
    "sorted(set([5,3,3,2,5,1]))"
   ]
  },
  {
   "cell_type": "code",
   "execution_count": 141,
   "id": "800e92e6",
   "metadata": {},
   "outputs": [],
   "source": [
    "# 굳이 정렬 안해도 set 함수처럼 sorted를 거치지 않아도 정렬되어 나옴. 원래는 해야하나, 파이썬 레벨이 높아서 가능해짐"
   ]
  },
  {
   "cell_type": "code",
   "execution_count": 142,
   "id": "3497b0f8",
   "metadata": {},
   "outputs": [],
   "source": [
    "# np.unique는 기본적으로 정렬해서 나옴"
   ]
  },
  {
   "cell_type": "code",
   "execution_count": 143,
   "id": "10972786",
   "metadata": {},
   "outputs": [
    {
     "data": {
      "text/plain": [
       "['Bob', 'Joe', 'Will']"
      ]
     },
     "execution_count": 143,
     "metadata": {},
     "output_type": "execute_result"
    }
   ],
   "source": [
    "sorted(set(names))"
   ]
  },
  {
   "cell_type": "code",
   "execution_count": 144,
   "id": "c0a1f3c3",
   "metadata": {},
   "outputs": [
    {
     "data": {
      "text/plain": [
       "{'Bob', 'Joe', 'Will'}"
      ]
     },
     "execution_count": 144,
     "metadata": {},
     "output_type": "execute_result"
    }
   ],
   "source": [
    "set(names)"
   ]
  },
  {
   "cell_type": "code",
   "execution_count": 145,
   "id": "5dc9add8",
   "metadata": {},
   "outputs": [],
   "source": [
    "# 원래 set은 순서가 없는 자료구조임"
   ]
  },
  {
   "cell_type": "code",
   "execution_count": 146,
   "id": "3077aada",
   "metadata": {},
   "outputs": [
    {
     "data": {
      "text/plain": [
       "array([6, 0, 0, 3, 2, 5, 6])"
      ]
     },
     "execution_count": 146,
     "metadata": {},
     "output_type": "execute_result"
    }
   ],
   "source": [
    "values = np.array([6,0,0,3,2,5,6])\n",
    "values"
   ]
  },
  {
   "cell_type": "code",
   "execution_count": 148,
   "id": "7d5f55db",
   "metadata": {},
   "outputs": [
    {
     "data": {
      "text/plain": [
       "array([ True, False, False,  True,  True, False,  True])"
      ]
     },
     "execution_count": 148,
     "metadata": {},
     "output_type": "execute_result"
    }
   ],
   "source": [
    "np.in1d(values, [2,3,6]) # 첫번째 리스트의 각 원소가 2번째 리스트의 각 원소들을 가지고 있는지확인해줌"
   ]
  },
  {
   "cell_type": "markdown",
   "id": "ecb6ea4b",
   "metadata": {},
   "source": [
    "## 4. 배열 데이터의 파일 입출력"
   ]
  },
  {
   "cell_type": "code",
   "execution_count": 149,
   "id": "d0ca6845",
   "metadata": {},
   "outputs": [],
   "source": [
    "arr = np.arange(10)\n",
    "np.save(\"some_array\", arr)"
   ]
  },
  {
   "cell_type": "code",
   "execution_count": 150,
   "id": "4d876794",
   "metadata": {},
   "outputs": [],
   "source": [
    "# some_array.npy로 저장됨"
   ]
  },
  {
   "cell_type": "code",
   "execution_count": 151,
   "id": "dc6e54da",
   "metadata": {},
   "outputs": [
    {
     "data": {
      "text/plain": [
       "array([0, 1, 2, 3, 4, 5, 6, 7, 8, 9])"
      ]
     },
     "execution_count": 151,
     "metadata": {},
     "output_type": "execute_result"
    }
   ],
   "source": [
    "np.load(\"some_array.npy\")"
   ]
  },
  {
   "cell_type": "code",
   "execution_count": 152,
   "id": "5fda2031",
   "metadata": {},
   "outputs": [],
   "source": [
    "np.savez('array_archive.npz', a=arr, b=arr) # 여러개 저장"
   ]
  },
  {
   "cell_type": "code",
   "execution_count": 153,
   "id": "1edf84b8",
   "metadata": {
    "collapsed": true
   },
   "outputs": [
    {
     "name": "stdout",
     "output_type": "stream",
     "text": [
      " C 드라이브의 볼륨에는 이름이 없습니다.\n",
      " 볼륨 일련 번호: AC72-FFB5\n",
      "\n",
      " C:\\Users\\Playdata 디렉터리\n",
      "\n",
      "2021-07-22  오후 02:30    <DIR>          .\n",
      "2021-07-22  오후 02:30    <DIR>          ..\n",
      "2021-07-14  오전 09:39    <DIR>          .conda\n",
      "2021-06-29  오전 08:54                25 .condarc\n",
      "2021-06-29  오전 08:54    <DIR>          .continuum\n",
      "2021-07-22  오전 09:40    <DIR>          .ipynb_checkpoints\n",
      "2021-06-28  오후 02:41    <DIR>          .ipython\n",
      "2021-06-29  오전 09:03    <DIR>          .jupyter\n",
      "2021-06-28  오후 02:42    <DIR>          .matplotlib\n",
      "2021-06-29  오전 09:02    <DIR>          .spyder-py3\n",
      "2021-06-28  오전 08:28    <DIR>          3D Objects\n",
      "2021-07-19  오후 02:27    <DIR>          anaconda3\n",
      "2021-07-22  오후 02:30               570 array_archive.npz\n",
      "2021-07-06  오후 05:33                61 calc.py\n",
      "2021-07-14  오전 10:28        11,107,328 chromedriver.exe\n",
      "2021-07-14  오전 10:28    <DIR>          chromedriver_win32\n",
      "2021-07-14  오전 09:48         5,870,356 chromedriver_win32.zip\n",
      "2021-06-28  오전 08:28    <DIR>          Contacts\n",
      "2021-07-22  오전 09:39           890,645 Day 18 numpy day 1.ipynb\n",
      "2021-07-22  오후 02:30           223,071 Day 19 Numpy Day 2.ipynb\n",
      "2021-07-20  오후 05:07    <DIR>          Desktop\n",
      "2021-07-19  오후 02:36    <DIR>          Documents\n",
      "2021-07-21  오후 05:33    <DIR>          Downloads\n",
      "2021-06-28  오전 08:28    <DIR>          Favorites\n",
      "2021-07-12  오후 04:18            14,071 google.html\n",
      "2021-07-02  오전 10:30                59 hello.txt\n",
      "2021-07-12  오후 12:44               184 HTML_example2.html\n",
      "2021-07-02  오전 10:30               115 james.p\n",
      "2021-06-28  오전 08:28    <DIR>          Links\n",
      "2021-07-06  오후 05:13                60 main.py\n",
      "2021-07-13  오후 04:40            19,594 movie_0\n",
      "2021-07-13  오후 04:40            27,561 movie_1\n",
      "2021-07-13  오후 04:40            38,742 movie_10\n",
      "2021-07-13  오후 04:40            41,863 movie_11\n",
      "2021-07-13  오후 04:40            34,537 movie_12\n",
      "2021-07-13  오후 04:40            21,535 movie_13\n",
      "2021-07-13  오후 04:40            43,490 movie_14\n",
      "2021-07-13  오후 04:40            33,451 movie_15\n",
      "2021-07-13  오후 04:40            24,807 movie_16\n",
      "2021-07-13  오후 04:40            21,792 movie_17\n",
      "2021-07-13  오후 04:40            33,042 movie_18\n",
      "2021-07-13  오후 04:40            30,708 movie_19\n",
      "2021-07-13  오후 04:40            20,999 movie_2\n",
      "2021-07-13  오후 04:40            20,264 movie_20\n",
      "2021-07-13  오후 04:40            34,787 movie_21\n",
      "2021-07-13  오후 04:40            27,210 movie_22\n",
      "2021-07-13  오후 04:40            35,396 movie_23\n",
      "2021-07-13  오후 04:40            18,035 movie_24\n",
      "2021-07-13  오후 04:40            27,944 movie_25\n",
      "2021-07-13  오후 04:40            40,697 movie_26\n",
      "2021-07-13  오후 04:40            26,171 movie_27\n",
      "2021-07-13  오후 04:40            35,426 movie_28\n",
      "2021-07-13  오후 04:40            31,610 movie_29\n",
      "2021-07-13  오후 04:40            22,991 movie_3\n",
      "2021-07-13  오후 04:40             8,575 movie_30\n",
      "2021-07-13  오후 04:40             7,557 movie_31\n",
      "2021-07-13  오후 04:40             7,948 movie_32\n",
      "2021-07-13  오후 04:40             5,341 movie_33\n",
      "2021-07-13  오후 04:40             5,678 movie_34\n",
      "2021-07-13  오후 04:40             5,550 movie_35\n",
      "2021-07-13  오후 04:40             6,678 movie_36\n",
      "2021-07-13  오후 04:40             7,015 movie_37\n",
      "2021-07-13  오후 04:40            11,591 movie_38\n",
      "2021-07-13  오후 04:40             9,550 movie_39\n",
      "2021-07-13  오후 04:40            35,381 movie_4\n",
      "2021-07-13  오후 04:40             7,290 movie_40\n",
      "2021-07-13  오후 04:40             4,463 movie_41\n",
      "2021-07-13  오후 04:40             7,599 movie_42\n",
      "2021-07-13  오후 04:40             8,301 movie_43\n",
      "2021-07-13  오후 04:40             7,888 movie_44\n",
      "2021-07-13  오후 04:40             8,403 movie_45\n",
      "2021-07-13  오후 04:40             8,784 movie_46\n",
      "2021-07-13  오후 04:40             9,685 movie_47\n",
      "2021-07-13  오후 04:40             6,140 movie_48\n",
      "2021-07-13  오후 04:40            12,214 movie_49\n",
      "2021-07-13  오후 04:40            17,461 movie_5\n",
      "2021-07-13  오후 04:40             8,188 movie_50\n",
      "2021-07-13  오후 04:40            13,142 movie_51\n",
      "2021-07-13  오후 04:40            13,657 movie_52\n",
      "2021-07-13  오후 04:40             9,784 movie_53\n",
      "2021-07-13  오후 04:40            35,918 movie_6\n",
      "2021-07-13  오후 04:40            32,433 movie_7\n",
      "2021-07-13  오후 04:40            31,842 movie_8\n",
      "2021-07-13  오후 04:40            35,287 movie_9\n",
      "2021-06-28  오전 08:28    <DIR>          Music\n",
      "2021-07-15  오전 11:36    <DIR>          MySQLpractice\n",
      "2021-07-22  오전 09:00    <DIR>          OneDrive\n",
      "2021-07-06  오후 05:17               242 Person.py\n",
      "2021-06-28  오전 08:28    <DIR>          Pictures\n",
      "2021-06-28  오후 06:37            24,338 PP d1.ipynb\n",
      "2021-07-13  오후 05:57         3,179,171 PP D12.ipynb\n",
      "2021-07-14  오후 05:47         3,309,593 PP D13.ipynb\n",
      "2021-07-15  오전 10:40             1,177 PP D14.ipynb\n",
      "2021-06-29  오후 05:52            38,713 PP d2.ipynb\n",
      "2021-06-30  오후 05:53            22,685 PP d3.ipynb\n",
      "2021-07-01  오후 05:52            14,352 PP d4.ipynb\n",
      "2021-07-02  오후 05:53            15,659 PP D5.ipynb\n",
      "2021-07-06  오후 05:51            46,844 PP D7.ipynb\n",
      "2021-07-07  오후 05:11             2,672 PP D8.ipynb\n",
      "2021-07-08  오후 05:45            97,510 PP D9.ipynb\n",
      "2021-07-05  오후 05:50            24,497 PP day 6.ipynb\n",
      "2021-07-12  오후 06:00            19,773 PP Day11.ipynb\n",
      "2021-07-21  오후 05:31           182,704 psj.png\n",
      "2021-07-20  오후 05:18            23,575 pymysql practice 01.ipynb\n",
      "2021-06-28  오전 08:28    <DIR>          Saved Games\n",
      "2021-06-28  오전 08:28    <DIR>          Searches\n",
      "2021-07-22  오후 02:29               168 some_array.npy\n",
      "2021-07-06  오후 05:10                43 square2.py\n",
      "2021-07-06  오후 05:05    <DIR>          Untitled Folder\n",
      "2021-06-28  오후 02:41               576 Untitled.ipynb\n",
      "2021-06-28  오후 05:37               576 Untitled1.ipynb\n",
      "2021-07-12  오후 12:18                72 Untitled10.ipynb\n",
      "2021-07-13  오전 09:05                72 Untitled11.ipynb\n",
      "2021-07-14  오전 09:03               576 Untitled12.ipynb\n",
      "2021-07-14  오전 09:47                72 Untitled13.ipynb\n",
      "2021-07-15  오전 09:12                72 Untitled14.ipynb\n",
      "2021-07-19  오후 02:25                72 Untitled15.ipynb\n",
      "2021-07-21  오후 05:24            57,114 Untitled16.ipynb\n",
      "2021-06-29  오전 09:04                72 Untitled2.ipynb\n",
      "2021-06-30  오전 09:01                72 Untitled3.ipynb\n",
      "2021-07-01  오전 08:57                72 Untitled4.ipynb\n",
      "2021-07-02  오전 09:01                72 Untitled5.ipynb\n",
      "2021-07-05  오전 08:59                72 Untitled6.ipynb\n",
      "2021-07-06  오전 09:00                72 Untitled7.ipynb\n",
      "2021-07-07  오전 10:12                72 Untitled8.ipynb\n",
      "2021-07-08  오전 08:49                72 Untitled9.ipynb\n",
      "2021-06-28  오전 08:28    <DIR>          Videos\n",
      "2021-07-02  오전 10:33                84 words.txt\n",
      "2021-07-06  오후 05:11    <DIR>          __pycache__\n",
      "             102개 파일          26,272,118 바이트\n",
      "              27개 디렉터리  195,113,607,168 바이트 남음\n"
     ]
    }
   ],
   "source": [
    "!dir"
   ]
  },
  {
   "cell_type": "code",
   "execution_count": 154,
   "id": "21b71be9",
   "metadata": {},
   "outputs": [],
   "source": [
    "arch = np.load('array_archive.npz')"
   ]
  },
  {
   "cell_type": "code",
   "execution_count": 156,
   "id": "56a500c6",
   "metadata": {},
   "outputs": [
    {
     "data": {
      "text/plain": [
       "array([0, 1, 2, 3, 4, 5, 6, 7, 8, 9])"
      ]
     },
     "execution_count": 156,
     "metadata": {},
     "output_type": "execute_result"
    }
   ],
   "source": [
    "arch['a']"
   ]
  },
  {
   "cell_type": "code",
   "execution_count": 157,
   "id": "69849c51",
   "metadata": {},
   "outputs": [
    {
     "data": {
      "text/plain": [
       "array([0, 1, 2, 3, 4, 5, 6, 7, 8, 9])"
      ]
     },
     "execution_count": 157,
     "metadata": {},
     "output_type": "execute_result"
    }
   ],
   "source": [
    "arch['b']"
   ]
  },
  {
   "cell_type": "code",
   "execution_count": 158,
   "id": "5efb5b14",
   "metadata": {},
   "outputs": [],
   "source": [
    "# 두개가 저장되었고, 불러올땐 이렇게 가져와야됨"
   ]
  },
  {
   "cell_type": "code",
   "execution_count": 159,
   "id": "555a0d04",
   "metadata": {},
   "outputs": [
    {
     "ename": "TypeError",
     "evalue": "not all arguments converted during string formatting",
     "output_type": "error",
     "traceback": [
      "\u001b[1;31m---------------------------------------------------------------------------\u001b[0m",
      "\u001b[1;31mTypeError\u001b[0m                                 Traceback (most recent call last)",
      "\u001b[1;32m<ipython-input-159-d1ad8228674b>\u001b[0m in \u001b[0;36m<module>\u001b[1;34m\u001b[0m\n\u001b[1;32m----> 1\u001b[1;33m \u001b[0march\u001b[0m\u001b[1;33m[\u001b[0m\u001b[1;34m'a'\u001b[0m\u001b[1;33m,\u001b[0m\u001b[1;34m'b'\u001b[0m\u001b[1;33m]\u001b[0m\u001b[1;33m\u001b[0m\u001b[1;33m\u001b[0m\u001b[0m\n\u001b[0m",
      "\u001b[1;32m~\\anaconda3\\lib\\site-packages\\numpy\\lib\\npyio.py\u001b[0m in \u001b[0;36m__getitem__\u001b[1;34m(self, key)\u001b[0m\n\u001b[0;32m    258\u001b[0m                 \u001b[1;32mreturn\u001b[0m \u001b[0mself\u001b[0m\u001b[1;33m.\u001b[0m\u001b[0mzip\u001b[0m\u001b[1;33m.\u001b[0m\u001b[0mread\u001b[0m\u001b[1;33m(\u001b[0m\u001b[0mkey\u001b[0m\u001b[1;33m)\u001b[0m\u001b[1;33m\u001b[0m\u001b[1;33m\u001b[0m\u001b[0m\n\u001b[0;32m    259\u001b[0m         \u001b[1;32melse\u001b[0m\u001b[1;33m:\u001b[0m\u001b[1;33m\u001b[0m\u001b[1;33m\u001b[0m\u001b[0m\n\u001b[1;32m--> 260\u001b[1;33m             \u001b[1;32mraise\u001b[0m \u001b[0mKeyError\u001b[0m\u001b[1;33m(\u001b[0m\u001b[1;34m\"%s is not a file in the archive\"\u001b[0m \u001b[1;33m%\u001b[0m \u001b[0mkey\u001b[0m\u001b[1;33m)\u001b[0m\u001b[1;33m\u001b[0m\u001b[1;33m\u001b[0m\u001b[0m\n\u001b[0m\u001b[0;32m    261\u001b[0m \u001b[1;33m\u001b[0m\u001b[0m\n\u001b[0;32m    262\u001b[0m \u001b[1;33m\u001b[0m\u001b[0m\n",
      "\u001b[1;31mTypeError\u001b[0m: not all arguments converted during string formatting"
     ]
    }
   ],
   "source": [
    "arch['a','b']"
   ]
  },
  {
   "cell_type": "code",
   "execution_count": 160,
   "id": "ed945a54",
   "metadata": {},
   "outputs": [],
   "source": [
    "# 이건 안됨"
   ]
  },
  {
   "cell_type": "code",
   "execution_count": 161,
   "id": "fa86a39d",
   "metadata": {},
   "outputs": [],
   "source": [
    "np.savez_compressed(\"arrays_compressed.npz\", a = arr, b = arr)"
   ]
  },
  {
   "cell_type": "code",
   "execution_count": 162,
   "id": "21818a36",
   "metadata": {
    "collapsed": true
   },
   "outputs": [
    {
     "name": "stdout",
     "output_type": "stream",
     "text": [
      " C 드라이브의 볼륨에는 이름이 없습니다.\n",
      " 볼륨 일련 번호: AC72-FFB5\n",
      "\n",
      " C:\\Users\\Playdata 디렉터리\n",
      "\n",
      "2021-07-22  오후 02:33    <DIR>          .\n",
      "2021-07-22  오후 02:33    <DIR>          ..\n",
      "2021-07-14  오전 09:39    <DIR>          .conda\n",
      "2021-06-29  오전 08:54                25 .condarc\n",
      "2021-06-29  오전 08:54    <DIR>          .continuum\n",
      "2021-07-22  오전 09:40    <DIR>          .ipynb_checkpoints\n",
      "2021-06-28  오후 02:41    <DIR>          .ipython\n",
      "2021-06-29  오전 09:03    <DIR>          .jupyter\n",
      "2021-06-28  오후 02:42    <DIR>          .matplotlib\n",
      "2021-06-29  오전 09:02    <DIR>          .spyder-py3\n",
      "2021-06-28  오전 08:28    <DIR>          3D Objects\n",
      "2021-07-19  오후 02:27    <DIR>          anaconda3\n",
      "2021-07-22  오후 02:33               422 arrays_compressed.npz\n",
      "2021-07-22  오후 02:30               570 array_archive.npz\n",
      "2021-07-06  오후 05:33                61 calc.py\n",
      "2021-07-14  오전 10:28        11,107,328 chromedriver.exe\n",
      "2021-07-14  오전 10:28    <DIR>          chromedriver_win32\n",
      "2021-07-14  오전 09:48         5,870,356 chromedriver_win32.zip\n",
      "2021-06-28  오전 08:28    <DIR>          Contacts\n",
      "2021-07-22  오전 09:39           890,645 Day 18 numpy day 1.ipynb\n",
      "2021-07-22  오후 02:32           232,839 Day 19 Numpy Day 2.ipynb\n",
      "2021-07-20  오후 05:07    <DIR>          Desktop\n",
      "2021-07-19  오후 02:36    <DIR>          Documents\n",
      "2021-07-21  오후 05:33    <DIR>          Downloads\n",
      "2021-06-28  오전 08:28    <DIR>          Favorites\n",
      "2021-07-12  오후 04:18            14,071 google.html\n",
      "2021-07-02  오전 10:30                59 hello.txt\n",
      "2021-07-12  오후 12:44               184 HTML_example2.html\n",
      "2021-07-02  오전 10:30               115 james.p\n",
      "2021-06-28  오전 08:28    <DIR>          Links\n",
      "2021-07-06  오후 05:13                60 main.py\n",
      "2021-07-13  오후 04:40            19,594 movie_0\n",
      "2021-07-13  오후 04:40            27,561 movie_1\n",
      "2021-07-13  오후 04:40            38,742 movie_10\n",
      "2021-07-13  오후 04:40            41,863 movie_11\n",
      "2021-07-13  오후 04:40            34,537 movie_12\n",
      "2021-07-13  오후 04:40            21,535 movie_13\n",
      "2021-07-13  오후 04:40            43,490 movie_14\n",
      "2021-07-13  오후 04:40            33,451 movie_15\n",
      "2021-07-13  오후 04:40            24,807 movie_16\n",
      "2021-07-13  오후 04:40            21,792 movie_17\n",
      "2021-07-13  오후 04:40            33,042 movie_18\n",
      "2021-07-13  오후 04:40            30,708 movie_19\n",
      "2021-07-13  오후 04:40            20,999 movie_2\n",
      "2021-07-13  오후 04:40            20,264 movie_20\n",
      "2021-07-13  오후 04:40            34,787 movie_21\n",
      "2021-07-13  오후 04:40            27,210 movie_22\n",
      "2021-07-13  오후 04:40            35,396 movie_23\n",
      "2021-07-13  오후 04:40            18,035 movie_24\n",
      "2021-07-13  오후 04:40            27,944 movie_25\n",
      "2021-07-13  오후 04:40            40,697 movie_26\n",
      "2021-07-13  오후 04:40            26,171 movie_27\n",
      "2021-07-13  오후 04:40            35,426 movie_28\n",
      "2021-07-13  오후 04:40            31,610 movie_29\n",
      "2021-07-13  오후 04:40            22,991 movie_3\n",
      "2021-07-13  오후 04:40             8,575 movie_30\n",
      "2021-07-13  오후 04:40             7,557 movie_31\n",
      "2021-07-13  오후 04:40             7,948 movie_32\n",
      "2021-07-13  오후 04:40             5,341 movie_33\n",
      "2021-07-13  오후 04:40             5,678 movie_34\n",
      "2021-07-13  오후 04:40             5,550 movie_35\n",
      "2021-07-13  오후 04:40             6,678 movie_36\n",
      "2021-07-13  오후 04:40             7,015 movie_37\n",
      "2021-07-13  오후 04:40            11,591 movie_38\n",
      "2021-07-13  오후 04:40             9,550 movie_39\n",
      "2021-07-13  오후 04:40            35,381 movie_4\n",
      "2021-07-13  오후 04:40             7,290 movie_40\n",
      "2021-07-13  오후 04:40             4,463 movie_41\n",
      "2021-07-13  오후 04:40             7,599 movie_42\n",
      "2021-07-13  오후 04:40             8,301 movie_43\n",
      "2021-07-13  오후 04:40             7,888 movie_44\n",
      "2021-07-13  오후 04:40             8,403 movie_45\n",
      "2021-07-13  오후 04:40             8,784 movie_46\n",
      "2021-07-13  오후 04:40             9,685 movie_47\n",
      "2021-07-13  오후 04:40             6,140 movie_48\n",
      "2021-07-13  오후 04:40            12,214 movie_49\n",
      "2021-07-13  오후 04:40            17,461 movie_5\n",
      "2021-07-13  오후 04:40             8,188 movie_50\n",
      "2021-07-13  오후 04:40            13,142 movie_51\n",
      "2021-07-13  오후 04:40            13,657 movie_52\n",
      "2021-07-13  오후 04:40             9,784 movie_53\n",
      "2021-07-13  오후 04:40            35,918 movie_6\n",
      "2021-07-13  오후 04:40            32,433 movie_7\n",
      "2021-07-13  오후 04:40            31,842 movie_8\n",
      "2021-07-13  오후 04:40            35,287 movie_9\n",
      "2021-06-28  오전 08:28    <DIR>          Music\n",
      "2021-07-15  오전 11:36    <DIR>          MySQLpractice\n",
      "2021-07-22  오전 09:00    <DIR>          OneDrive\n",
      "2021-07-06  오후 05:17               242 Person.py\n",
      "2021-06-28  오전 08:28    <DIR>          Pictures\n",
      "2021-06-28  오후 06:37            24,338 PP d1.ipynb\n",
      "2021-07-13  오후 05:57         3,179,171 PP D12.ipynb\n",
      "2021-07-14  오후 05:47         3,309,593 PP D13.ipynb\n",
      "2021-07-15  오전 10:40             1,177 PP D14.ipynb\n",
      "2021-06-29  오후 05:52            38,713 PP d2.ipynb\n",
      "2021-06-30  오후 05:53            22,685 PP d3.ipynb\n",
      "2021-07-01  오후 05:52            14,352 PP d4.ipynb\n",
      "2021-07-02  오후 05:53            15,659 PP D5.ipynb\n",
      "2021-07-06  오후 05:51            46,844 PP D7.ipynb\n",
      "2021-07-07  오후 05:11             2,672 PP D8.ipynb\n",
      "2021-07-08  오후 05:45            97,510 PP D9.ipynb\n",
      "2021-07-05  오후 05:50            24,497 PP day 6.ipynb\n",
      "2021-07-12  오후 06:00            19,773 PP Day11.ipynb\n",
      "2021-07-21  오후 05:31           182,704 psj.png\n",
      "2021-07-20  오후 05:18            23,575 pymysql practice 01.ipynb\n",
      "2021-06-28  오전 08:28    <DIR>          Saved Games\n",
      "2021-06-28  오전 08:28    <DIR>          Searches\n",
      "2021-07-22  오후 02:29               168 some_array.npy\n",
      "2021-07-06  오후 05:10                43 square2.py\n",
      "2021-07-06  오후 05:05    <DIR>          Untitled Folder\n",
      "2021-06-28  오후 02:41               576 Untitled.ipynb\n",
      "2021-06-28  오후 05:37               576 Untitled1.ipynb\n",
      "2021-07-12  오후 12:18                72 Untitled10.ipynb\n",
      "2021-07-13  오전 09:05                72 Untitled11.ipynb\n",
      "2021-07-14  오전 09:03               576 Untitled12.ipynb\n",
      "2021-07-14  오전 09:47                72 Untitled13.ipynb\n",
      "2021-07-15  오전 09:12                72 Untitled14.ipynb\n",
      "2021-07-19  오후 02:25                72 Untitled15.ipynb\n",
      "2021-07-21  오후 05:24            57,114 Untitled16.ipynb\n",
      "2021-06-29  오전 09:04                72 Untitled2.ipynb\n",
      "2021-06-30  오전 09:01                72 Untitled3.ipynb\n",
      "2021-07-01  오전 08:57                72 Untitled4.ipynb\n",
      "2021-07-02  오전 09:01                72 Untitled5.ipynb\n",
      "2021-07-05  오전 08:59                72 Untitled6.ipynb\n",
      "2021-07-06  오전 09:00                72 Untitled7.ipynb\n",
      "2021-07-07  오전 10:12                72 Untitled8.ipynb\n",
      "2021-07-08  오전 08:49                72 Untitled9.ipynb\n",
      "2021-06-28  오전 08:28    <DIR>          Videos\n",
      "2021-07-02  오전 10:33                84 words.txt\n",
      "2021-07-06  오후 05:11    <DIR>          __pycache__\n",
      "             103개 파일          26,282,308 바이트\n",
      "              27개 디렉터리  195,109,306,368 바이트 남음\n"
     ]
    }
   ],
   "source": [
    "!dir"
   ]
  },
  {
   "cell_type": "code",
   "execution_count": 163,
   "id": "8e0300c6",
   "metadata": {},
   "outputs": [],
   "source": [
    "# 폴더가 다른가봄"
   ]
  },
  {
   "cell_type": "code",
   "execution_count": 165,
   "id": "2d079ff8",
   "metadata": {},
   "outputs": [
    {
     "name": "stderr",
     "output_type": "stream",
     "text": [
      "C:\\Users\\Playdata\\some_array.npy을(를) 찾을 수 없습니다.\n"
     ]
    },
    {
     "name": "stdout",
     "output_type": "stream",
     "text": [
      "C:\\Users\\Playdata\\array_archive.npz\n"
     ]
    },
    {
     "name": "stderr",
     "output_type": "stream",
     "text": [
      "다른 프로세스가 파일을 사용 중이기 때문에 프로세스가 액세스 할 수 없습니다.\n",
      "C:\\Users\\Playdata\\ararys_compressed.npz을(를) 찾을 수 없습니다.\n"
     ]
    }
   ],
   "source": [
    "!del some_array.npy\n",
    "!del array_archive.npz\n",
    "!del ararys_compressed.npz"
   ]
  },
  {
   "cell_type": "code",
   "execution_count": 166,
   "id": "24b4b35f",
   "metadata": {},
   "outputs": [],
   "source": [
    "# 쓰고있어서 안지워지긴 했는데 이렇게 삭제할 수 있음"
   ]
  },
  {
   "cell_type": "code",
   "execution_count": null,
   "id": "6f2a366a",
   "metadata": {},
   "outputs": [],
   "source": []
  },
  {
   "cell_type": "code",
   "execution_count": null,
   "id": "1aea166b",
   "metadata": {},
   "outputs": [],
   "source": []
  },
  {
   "cell_type": "markdown",
   "id": "01188f4d",
   "metadata": {},
   "source": [
    "## 5. 선형대수"
   ]
  },
  {
   "cell_type": "code",
   "execution_count": 167,
   "id": "fe95711a",
   "metadata": {},
   "outputs": [],
   "source": [
    "# 머신러닝 딥러닝 할 때 종종 나옴"
   ]
  },
  {
   "cell_type": "code",
   "execution_count": 168,
   "id": "f3ff911d",
   "metadata": {},
   "outputs": [],
   "source": [
    "# (1, 2, 3) 이걸 기하학적으로 보면 삼차원 입체공간 좌표임"
   ]
  },
  {
   "cell_type": "code",
   "execution_count": 169,
   "id": "251cda11",
   "metadata": {},
   "outputs": [],
   "source": [
    "# 표면적인 행렬연산 뿐만아니라, 벡터 공간까지 다루고 있음"
   ]
  },
  {
   "cell_type": "code",
   "execution_count": 176,
   "id": "bcc59239",
   "metadata": {},
   "outputs": [],
   "source": [
    "x = np.array([[1,2,3,],[4,5,6]])\n",
    "y = np.array([[6,23],[-1,7],[8,9]])"
   ]
  },
  {
   "cell_type": "code",
   "execution_count": 177,
   "id": "33903d72",
   "metadata": {},
   "outputs": [
    {
     "data": {
      "text/plain": [
       "array([[1, 2, 3],\n",
       "       [4, 5, 6]])"
      ]
     },
     "execution_count": 177,
     "metadata": {},
     "output_type": "execute_result"
    }
   ],
   "source": [
    "x"
   ]
  },
  {
   "cell_type": "code",
   "execution_count": 178,
   "id": "8901a4ec",
   "metadata": {},
   "outputs": [
    {
     "data": {
      "text/plain": [
       "array([[ 6, 23],\n",
       "       [-1,  7],\n",
       "       [ 8,  9]])"
      ]
     },
     "execution_count": 178,
     "metadata": {},
     "output_type": "execute_result"
    }
   ],
   "source": [
    "y"
   ]
  },
  {
   "cell_type": "code",
   "execution_count": 180,
   "id": "c27cac2d",
   "metadata": {},
   "outputs": [],
   "source": [
    "# 2*3 / 3*2 두개의 행렬을 준비했음 # 교재는 실수이나 정수로 바꾼것도 있음"
   ]
  },
  {
   "cell_type": "code",
   "execution_count": 181,
   "id": "6b727111",
   "metadata": {},
   "outputs": [],
   "source": [
    "# 행렬 곱셈을 할건데요"
   ]
  },
  {
   "cell_type": "code",
   "execution_count": 183,
   "id": "fa7fbf5c",
   "metadata": {},
   "outputs": [
    {
     "data": {
      "text/plain": [
       "array([[ 28,  64],\n",
       "       [ 67, 181]])"
      ]
     },
     "execution_count": 183,
     "metadata": {},
     "output_type": "execute_result"
    }
   ],
   "source": [
    "x.dot(y) # 넘파이의 행렬곱셈 (2*3 과 3*2를 곱해서 더했기 때문데) 결과가 2*2임"
   ]
  },
  {
   "cell_type": "code",
   "execution_count": 184,
   "id": "34431d3d",
   "metadata": {},
   "outputs": [
    {
     "data": {
      "text/plain": [
       "array([[ 28,  64],\n",
       "       [ 67, 181]])"
      ]
     },
     "execution_count": 184,
     "metadata": {},
     "output_type": "execute_result"
    }
   ],
   "source": [
    "np.dot(x,y)"
   ]
  },
  {
   "cell_type": "code",
   "execution_count": 185,
   "id": "4a1d7891",
   "metadata": {},
   "outputs": [],
   "source": [
    "# 결과 같음"
   ]
  },
  {
   "cell_type": "code",
   "execution_count": 186,
   "id": "9dc36e26",
   "metadata": {},
   "outputs": [
    {
     "data": {
      "text/plain": [
       "array([[-5.  , -5.  , -5.  , ..., -5.  , -5.  , -5.  ],\n",
       "       [-4.99, -4.99, -4.99, ..., -4.99, -4.99, -4.99],\n",
       "       [-4.98, -4.98, -4.98, ..., -4.98, -4.98, -4.98],\n",
       "       ...,\n",
       "       [ 4.97,  4.97,  4.97, ...,  4.97,  4.97,  4.97],\n",
       "       [ 4.98,  4.98,  4.98, ...,  4.98,  4.98,  4.98],\n",
       "       [ 4.99,  4.99,  4.99, ...,  4.99,  4.99,  4.99]])"
      ]
     },
     "execution_count": 186,
     "metadata": {},
     "output_type": "execute_result"
    }
   ],
   "source": [
    "xy"
   ]
  },
  {
   "cell_type": "code",
   "execution_count": 187,
   "id": "27fb8f74",
   "metadata": {},
   "outputs": [],
   "source": [
    "# 이건 뭔지 알겠지??"
   ]
  },
  {
   "cell_type": "code",
   "execution_count": 192,
   "id": "99a71df8",
   "metadata": {},
   "outputs": [
    {
     "data": {
      "text/plain": [
       "array([1., 1., 1.])"
      ]
     },
     "execution_count": 192,
     "metadata": {},
     "output_type": "execute_result"
    }
   ],
   "source": [
    "np.ones(3) # 3*1 처럼 보이지만 사실 3, 임"
   ]
  },
  {
   "cell_type": "code",
   "execution_count": 189,
   "id": "412af2c4",
   "metadata": {},
   "outputs": [
    {
     "data": {
      "text/plain": [
       "array([[1, 2, 3],\n",
       "       [4, 5, 6]])"
      ]
     },
     "execution_count": 189,
     "metadata": {},
     "output_type": "execute_result"
    }
   ],
   "source": [
    "x # 2*3"
   ]
  },
  {
   "cell_type": "code",
   "execution_count": 191,
   "id": "b2446aae",
   "metadata": {},
   "outputs": [
    {
     "data": {
      "text/plain": [
       "array([ 6., 15.])"
      ]
     },
     "execution_count": 191,
     "metadata": {},
     "output_type": "execute_result"
    }
   ],
   "source": [
    "np.dot(x, np.ones(3)) "
   ]
  },
  {
   "cell_type": "code",
   "execution_count": 193,
   "id": "bdac52f4",
   "metadata": {},
   "outputs": [
    {
     "data": {
      "text/plain": [
       "array([ 6., 15.])"
      ]
     },
     "execution_count": 193,
     "metadata": {},
     "output_type": "execute_result"
    }
   ],
   "source": [
    "x @ np.ones(3)"
   ]
  },
  {
   "cell_type": "code",
   "execution_count": 194,
   "id": "293598d8",
   "metadata": {},
   "outputs": [],
   "source": [
    "# 같은 연산임"
   ]
  },
  {
   "cell_type": "code",
   "execution_count": 209,
   "id": "0cdc65f5",
   "metadata": {},
   "outputs": [
    {
     "data": {
      "text/plain": [
       "array([[14.27751409, -2.76662389, 11.35829606, 21.37422778, 15.6631451 ],\n",
       "       [-2.76662389,  1.11639252, -2.23132918, -4.44082004, -3.26346443],\n",
       "       [11.35829606, -2.23132918,  9.34158036, 17.44457909, 12.78593758],\n",
       "       [21.37422778, -4.44082004, 17.44457909, 33.34337553, 24.43508373],\n",
       "       [15.6631451 , -3.26346443, 12.78593758, 24.43508373, 18.23718657]])"
      ]
     },
     "execution_count": 209,
     "metadata": {},
     "output_type": "execute_result"
    }
   ],
   "source": [
    "from numpy.linalg import inv, qr\n",
    "X = np.random.randn(5,5)\n",
    "mat = X.T.dot(X)\n",
    "inv(mat)\n",
    "\n",
    "# 뒤집은거나 아닌거나 곱한거나 전부 (5,5) 임"
   ]
  },
  {
   "cell_type": "code",
   "execution_count": 213,
   "id": "4c4e838e",
   "metadata": {},
   "outputs": [
    {
     "data": {
      "text/plain": [
       "array([[ 1.00000000e+00,  6.57758058e-16,  1.24764702e-15,\n",
       "         4.53025025e-16, -1.07803870e-15],\n",
       "       [ 6.39460580e-16,  1.00000000e+00, -1.67047637e-17,\n",
       "        -5.91233320e-16,  7.03618358e-17],\n",
       "       [-3.28896891e-15,  6.41895723e-16,  1.00000000e+00,\n",
       "        -1.02412922e-14, -4.85867412e-15],\n",
       "       [ 6.47656327e-16, -2.98900581e-15,  2.45466918e-15,\n",
       "         1.00000000e+00,  3.60794816e-15],\n",
       "       [ 4.03897451e-15,  9.76653524e-16, -9.20689506e-16,\n",
       "         8.24565103e-15,  1.00000000e+00]])"
      ]
     },
     "execution_count": 213,
     "metadata": {},
     "output_type": "execute_result"
    }
   ],
   "source": [
    "mat.dot(inv(mat)) # 이게 원본행렬과 역행렬을 곱해서 단위행렬을 구한거임, 잘 보면 중간 대각선은 전부 1임"
   ]
  },
  {
   "cell_type": "code",
   "execution_count": 214,
   "id": "abe87a48",
   "metadata": {},
   "outputs": [
    {
     "data": {
      "text/plain": [
       "array([[-3.02662618, -0.38699126,  5.12588275, -0.46778322, -0.43703042],\n",
       "       [ 0.        , -2.30949295,  3.04237795, -2.32746175,  0.57076433],\n",
       "       [ 0.        ,  0.        , -4.13347429,  3.02839421, -1.16014328],\n",
       "       [ 0.        ,  0.        ,  0.        , -2.56048473,  3.47823597],\n",
       "       [ 0.        ,  0.        ,  0.        ,  0.        ,  0.0272253 ]])"
      ]
     },
     "execution_count": 214,
     "metadata": {},
     "output_type": "execute_result"
    }
   ],
   "source": [
    "q, r = qr(mat)\n",
    "r"
   ]
  },
  {
   "cell_type": "code",
   "execution_count": 216,
   "id": "c1e369a8",
   "metadata": {},
   "outputs": [],
   "source": [
    "# q는 직교행렬, r은 위, 또는 상, 상(위)삼각행렬\n",
    "# 직교는 AA^-1 = I 에서 A를 트랜스포즈한게 역랭렬과 같을 때, 즉 A^T = A^-1일때 A는 직교행렬이다.\n",
    "# 상 삼각행렬을 대각선 왼쪽 아래가 전부 0일때, 하삼각행렬을 대각선 우상부가 전부 0일때임. 나머지칸은 어떤값이든 상관 없음"
   ]
  },
  {
   "cell_type": "code",
   "execution_count": 198,
   "id": "c1d799ff",
   "metadata": {},
   "outputs": [],
   "source": [
    "# 단위행렬은 정사각형임 n * n 이고 0,0 1,1 2,2 ... n,n 이 전부 1이고 나머지가 다 영임"
   ]
  },
  {
   "cell_type": "code",
   "execution_count": 199,
   "id": "764673a2",
   "metadata": {},
   "outputs": [],
   "source": [
    "# 그 중에서 대각선이 여러값으로 분포되어 있다고 해도 나머지가 전부 0이면 대각행렬임"
   ]
  },
  {
   "cell_type": "code",
   "execution_count": 201,
   "id": "91ab5e36",
   "metadata": {},
   "outputs": [],
   "source": [
    "# AB = I, AA^-1 = I 이면 B는 A의 역행렬이다"
   ]
  },
  {
   "cell_type": "code",
   "execution_count": 202,
   "id": "d5ef37e1",
   "metadata": {},
   "outputs": [],
   "source": [
    "#inv 는 인버트로써, 역행렬을 구해주는 함수이다"
   ]
  },
  {
   "cell_type": "code",
   "execution_count": 204,
   "id": "ae9b308d",
   "metadata": {},
   "outputs": [],
   "source": [
    "#(a, b)\n",
    "#(C, d) 인 행렬이 있을때,\n",
    "\n",
    "# 1 / ad - bc * (d -b)\n",
    "#               (-c a) 이게 역행렬 구하는 공식이기 때문에 ad-bc가 0이 되면 역행렬이 존재하지 않는다."
   ]
  },
  {
   "cell_type": "code",
   "execution_count": 205,
   "id": "532682ef",
   "metadata": {},
   "outputs": [],
   "source": [
    "# 위에건 2차원 행렬에만 해당되는 내용임"
   ]
  },
  {
   "cell_type": "code",
   "execution_count": 207,
   "id": "a69810fb",
   "metadata": {},
   "outputs": [],
   "source": [
    "# 행렬의 특성을 결정해 주는게 determinant 임 행렬식(ab-bc) 도 그 중 하나임"
   ]
  },
  {
   "cell_type": "code",
   "execution_count": 208,
   "id": "b0f8d732",
   "metadata": {},
   "outputs": [],
   "source": [
    "# qr은 행렬을 분해하는 명령어임"
   ]
  },
  {
   "cell_type": "code",
   "execution_count": null,
   "id": "dfb86489",
   "metadata": {},
   "outputs": [],
   "source": []
  },
  {
   "cell_type": "code",
   "execution_count": null,
   "id": "5edebe40",
   "metadata": {},
   "outputs": [],
   "source": []
  },
  {
   "cell_type": "markdown",
   "id": "2314b5cd",
   "metadata": {},
   "source": [
    "## 6. 난수생성"
   ]
  },
  {
   "cell_type": "code",
   "execution_count": 217,
   "id": "00278350",
   "metadata": {},
   "outputs": [],
   "source": [
    "# numpy.random 모듈로 내장함수 랜덤을 보강하여 다양한 종류의 확률분포로 부터 표본값을 생성하는데 주로 사용\n",
    "# 내장 함수 random은 정규분포를 따르고 있음"
   ]
  },
  {
   "cell_type": "code",
   "execution_count": 220,
   "id": "cda61eba",
   "metadata": {},
   "outputs": [
    {
     "data": {
      "text/plain": [
       "array([[-0.61066243,  1.40809872,  1.07504947,  1.62807133],\n",
       "       [-1.07531318, -0.99636897,  0.29942827, -1.01146015],\n",
       "       [-0.27627102, -1.03049635,  0.94890117, -0.60334623],\n",
       "       [ 0.45843672,  0.47392329,  0.03587236,  0.40171185]])"
      ]
     },
     "execution_count": 220,
     "metadata": {},
     "output_type": "execute_result"
    }
   ],
   "source": [
    "samples = np.random.normal(size=(4,4)) #normal은 가우시안분포, 즉 정규분포를 따르는 거를 가져옴\n",
    "samples"
   ]
  },
  {
   "cell_type": "code",
   "execution_count": 221,
   "id": "230fc5d3",
   "metadata": {},
   "outputs": [],
   "source": [
    "# 평균에 많이 몰려있는 거 부터, 평균은 적고 넓게 펴져있는 분포 가지 다양하게 랜덤함수를 생성할 수 있음"
   ]
  },
  {
   "cell_type": "code",
   "execution_count": 222,
   "id": "754b1ce1",
   "metadata": {},
   "outputs": [],
   "source": [
    "from random import normalvariate"
   ]
  },
  {
   "cell_type": "code",
   "execution_count": 223,
   "id": "12d1c70a",
   "metadata": {},
   "outputs": [],
   "source": [
    "N = 1000000"
   ]
  },
  {
   "cell_type": "code",
   "execution_count": 224,
   "id": "0477559f",
   "metadata": {},
   "outputs": [
    {
     "name": "stdout",
     "output_type": "stream",
     "text": [
      "1.07 s ± 21.6 ms per loop (mean ± std. dev. of 7 runs, 1 loop each)\n"
     ]
    }
   ],
   "source": [
    "%timeit samples = [normalvariate(0, 1) for _ in range(N)] # 평균0과 표준편차값1을 줌"
   ]
  },
  {
   "cell_type": "code",
   "execution_count": 226,
   "id": "f946d650",
   "metadata": {},
   "outputs": [
    {
     "name": "stdout",
     "output_type": "stream",
     "text": [
      "33.3 ms ± 2.69 ms per loop (mean ± std. dev. of 7 runs, 10 loops each)\n"
     ]
    }
   ],
   "source": [
    "%timeit np.random.normal(size=N)"
   ]
  },
  {
   "cell_type": "code",
   "execution_count": 227,
   "id": "c3ae38c9",
   "metadata": {},
   "outputs": [],
   "source": [
    "# s / ms 단위차이가 날 정도로 속도가 다름"
   ]
  },
  {
   "cell_type": "code",
   "execution_count": 228,
   "id": "66e122f7",
   "metadata": {},
   "outputs": [],
   "source": [
    "np.random.seed(1234) # 박스에 던져넣고 무작위 수 추출해 난수 생성, 알고리즘으로 만드는 거라, 같은 시드를 주면 결국 같은값이 나옴"
   ]
  },
  {
   "cell_type": "markdown",
   "id": "213dab4e",
   "metadata": {},
   "source": [
    "### 실습 : 로또번호 추출기 ###"
   ]
  },
  {
   "cell_type": "code",
   "execution_count": 229,
   "id": "23ba0719",
   "metadata": {},
   "outputs": [],
   "source": [
    "# numpy.random 의 permutation 메서드로 1~45 번호 중 무작위로 6개씩 생성되는 번호세트 총 10개 출력하기"
   ]
  },
  {
   "cell_type": "code",
   "execution_count": 231,
   "id": "e90c69f4",
   "metadata": {},
   "outputs": [],
   "source": [
    "lotto = np.random.permutation(45)"
   ]
  },
  {
   "cell_type": "code",
   "execution_count": 232,
   "id": "2a6f69b5",
   "metadata": {},
   "outputs": [
    {
     "data": {
      "text/plain": [
       "array([39, 34, 44, 25,  8, 14,  4, 21, 10, 17, 13,  1, 35, 29, 41, 36, 27,\n",
       "       20, 31,  0, 11,  7,  3,  6,  2, 33, 42, 32, 18, 40, 22,  9, 16,  5,\n",
       "       28, 43, 37, 30, 26, 23, 15, 24, 12, 38, 19])"
      ]
     },
     "execution_count": 232,
     "metadata": {},
     "output_type": "execute_result"
    }
   ],
   "source": [
    "lotto"
   ]
  },
  {
   "cell_type": "code",
   "execution_count": 234,
   "id": "b24fe6de",
   "metadata": {},
   "outputs": [
    {
     "name": "stdout",
     "output_type": "stream",
     "text": [
      "[ 0 35  9 38 34 27  1 29 11 39]\n"
     ]
    }
   ],
   "source": [
    "import numpy as np\n",
    "num = np.arange(46)\n",
    "lotto = np.random.permutation(num)\n",
    "print(lotto[:10])"
   ]
  },
  {
   "cell_type": "code",
   "execution_count": 242,
   "id": "03652506",
   "metadata": {},
   "outputs": [
    {
     "name": "stdout",
     "output_type": "stream",
     "text": [
      "[32 38  5 18 22 40]\n",
      "[33 32 10 14 21 31]\n",
      "[40  6 28  7 31 29]\n",
      "[12  7 43  6 33 32]\n",
      "[ 5 22 39  3 42 21]\n",
      "[ 8 45 39 40 36 44]\n",
      "[39 36 21 35 27 28]\n",
      "[14  8  7  4 37 44]\n",
      "[ 2 40 44 31  5 32]\n",
      "[30 20 11 22 39 28]\n"
     ]
    }
   ],
   "source": [
    "import numpy as np\n",
    "for i in range(10):\n",
    "    a = np.arange(46)\n",
    "    b = np.random.permutation(a)\n",
    "    print(b[:6])"
   ]
  },
  {
   "cell_type": "code",
   "execution_count": 244,
   "id": "48196b75",
   "metadata": {},
   "outputs": [],
   "source": [
    "lotto = [np.random.permutation(np.random.randint(1, 46, 6)) for i in range(10)]"
   ]
  },
  {
   "cell_type": "code",
   "execution_count": 245,
   "id": "8d9d4843",
   "metadata": {},
   "outputs": [
    {
     "data": {
      "text/plain": [
       "[array([31, 43,  8, 27, 12, 20]),\n",
       " array([44, 26, 45, 38, 28, 25]),\n",
       " array([42, 27,  3, 23, 45, 44]),\n",
       " array([22, 22,  3,  9, 11, 21]),\n",
       " array([ 3,  3, 18, 23, 21, 29]),\n",
       " array([11, 25, 37, 25,  6,  6]),\n",
       " array([34, 27, 36, 15, 24, 18]),\n",
       " array([25,  6, 40, 31, 10, 16]),\n",
       " array([37, 14, 44,  4,  1, 42]),\n",
       " array([ 3, 40, 12,  9,  6, 33])]"
      ]
     },
     "execution_count": 245,
     "metadata": {},
     "output_type": "execute_result"
    }
   ],
   "source": [
    "lotto"
   ]
  },
  {
   "cell_type": "markdown",
   "id": "c1c5b2ce",
   "metadata": {},
   "source": [
    "### (실습) 계단 오르내리기"
   ]
  },
  {
   "cell_type": "code",
   "execution_count": 246,
   "id": "b001effc",
   "metadata": {},
   "outputs": [],
   "source": [
    "# 파이썬으로 구성"
   ]
  },
  {
   "cell_type": "code",
   "execution_count": 249,
   "id": "4ca4b5c7",
   "metadata": {
    "collapsed": true
   },
   "outputs": [
    {
     "data": {
      "text/plain": [
       "[1,\n",
       " -1,\n",
       " 1,\n",
       " -1,\n",
       " -1,\n",
       " -1,\n",
       " -1,\n",
       " 1,\n",
       " 1,\n",
       " 1,\n",
       " 1,\n",
       " -1,\n",
       " 1,\n",
       " 1,\n",
       " -1,\n",
       " -1,\n",
       " 1,\n",
       " 1,\n",
       " -1,\n",
       " 1,\n",
       " -1,\n",
       " 1,\n",
       " -1,\n",
       " -1,\n",
       " 1,\n",
       " 1,\n",
       " -1,\n",
       " 1,\n",
       " -1,\n",
       " 1,\n",
       " 1,\n",
       " -1,\n",
       " -1,\n",
       " -1,\n",
       " 1,\n",
       " -1,\n",
       " 1,\n",
       " 1,\n",
       " -1,\n",
       " -1,\n",
       " 1,\n",
       " 1,\n",
       " -1,\n",
       " 1,\n",
       " 1,\n",
       " 1,\n",
       " 1,\n",
       " -1,\n",
       " -1,\n",
       " 1,\n",
       " 1,\n",
       " -1,\n",
       " -1,\n",
       " 1,\n",
       " -1,\n",
       " -1,\n",
       " 1,\n",
       " 1,\n",
       " 1,\n",
       " 1,\n",
       " -1,\n",
       " -1,\n",
       " 1,\n",
       " 1,\n",
       " 1,\n",
       " -1,\n",
       " 1,\n",
       " 1,\n",
       " 1,\n",
       " 1,\n",
       " 1,\n",
       " 1,\n",
       " 1,\n",
       " -1,\n",
       " 1,\n",
       " 1,\n",
       " -1,\n",
       " 1,\n",
       " -1,\n",
       " -1,\n",
       " -1,\n",
       " -1,\n",
       " 1,\n",
       " -1,\n",
       " 1,\n",
       " 1,\n",
       " 1,\n",
       " 1,\n",
       " 1,\n",
       " 1,\n",
       " -1,\n",
       " -1,\n",
       " -1,\n",
       " -1,\n",
       " -1,\n",
       " -1,\n",
       " 1,\n",
       " 1,\n",
       " -1,\n",
       " -1,\n",
       " 1,\n",
       " -1,\n",
       " 1,\n",
       " 1,\n",
       " 1,\n",
       " 1,\n",
       " 1,\n",
       " 1,\n",
       " 1,\n",
       " 1,\n",
       " -1,\n",
       " -1,\n",
       " 1,\n",
       " -1,\n",
       " 1,\n",
       " -1,\n",
       " -1,\n",
       " 1,\n",
       " 1,\n",
       " 1,\n",
       " -1,\n",
       " -1,\n",
       " 1,\n",
       " -1,\n",
       " -1,\n",
       " -1,\n",
       " -1,\n",
       " 1,\n",
       " 1,\n",
       " -1,\n",
       " -1,\n",
       " -1,\n",
       " -1,\n",
       " 1,\n",
       " -1,\n",
       " 1,\n",
       " -1,\n",
       " 1,\n",
       " -1,\n",
       " 1,\n",
       " -1,\n",
       " 1,\n",
       " 1,\n",
       " -1,\n",
       " -1,\n",
       " -1,\n",
       " 1,\n",
       " 1,\n",
       " 1,\n",
       " -1,\n",
       " -1,\n",
       " 1,\n",
       " -1,\n",
       " 1,\n",
       " 1,\n",
       " -1,\n",
       " 1,\n",
       " -1,\n",
       " 1,\n",
       " -1,\n",
       " 1,\n",
       " 1,\n",
       " 1,\n",
       " -1,\n",
       " -1,\n",
       " 1,\n",
       " 1,\n",
       " 1,\n",
       " -1,\n",
       " -1,\n",
       " 1,\n",
       " 1,\n",
       " 1,\n",
       " -1,\n",
       " 1,\n",
       " 1,\n",
       " -1,\n",
       " 1,\n",
       " -1,\n",
       " -1,\n",
       " -1,\n",
       " 1,\n",
       " -1,\n",
       " -1,\n",
       " -1,\n",
       " -1,\n",
       " -1,\n",
       " -1,\n",
       " -1,\n",
       " 1,\n",
       " -1,\n",
       " 1,\n",
       " 1,\n",
       " -1,\n",
       " 1,\n",
       " 1,\n",
       " -1,\n",
       " 1,\n",
       " -1,\n",
       " 1,\n",
       " 1,\n",
       " 1,\n",
       " 1,\n",
       " -1,\n",
       " 1,\n",
       " 1,\n",
       " 1,\n",
       " -1,\n",
       " 1,\n",
       " -1,\n",
       " 1,\n",
       " -1,\n",
       " 1,\n",
       " -1,\n",
       " -1,\n",
       " -1,\n",
       " -1,\n",
       " 1,\n",
       " -1,\n",
       " 1,\n",
       " 1,\n",
       " -1,\n",
       " 1,\n",
       " 1,\n",
       " -1,\n",
       " 1,\n",
       " 1,\n",
       " 1,\n",
       " 1,\n",
       " -1,\n",
       " -1,\n",
       " -1,\n",
       " -1,\n",
       " -1,\n",
       " -1,\n",
       " 1,\n",
       " 1,\n",
       " 1,\n",
       " 1,\n",
       " -1,\n",
       " -1,\n",
       " -1,\n",
       " 1,\n",
       " -1,\n",
       " -1,\n",
       " 1,\n",
       " -1,\n",
       " 1,\n",
       " 1,\n",
       " -1,\n",
       " 1,\n",
       " -1,\n",
       " -1,\n",
       " 1,\n",
       " -1,\n",
       " -1,\n",
       " 1,\n",
       " 1,\n",
       " 1,\n",
       " 1,\n",
       " 1,\n",
       " -1,\n",
       " -1,\n",
       " 1,\n",
       " 1,\n",
       " -1,\n",
       " -1,\n",
       " 1,\n",
       " 1,\n",
       " -1,\n",
       " -1,\n",
       " 1,\n",
       " -1,\n",
       " 1,\n",
       " 1,\n",
       " 1,\n",
       " -1,\n",
       " 1,\n",
       " 1,\n",
       " -1,\n",
       " -1,\n",
       " 1,\n",
       " 1,\n",
       " 1,\n",
       " -1,\n",
       " -1,\n",
       " -1,\n",
       " -1,\n",
       " 1,\n",
       " -1,\n",
       " 1,\n",
       " -1,\n",
       " -1,\n",
       " 1,\n",
       " 1,\n",
       " 1,\n",
       " -1,\n",
       " 1,\n",
       " -1,\n",
       " 1,\n",
       " 1,\n",
       " 1,\n",
       " -1,\n",
       " -1,\n",
       " 1,\n",
       " 1,\n",
       " 1,\n",
       " 1,\n",
       " 1,\n",
       " 1,\n",
       " -1,\n",
       " -1,\n",
       " -1,\n",
       " -1,\n",
       " 1,\n",
       " -1,\n",
       " -1,\n",
       " 1,\n",
       " -1,\n",
       " -1,\n",
       " 1,\n",
       " -1,\n",
       " 1,\n",
       " -1,\n",
       " -1,\n",
       " 1,\n",
       " 1,\n",
       " -1,\n",
       " -1,\n",
       " 1,\n",
       " 1,\n",
       " -1,\n",
       " -1,\n",
       " 1,\n",
       " -1,\n",
       " -1,\n",
       " -1,\n",
       " -1,\n",
       " -1,\n",
       " 1,\n",
       " -1,\n",
       " 1,\n",
       " -1,\n",
       " -1,\n",
       " 1,\n",
       " -1,\n",
       " 1,\n",
       " 1,\n",
       " 1,\n",
       " 1,\n",
       " 1,\n",
       " -1,\n",
       " 1,\n",
       " -1,\n",
       " -1,\n",
       " 1,\n",
       " -1,\n",
       " -1,\n",
       " -1,\n",
       " 1,\n",
       " 1,\n",
       " -1,\n",
       " -1,\n",
       " -1,\n",
       " 1,\n",
       " 1,\n",
       " -1,\n",
       " 1,\n",
       " 1,\n",
       " 1,\n",
       " 1,\n",
       " -1,\n",
       " -1,\n",
       " 1,\n",
       " -1,\n",
       " 1,\n",
       " 1,\n",
       " -1,\n",
       " 1,\n",
       " 1,\n",
       " 1,\n",
       " -1,\n",
       " 1,\n",
       " -1,\n",
       " -1,\n",
       " 1,\n",
       " 1,\n",
       " 1,\n",
       " -1,\n",
       " -1,\n",
       " 1,\n",
       " -1,\n",
       " -1,\n",
       " -1,\n",
       " -1,\n",
       " -1,\n",
       " 1,\n",
       " -1,\n",
       " -1,\n",
       " 1,\n",
       " -1,\n",
       " 1,\n",
       " 1,\n",
       " -1,\n",
       " 1,\n",
       " 1,\n",
       " -1,\n",
       " -1,\n",
       " -1,\n",
       " 1,\n",
       " -1,\n",
       " -1,\n",
       " -1,\n",
       " 1,\n",
       " -1,\n",
       " 1,\n",
       " 1,\n",
       " 1,\n",
       " 1,\n",
       " -1,\n",
       " 1,\n",
       " -1,\n",
       " -1,\n",
       " 1,\n",
       " -1,\n",
       " 1,\n",
       " -1,\n",
       " -1,\n",
       " 1,\n",
       " -1,\n",
       " 1,\n",
       " -1,\n",
       " 1,\n",
       " 1,\n",
       " -1,\n",
       " -1,\n",
       " -1,\n",
       " 1,\n",
       " 1,\n",
       " -1,\n",
       " 1,\n",
       " 1,\n",
       " -1,\n",
       " 1,\n",
       " -1,\n",
       " 1,\n",
       " -1,\n",
       " 1,\n",
       " -1,\n",
       " -1,\n",
       " 1,\n",
       " 1,\n",
       " 1,\n",
       " 1,\n",
       " -1,\n",
       " 1,\n",
       " -1,\n",
       " -1,\n",
       " -1,\n",
       " -1,\n",
       " 1,\n",
       " 1,\n",
       " -1,\n",
       " 1,\n",
       " 1,\n",
       " -1,\n",
       " -1,\n",
       " -1,\n",
       " 1,\n",
       " 1,\n",
       " -1,\n",
       " -1,\n",
       " -1,\n",
       " -1,\n",
       " 1,\n",
       " 1,\n",
       " 1,\n",
       " -1,\n",
       " 1,\n",
       " -1,\n",
       " 1,\n",
       " -1,\n",
       " -1,\n",
       " -1,\n",
       " 1,\n",
       " -1,\n",
       " 1,\n",
       " 1,\n",
       " -1,\n",
       " 1,\n",
       " 1,\n",
       " 1,\n",
       " 1,\n",
       " 1,\n",
       " 1,\n",
       " -1,\n",
       " 1,\n",
       " 1,\n",
       " 1,\n",
       " 1,\n",
       " -1,\n",
       " -1,\n",
       " -1,\n",
       " 1,\n",
       " 1,\n",
       " 1,\n",
       " 1,\n",
       " -1,\n",
       " -1,\n",
       " -1,\n",
       " 1,\n",
       " -1,\n",
       " 1,\n",
       " 1,\n",
       " 1,\n",
       " -1,\n",
       " -1,\n",
       " 1,\n",
       " 1,\n",
       " -1,\n",
       " 1,\n",
       " -1,\n",
       " 1,\n",
       " -1,\n",
       " 1,\n",
       " -1,\n",
       " 1,\n",
       " -1,\n",
       " 1,\n",
       " -1,\n",
       " -1,\n",
       " 1,\n",
       " 1,\n",
       " -1,\n",
       " -1,\n",
       " -1,\n",
       " 1,\n",
       " -1,\n",
       " 1,\n",
       " -1,\n",
       " -1,\n",
       " 1,\n",
       " -1,\n",
       " 1,\n",
       " 1,\n",
       " 1,\n",
       " 1,\n",
       " -1,\n",
       " 1,\n",
       " -1,\n",
       " -1,\n",
       " -1,\n",
       " 1,\n",
       " 1,\n",
       " -1,\n",
       " 1,\n",
       " -1,\n",
       " -1,\n",
       " 1,\n",
       " -1,\n",
       " -1,\n",
       " -1,\n",
       " -1,\n",
       " -1,\n",
       " 1,\n",
       " -1,\n",
       " -1,\n",
       " 1,\n",
       " 1,\n",
       " -1,\n",
       " 1,\n",
       " -1,\n",
       " -1,\n",
       " 1,\n",
       " -1,\n",
       " 1,\n",
       " -1,\n",
       " 1,\n",
       " 1,\n",
       " -1,\n",
       " 1,\n",
       " 1,\n",
       " 1,\n",
       " 1,\n",
       " -1,\n",
       " 1,\n",
       " -1,\n",
       " -1,\n",
       " -1,\n",
       " -1,\n",
       " 1,\n",
       " -1,\n",
       " -1,\n",
       " 1,\n",
       " -1,\n",
       " 1,\n",
       " 1,\n",
       " -1,\n",
       " -1,\n",
       " 1,\n",
       " -1,\n",
       " 1,\n",
       " -1,\n",
       " -1,\n",
       " -1,\n",
       " -1,\n",
       " -1,\n",
       " -1,\n",
       " -1,\n",
       " 1,\n",
       " -1,\n",
       " 1,\n",
       " -1,\n",
       " 1,\n",
       " 1,\n",
       " 1,\n",
       " 1,\n",
       " -1,\n",
       " 1,\n",
       " -1,\n",
       " -1,\n",
       " -1,\n",
       " -1,\n",
       " 1,\n",
       " -1,\n",
       " -1,\n",
       " -1,\n",
       " -1,\n",
       " 1,\n",
       " -1,\n",
       " 1,\n",
       " -1,\n",
       " 1,\n",
       " -1,\n",
       " 1,\n",
       " -1,\n",
       " 1,\n",
       " 1,\n",
       " -1,\n",
       " 1,\n",
       " 1,\n",
       " 1,\n",
       " 1,\n",
       " -1,\n",
       " -1,\n",
       " 1,\n",
       " -1,\n",
       " 1,\n",
       " -1,\n",
       " -1,\n",
       " -1,\n",
       " -1,\n",
       " 1,\n",
       " -1,\n",
       " -1,\n",
       " -1,\n",
       " 1,\n",
       " 1,\n",
       " -1,\n",
       " 1,\n",
       " -1,\n",
       " -1,\n",
       " 1,\n",
       " 1,\n",
       " 1,\n",
       " 1,\n",
       " -1,\n",
       " -1,\n",
       " -1,\n",
       " 1,\n",
       " 1,\n",
       " -1,\n",
       " -1,\n",
       " 1,\n",
       " -1,\n",
       " 1,\n",
       " 1,\n",
       " -1,\n",
       " 1,\n",
       " -1,\n",
       " 1,\n",
       " -1,\n",
       " 1,\n",
       " 1,\n",
       " 1,\n",
       " -1,\n",
       " 1,\n",
       " -1,\n",
       " 1,\n",
       " 1,\n",
       " 1,\n",
       " 1,\n",
       " -1,\n",
       " 1,\n",
       " -1,\n",
       " -1,\n",
       " -1,\n",
       " -1,\n",
       " 1,\n",
       " 1,\n",
       " 1,\n",
       " -1,\n",
       " 1,\n",
       " 1,\n",
       " -1,\n",
       " -1,\n",
       " -1,\n",
       " 1,\n",
       " 1,\n",
       " 1,\n",
       " 1,\n",
       " -1,\n",
       " 1,\n",
       " 1,\n",
       " 1,\n",
       " -1,\n",
       " 1,\n",
       " -1,\n",
       " -1,\n",
       " -1,\n",
       " 1,\n",
       " -1,\n",
       " 1,\n",
       " 1,\n",
       " -1,\n",
       " 1,\n",
       " 1,\n",
       " -1,\n",
       " -1,\n",
       " 1,\n",
       " -1,\n",
       " -1,\n",
       " 1,\n",
       " -1,\n",
       " -1,\n",
       " -1,\n",
       " 1,\n",
       " -1,\n",
       " -1,\n",
       " -1,\n",
       " -1,\n",
       " -1,\n",
       " 1,\n",
       " -1,\n",
       " -1,\n",
       " -1,\n",
       " -1,\n",
       " -1,\n",
       " 1,\n",
       " 1,\n",
       " 1,\n",
       " -1,\n",
       " 1,\n",
       " 1,\n",
       " 1,\n",
       " 1,\n",
       " 1,\n",
       " -1,\n",
       " -1,\n",
       " 1,\n",
       " 1,\n",
       " 1,\n",
       " -1,\n",
       " -1,\n",
       " -1,\n",
       " 1,\n",
       " 1,\n",
       " 1,\n",
       " -1,\n",
       " -1,\n",
       " 1,\n",
       " -1,\n",
       " 1,\n",
       " 1,\n",
       " -1,\n",
       " 1,\n",
       " -1,\n",
       " 1,\n",
       " -1,\n",
       " 1,\n",
       " -1,\n",
       " 1,\n",
       " 1,\n",
       " 1,\n",
       " -1,\n",
       " 1,\n",
       " -1,\n",
       " 1,\n",
       " 1,\n",
       " -1,\n",
       " 1,\n",
       " -1,\n",
       " 1,\n",
       " -1,\n",
       " 1,\n",
       " -1,\n",
       " 1,\n",
       " 1,\n",
       " 1,\n",
       " 1,\n",
       " 1,\n",
       " 1,\n",
       " -1,\n",
       " -1,\n",
       " -1,\n",
       " 1,\n",
       " 1,\n",
       " 1,\n",
       " 1,\n",
       " -1,\n",
       " 1,\n",
       " -1,\n",
       " -1,\n",
       " -1,\n",
       " 1,\n",
       " -1,\n",
       " -1,\n",
       " -1,\n",
       " 1,\n",
       " -1,\n",
       " -1,\n",
       " 1,\n",
       " 1,\n",
       " 1,\n",
       " -1,\n",
       " 1,\n",
       " 1,\n",
       " -1,\n",
       " -1,\n",
       " -1,\n",
       " 1,\n",
       " -1,\n",
       " -1,\n",
       " -1,\n",
       " 1,\n",
       " -1,\n",
       " -1,\n",
       " 1,\n",
       " 1,\n",
       " -1,\n",
       " -1,\n",
       " 1,\n",
       " 1,\n",
       " 1,\n",
       " -1,\n",
       " 1,\n",
       " 1,\n",
       " 1,\n",
       " 1,\n",
       " -1,\n",
       " 1,\n",
       " -1,\n",
       " 1,\n",
       " -1,\n",
       " -1,\n",
       " -1,\n",
       " 1,\n",
       " 1,\n",
       " 1,\n",
       " -1,\n",
       " -1,\n",
       " 1,\n",
       " -1,\n",
       " 1,\n",
       " 1,\n",
       " -1,\n",
       " 1,\n",
       " 1,\n",
       " -1,\n",
       " -1,\n",
       " -1,\n",
       " -1,\n",
       " -1,\n",
       " 1,\n",
       " 1,\n",
       " 1,\n",
       " 1,\n",
       " -1,\n",
       " -1,\n",
       " 1,\n",
       " 1,\n",
       " -1,\n",
       " -1,\n",
       " 1,\n",
       " -1,\n",
       " -1,\n",
       " 1,\n",
       " 1,\n",
       " -1,\n",
       " 1,\n",
       " -1,\n",
       " 1,\n",
       " -1,\n",
       " -1,\n",
       " 1,\n",
       " -1,\n",
       " -1,\n",
       " -1,\n",
       " -1,\n",
       " 1,\n",
       " 1,\n",
       " -1,\n",
       " -1,\n",
       " -1,\n",
       " 1,\n",
       " 1,\n",
       " 1,\n",
       " -1,\n",
       " 1,\n",
       " -1,\n",
       " 1,\n",
       " 1,\n",
       " 1,\n",
       " -1,\n",
       " 1,\n",
       " 1,\n",
       " -1,\n",
       " 1,\n",
       " -1,\n",
       " -1,\n",
       " 1,\n",
       " 1,\n",
       " 1,\n",
       " -1,\n",
       " -1,\n",
       " 1,\n",
       " 1,\n",
       " 1,\n",
       " -1,\n",
       " 1,\n",
       " 1,\n",
       " -1,\n",
       " 1,\n",
       " 1,\n",
       " 1,\n",
       " 1,\n",
       " -1,\n",
       " -1,\n",
       " 1,\n",
       " -1,\n",
       " -1,\n",
       " -1,\n",
       " -1,\n",
       " -1,\n",
       " -1,\n",
       " -1,\n",
       " 1,\n",
       " -1,\n",
       " -1,\n",
       " 1,\n",
       " 1,\n",
       " 1,\n",
       " 1,\n",
       " 1,\n",
       " 1,\n",
       " -1,\n",
       " 1,\n",
       " 1,\n",
       " 1,\n",
       " 1,\n",
       " -1,\n",
       " -1,\n",
       " 1,\n",
       " 1,\n",
       " -1,\n",
       " -1,\n",
       " -1,\n",
       " 1,\n",
       " -1,\n",
       " -1,\n",
       " -1,\n",
       " 1,\n",
       " -1,\n",
       " 1,\n",
       " 1,\n",
       " -1,\n",
       " -1,\n",
       " 1,\n",
       " -1,\n",
       " -1,\n",
       " 1,\n",
       " -1,\n",
       " -1,\n",
       " -1,\n",
       " 1,\n",
       " -1,\n",
       " -1,\n",
       " 1,\n",
       " -1,\n",
       " -1,\n",
       " 1,\n",
       " 1,\n",
       " 1,\n",
       " -1,\n",
       " -1,\n",
       " -1,\n",
       " 1,\n",
       " 1,\n",
       " 1,\n",
       " -1]"
      ]
     },
     "execution_count": 249,
     "metadata": {},
     "output_type": "execute_result"
    }
   ],
   "source": [
    "import random\n",
    "\n",
    "position = 0 # 시작점 1층을 0으로 생각\n",
    "steps = 1000\n",
    "result = []\n",
    "\n",
    "for i in range(steps):\n",
    "    step = 1 if random.randint(0, 1) else -1    # 요부분은 실행하면 0이나 1이 게속 반복해서 나옴\n",
    "    result.append(step)\n",
    "    \n",
    "result"
   ]
  },
  {
   "cell_type": "code",
   "execution_count": 250,
   "id": "a2f3a0fd",
   "metadata": {},
   "outputs": [],
   "source": [
    "# 리절트에 천번 실행한 결과가 저장됨"
   ]
  },
  {
   "cell_type": "code",
   "execution_count": 251,
   "id": "d6495f91",
   "metadata": {},
   "outputs": [
    {
     "data": {
      "text/plain": [
       "0"
      ]
     },
     "execution_count": 251,
     "metadata": {},
     "output_type": "execute_result"
    }
   ],
   "source": [
    "import random\n",
    "\n",
    "position = 0 # 시작점 1층을 0으로 생각\n",
    "steps = 1000\n",
    "\n",
    "for i in range(steps):\n",
    "    step = 1 if random.randint(0, 1) else -1    # 요부분은 실행하면 0이나 1이 게속 반복해서 나옴\n",
    "    position += step # 포지션에 steps의 결과를 누적시킴\n",
    "    \n",
    "position"
   ]
  },
  {
   "cell_type": "code",
   "execution_count": 252,
   "id": "5c2e2027",
   "metadata": {},
   "outputs": [],
   "source": [
    "# 한칸도 못올라갔네??"
   ]
  },
  {
   "cell_type": "code",
   "execution_count": 253,
   "id": "143cee8c",
   "metadata": {},
   "outputs": [],
   "source": [
    "position = 0 # 시작점 1층을 0으로 생각\n",
    "steps = 1000\n",
    "walk = []\n",
    "\n",
    "for i in range(steps):\n",
    "    step = 1 if random.randint(0, 1) else -1    # 요부분은 실행하면 0이나 1이 게속 반복해서 나옴\n",
    "    position += step # 포지션에 steps의 결과를 누적시킴\n",
    "    walk.append(position)"
   ]
  },
  {
   "cell_type": "code",
   "execution_count": 254,
   "id": "d80c779c",
   "metadata": {
    "collapsed": true
   },
   "outputs": [
    {
     "data": {
      "text/plain": [
       "[1,\n",
       " 0,\n",
       " -1,\n",
       " 0,\n",
       " -1,\n",
       " -2,\n",
       " -1,\n",
       " -2,\n",
       " -3,\n",
       " -4,\n",
       " -3,\n",
       " -2,\n",
       " -1,\n",
       " -2,\n",
       " -1,\n",
       " -2,\n",
       " -3,\n",
       " -2,\n",
       " -3,\n",
       " -4,\n",
       " -5,\n",
       " -6,\n",
       " -7,\n",
       " -8,\n",
       " -7,\n",
       " -8,\n",
       " -9,\n",
       " -8,\n",
       " -9,\n",
       " -10,\n",
       " -11,\n",
       " -12,\n",
       " -13,\n",
       " -14,\n",
       " -13,\n",
       " -14,\n",
       " -13,\n",
       " -14,\n",
       " -13,\n",
       " -14,\n",
       " -15,\n",
       " -16,\n",
       " -17,\n",
       " -18,\n",
       " -19,\n",
       " -18,\n",
       " -17,\n",
       " -16,\n",
       " -15,\n",
       " -14,\n",
       " -15,\n",
       " -14,\n",
       " -15,\n",
       " -16,\n",
       " -15,\n",
       " -14,\n",
       " -13,\n",
       " -14,\n",
       " -13,\n",
       " -12,\n",
       " -11,\n",
       " -10,\n",
       " -11,\n",
       " -12,\n",
       " -11,\n",
       " -12,\n",
       " -13,\n",
       " -14,\n",
       " -15,\n",
       " -16,\n",
       " -15,\n",
       " -16,\n",
       " -17,\n",
       " -18,\n",
       " -17,\n",
       " -16,\n",
       " -15,\n",
       " -16,\n",
       " -15,\n",
       " -14,\n",
       " -15,\n",
       " -16,\n",
       " -15,\n",
       " -14,\n",
       " -15,\n",
       " -14,\n",
       " -13,\n",
       " -14,\n",
       " -15,\n",
       " -14,\n",
       " -13,\n",
       " -12,\n",
       " -13,\n",
       " -12,\n",
       " -13,\n",
       " -14,\n",
       " -13,\n",
       " -12,\n",
       " -13,\n",
       " -14,\n",
       " -13,\n",
       " -14,\n",
       " -13,\n",
       " -14,\n",
       " -15,\n",
       " -16,\n",
       " -15,\n",
       " -16,\n",
       " -17,\n",
       " -18,\n",
       " -19,\n",
       " -18,\n",
       " -19,\n",
       " -18,\n",
       " -19,\n",
       " -20,\n",
       " -19,\n",
       " -18,\n",
       " -19,\n",
       " -20,\n",
       " -21,\n",
       " -20,\n",
       " -19,\n",
       " -18,\n",
       " -17,\n",
       " -16,\n",
       " -17,\n",
       " -18,\n",
       " -19,\n",
       " -18,\n",
       " -19,\n",
       " -20,\n",
       " -21,\n",
       " -20,\n",
       " -19,\n",
       " -20,\n",
       " -19,\n",
       " -18,\n",
       " -19,\n",
       " -18,\n",
       " -17,\n",
       " -16,\n",
       " -17,\n",
       " -18,\n",
       " -19,\n",
       " -18,\n",
       " -17,\n",
       " -16,\n",
       " -17,\n",
       " -16,\n",
       " -15,\n",
       " -16,\n",
       " -15,\n",
       " -16,\n",
       " -17,\n",
       " -16,\n",
       " -17,\n",
       " -16,\n",
       " -15,\n",
       " -16,\n",
       " -15,\n",
       " -16,\n",
       " -17,\n",
       " -18,\n",
       " -19,\n",
       " -20,\n",
       " -19,\n",
       " -18,\n",
       " -17,\n",
       " -16,\n",
       " -17,\n",
       " -16,\n",
       " -15,\n",
       " -14,\n",
       " -15,\n",
       " -16,\n",
       " -15,\n",
       " -16,\n",
       " -15,\n",
       " -16,\n",
       " -15,\n",
       " -16,\n",
       " -15,\n",
       " -14,\n",
       " -15,\n",
       " -16,\n",
       " -17,\n",
       " -16,\n",
       " -17,\n",
       " -18,\n",
       " -19,\n",
       " -18,\n",
       " -19,\n",
       " -18,\n",
       " -19,\n",
       " -18,\n",
       " -19,\n",
       " -20,\n",
       " -19,\n",
       " -18,\n",
       " -17,\n",
       " -18,\n",
       " -19,\n",
       " -18,\n",
       " -17,\n",
       " -16,\n",
       " -17,\n",
       " -16,\n",
       " -17,\n",
       " -16,\n",
       " -15,\n",
       " -14,\n",
       " -15,\n",
       " -16,\n",
       " -17,\n",
       " -18,\n",
       " -19,\n",
       " -20,\n",
       " -19,\n",
       " -20,\n",
       " -19,\n",
       " -18,\n",
       " -19,\n",
       " -18,\n",
       " -17,\n",
       " -18,\n",
       " -19,\n",
       " -18,\n",
       " -17,\n",
       " -18,\n",
       " -19,\n",
       " -20,\n",
       " -21,\n",
       " -22,\n",
       " -23,\n",
       " -24,\n",
       " -25,\n",
       " -24,\n",
       " -25,\n",
       " -26,\n",
       " -25,\n",
       " -26,\n",
       " -25,\n",
       " -26,\n",
       " -25,\n",
       " -26,\n",
       " -25,\n",
       " -24,\n",
       " -23,\n",
       " -22,\n",
       " -23,\n",
       " -24,\n",
       " -25,\n",
       " -26,\n",
       " -27,\n",
       " -28,\n",
       " -29,\n",
       " -30,\n",
       " -29,\n",
       " -28,\n",
       " -27,\n",
       " -26,\n",
       " -25,\n",
       " -26,\n",
       " -27,\n",
       " -28,\n",
       " -27,\n",
       " -26,\n",
       " -25,\n",
       " -24,\n",
       " -25,\n",
       " -26,\n",
       " -25,\n",
       " -24,\n",
       " -23,\n",
       " -24,\n",
       " -23,\n",
       " -24,\n",
       " -23,\n",
       " -22,\n",
       " -21,\n",
       " -20,\n",
       " -19,\n",
       " -18,\n",
       " -19,\n",
       " -20,\n",
       " -19,\n",
       " -20,\n",
       " -19,\n",
       " -18,\n",
       " -19,\n",
       " -18,\n",
       " -17,\n",
       " -16,\n",
       " -15,\n",
       " -16,\n",
       " -17,\n",
       " -16,\n",
       " -15,\n",
       " -16,\n",
       " -17,\n",
       " -18,\n",
       " -19,\n",
       " -18,\n",
       " -19,\n",
       " -20,\n",
       " -19,\n",
       " -18,\n",
       " -17,\n",
       " -16,\n",
       " -15,\n",
       " -14,\n",
       " -13,\n",
       " -12,\n",
       " -11,\n",
       " -10,\n",
       " -9,\n",
       " -10,\n",
       " -9,\n",
       " -8,\n",
       " -9,\n",
       " -8,\n",
       " -7,\n",
       " -8,\n",
       " -9,\n",
       " -10,\n",
       " -9,\n",
       " -10,\n",
       " -9,\n",
       " -10,\n",
       " -9,\n",
       " -10,\n",
       " -11,\n",
       " -12,\n",
       " -13,\n",
       " -14,\n",
       " -15,\n",
       " -16,\n",
       " -17,\n",
       " -18,\n",
       " -17,\n",
       " -18,\n",
       " -19,\n",
       " -18,\n",
       " -19,\n",
       " -18,\n",
       " -19,\n",
       " -18,\n",
       " -17,\n",
       " -18,\n",
       " -19,\n",
       " -20,\n",
       " -19,\n",
       " -18,\n",
       " -17,\n",
       " -18,\n",
       " -17,\n",
       " -16,\n",
       " -15,\n",
       " -14,\n",
       " -15,\n",
       " -16,\n",
       " -17,\n",
       " -16,\n",
       " -15,\n",
       " -16,\n",
       " -17,\n",
       " -18,\n",
       " -17,\n",
       " -16,\n",
       " -17,\n",
       " -16,\n",
       " -15,\n",
       " -14,\n",
       " -13,\n",
       " -14,\n",
       " -15,\n",
       " -14,\n",
       " -13,\n",
       " -14,\n",
       " -13,\n",
       " -12,\n",
       " -11,\n",
       " -12,\n",
       " -11,\n",
       " -12,\n",
       " -11,\n",
       " -10,\n",
       " -11,\n",
       " -12,\n",
       " -11,\n",
       " -12,\n",
       " -13,\n",
       " -14,\n",
       " -15,\n",
       " -14,\n",
       " -13,\n",
       " -14,\n",
       " -13,\n",
       " -12,\n",
       " -11,\n",
       " -10,\n",
       " -11,\n",
       " -12,\n",
       " -11,\n",
       " -10,\n",
       " -9,\n",
       " -10,\n",
       " -9,\n",
       " -8,\n",
       " -9,\n",
       " -10,\n",
       " -11,\n",
       " -10,\n",
       " -11,\n",
       " -12,\n",
       " -11,\n",
       " -10,\n",
       " -11,\n",
       " -10,\n",
       " -11,\n",
       " -10,\n",
       " -9,\n",
       " -8,\n",
       " -7,\n",
       " -6,\n",
       " -5,\n",
       " -4,\n",
       " -3,\n",
       " -4,\n",
       " -3,\n",
       " -2,\n",
       " -1,\n",
       " -2,\n",
       " -3,\n",
       " -4,\n",
       " -3,\n",
       " -4,\n",
       " -3,\n",
       " -4,\n",
       " -5,\n",
       " -6,\n",
       " -5,\n",
       " -4,\n",
       " -3,\n",
       " -2,\n",
       " -1,\n",
       " -2,\n",
       " -1,\n",
       " -2,\n",
       " -1,\n",
       " -2,\n",
       " -1,\n",
       " 0,\n",
       " 1,\n",
       " 0,\n",
       " -1,\n",
       " 0,\n",
       " 1,\n",
       " 0,\n",
       " 1,\n",
       " 0,\n",
       " 1,\n",
       " 0,\n",
       " 1,\n",
       " 2,\n",
       " 3,\n",
       " 4,\n",
       " 3,\n",
       " 2,\n",
       " 3,\n",
       " 2,\n",
       " 1,\n",
       " 2,\n",
       " 3,\n",
       " 2,\n",
       " 1,\n",
       " 2,\n",
       " 3,\n",
       " 2,\n",
       " 1,\n",
       " 2,\n",
       " 1,\n",
       " 2,\n",
       " 1,\n",
       " 0,\n",
       " 1,\n",
       " 0,\n",
       " 1,\n",
       " 0,\n",
       " -1,\n",
       " -2,\n",
       " -3,\n",
       " -2,\n",
       " -3,\n",
       " -4,\n",
       " -3,\n",
       " -4,\n",
       " -3,\n",
       " -4,\n",
       " -5,\n",
       " -6,\n",
       " -5,\n",
       " -6,\n",
       " -7,\n",
       " -8,\n",
       " -7,\n",
       " -8,\n",
       " -9,\n",
       " -10,\n",
       " -9,\n",
       " -10,\n",
       " -11,\n",
       " -12,\n",
       " -13,\n",
       " -12,\n",
       " -13,\n",
       " -12,\n",
       " -13,\n",
       " -12,\n",
       " -13,\n",
       " -14,\n",
       " -13,\n",
       " -14,\n",
       " -13,\n",
       " -12,\n",
       " -11,\n",
       " -10,\n",
       " -9,\n",
       " -10,\n",
       " -11,\n",
       " -10,\n",
       " -11,\n",
       " -10,\n",
       " -9,\n",
       " -10,\n",
       " -9,\n",
       " -8,\n",
       " -7,\n",
       " -6,\n",
       " -7,\n",
       " -6,\n",
       " -5,\n",
       " -6,\n",
       " -5,\n",
       " -6,\n",
       " -5,\n",
       " -6,\n",
       " -5,\n",
       " -4,\n",
       " -5,\n",
       " -4,\n",
       " -3,\n",
       " -2,\n",
       " -1,\n",
       " -2,\n",
       " -3,\n",
       " -4,\n",
       " -5,\n",
       " -6,\n",
       " -5,\n",
       " -4,\n",
       " -5,\n",
       " -4,\n",
       " -3,\n",
       " -4,\n",
       " -3,\n",
       " -4,\n",
       " -3,\n",
       " -4,\n",
       " -3,\n",
       " -4,\n",
       " -5,\n",
       " -4,\n",
       " -5,\n",
       " -4,\n",
       " -3,\n",
       " -2,\n",
       " -3,\n",
       " -4,\n",
       " -5,\n",
       " -4,\n",
       " -5,\n",
       " -4,\n",
       " -5,\n",
       " -6,\n",
       " -5,\n",
       " -4,\n",
       " -5,\n",
       " -4,\n",
       " -5,\n",
       " -4,\n",
       " -3,\n",
       " -2,\n",
       " -1,\n",
       " 0,\n",
       " 1,\n",
       " 0,\n",
       " 1,\n",
       " 2,\n",
       " 3,\n",
       " 2,\n",
       " 3,\n",
       " 2,\n",
       " 1,\n",
       " 2,\n",
       " 1,\n",
       " 0,\n",
       " -1,\n",
       " 0,\n",
       " 1,\n",
       " 0,\n",
       " 1,\n",
       " 2,\n",
       " 3,\n",
       " 4,\n",
       " 3,\n",
       " 4,\n",
       " 5,\n",
       " 4,\n",
       " 3,\n",
       " 4,\n",
       " 3,\n",
       " 2,\n",
       " 1,\n",
       " 2,\n",
       " 1,\n",
       " 0,\n",
       " 1,\n",
       " 0,\n",
       " -1,\n",
       " 0,\n",
       " 1,\n",
       " 2,\n",
       " 1,\n",
       " 0,\n",
       " 1,\n",
       " 2,\n",
       " 3,\n",
       " 4,\n",
       " 5,\n",
       " 6,\n",
       " 7,\n",
       " 8,\n",
       " 7,\n",
       " 6,\n",
       " 5,\n",
       " 6,\n",
       " 7,\n",
       " 8,\n",
       " 7,\n",
       " 8,\n",
       " 7,\n",
       " 8,\n",
       " 7,\n",
       " 8,\n",
       " 7,\n",
       " 8,\n",
       " 9,\n",
       " 10,\n",
       " 11,\n",
       " 12,\n",
       " 11,\n",
       " 10,\n",
       " 9,\n",
       " 10,\n",
       " 9,\n",
       " 8,\n",
       " 7,\n",
       " 6,\n",
       " 5,\n",
       " 6,\n",
       " 7,\n",
       " 6,\n",
       " 5,\n",
       " 6,\n",
       " 7,\n",
       " 6,\n",
       " 5,\n",
       " 4,\n",
       " 5,\n",
       " 6,\n",
       " 7,\n",
       " 8,\n",
       " 7,\n",
       " 6,\n",
       " 7,\n",
       " 6,\n",
       " 7,\n",
       " 6,\n",
       " 5,\n",
       " 4,\n",
       " 5,\n",
       " 4,\n",
       " 5,\n",
       " 4,\n",
       " 5,\n",
       " 4,\n",
       " 3,\n",
       " 2,\n",
       " 3,\n",
       " 4,\n",
       " 3,\n",
       " 2,\n",
       " 3,\n",
       " 4,\n",
       " 3,\n",
       " 2,\n",
       " 3,\n",
       " 2,\n",
       " 1,\n",
       " 2,\n",
       " 1,\n",
       " 0,\n",
       " -1,\n",
       " 0,\n",
       " -1,\n",
       " 0,\n",
       " 1,\n",
       " 0,\n",
       " 1,\n",
       " 0,\n",
       " 1,\n",
       " 0,\n",
       " -1,\n",
       " 0,\n",
       " 1,\n",
       " 0,\n",
       " 1,\n",
       " 2,\n",
       " 1,\n",
       " 2,\n",
       " 1,\n",
       " 2,\n",
       " 1,\n",
       " 2,\n",
       " 1,\n",
       " 0,\n",
       " -1,\n",
       " -2,\n",
       " -3,\n",
       " -4,\n",
       " -3,\n",
       " -2,\n",
       " -3,\n",
       " -4,\n",
       " -5,\n",
       " -6,\n",
       " -7,\n",
       " -6,\n",
       " -5,\n",
       " -6,\n",
       " -5,\n",
       " -6,\n",
       " -7,\n",
       " -8,\n",
       " -9,\n",
       " -8,\n",
       " -9,\n",
       " -10,\n",
       " -9,\n",
       " -10,\n",
       " -11,\n",
       " -10,\n",
       " -9,\n",
       " -10,\n",
       " -11,\n",
       " -12,\n",
       " -11,\n",
       " -12,\n",
       " -11,\n",
       " -10,\n",
       " -9,\n",
       " -10,\n",
       " -11,\n",
       " -12,\n",
       " -11,\n",
       " -10,\n",
       " -9,\n",
       " -8,\n",
       " -9,\n",
       " -8,\n",
       " -9,\n",
       " -8,\n",
       " -7,\n",
       " -6,\n",
       " -7,\n",
       " -8,\n",
       " -9,\n",
       " -10,\n",
       " -11,\n",
       " -12,\n",
       " -11,\n",
       " -10,\n",
       " -11,\n",
       " -10,\n",
       " -11,\n",
       " -12,\n",
       " -13,\n",
       " -12,\n",
       " -13,\n",
       " -12,\n",
       " -13,\n",
       " -12,\n",
       " -11,\n",
       " -12,\n",
       " -13,\n",
       " -14,\n",
       " -15,\n",
       " -14,\n",
       " -15,\n",
       " -16,\n",
       " -15,\n",
       " -16,\n",
       " -15,\n",
       " -16,\n",
       " -17,\n",
       " -16,\n",
       " -15,\n",
       " -14,\n",
       " -15,\n",
       " -16,\n",
       " -17,\n",
       " -18,\n",
       " -17,\n",
       " -18,\n",
       " -17,\n",
       " -16,\n",
       " -17,\n",
       " -16,\n",
       " -17,\n",
       " -16,\n",
       " -17,\n",
       " -16,\n",
       " -17,\n",
       " -18,\n",
       " -17,\n",
       " -16,\n",
       " -15,\n",
       " -14,\n",
       " -13,\n",
       " -12,\n",
       " -11,\n",
       " -10,\n",
       " -9,\n",
       " -10,\n",
       " -11,\n",
       " -10,\n",
       " -11,\n",
       " -10,\n",
       " -11,\n",
       " -12,\n",
       " -13,\n",
       " -12,\n",
       " -11,\n",
       " -12,\n",
       " -11,\n",
       " -10,\n",
       " -11,\n",
       " -10,\n",
       " -9,\n",
       " -8,\n",
       " -9,\n",
       " -10,\n",
       " -9,\n",
       " -10,\n",
       " -9,\n",
       " -10,\n",
       " -9,\n",
       " -10,\n",
       " -9,\n",
       " -8,\n",
       " -7,\n",
       " -6,\n",
       " -5,\n",
       " -4,\n",
       " -5,\n",
       " -4,\n",
       " -3,\n",
       " -2,\n",
       " -1,\n",
       " -2,\n",
       " -1,\n",
       " 0,\n",
       " -1,\n",
       " 0,\n",
       " 1,\n",
       " 2,\n",
       " 3,\n",
       " 2,\n",
       " 3,\n",
       " 4,\n",
       " 5,\n",
       " 4,\n",
       " 3,\n",
       " 2,\n",
       " 3,\n",
       " 2,\n",
       " 1,\n",
       " 2,\n",
       " 1,\n",
       " 0,\n",
       " -1,\n",
       " -2,\n",
       " -1,\n",
       " -2,\n",
       " -1,\n",
       " -2,\n",
       " -3,\n",
       " -4,\n",
       " -5,\n",
       " -6,\n",
       " -5,\n",
       " -6,\n",
       " -7,\n",
       " -6,\n",
       " -5,\n",
       " -6,\n",
       " -7,\n",
       " -6,\n",
       " -7,\n",
       " -8,\n",
       " -9,\n",
       " -10,\n",
       " -9,\n",
       " -8,\n",
       " -7,\n",
       " -6,\n",
       " -5,\n",
       " -6,\n",
       " -5,\n",
       " -4,\n",
       " -5,\n",
       " -6,\n",
       " -7,\n",
       " -6,\n",
       " -5,\n",
       " -4,\n",
       " -5,\n",
       " -6,\n",
       " -5,\n",
       " -6,\n",
       " -5,\n",
       " -6,\n",
       " -7,\n",
       " -8,\n",
       " -9,\n",
       " -10,\n",
       " -11,\n",
       " -10,\n",
       " -9,\n",
       " -8,\n",
       " -9,\n",
       " -8,\n",
       " -9,\n",
       " -8,\n",
       " -9,\n",
       " -8,\n",
       " -9,\n",
       " -8,\n",
       " -7,\n",
       " -6,\n",
       " -7,\n",
       " -6,\n",
       " -5,\n",
       " -4,\n",
       " -3,\n",
       " -2,\n",
       " -3,\n",
       " -4,\n",
       " -3,\n",
       " -2,\n",
       " -1,\n",
       " 0,\n",
       " 1,\n",
       " 2,\n",
       " 3,\n",
       " 4,\n",
       " 5,\n",
       " 4,\n",
       " 3,\n",
       " 4,\n",
       " 3,\n",
       " 2,\n",
       " 1,\n",
       " 0,\n",
       " -1,\n",
       " -2,\n",
       " -1,\n",
       " 0,\n",
       " -1,\n",
       " -2,\n",
       " -1,\n",
       " 0,\n",
       " -1,\n",
       " -2,\n",
       " -3,\n",
       " -4,\n",
       " -5,\n",
       " -4]"
      ]
     },
     "execution_count": 254,
     "metadata": {},
     "output_type": "execute_result"
    }
   ],
   "source": [
    "walk"
   ]
  },
  {
   "cell_type": "code",
   "execution_count": 255,
   "id": "c9fe90cb",
   "metadata": {},
   "outputs": [],
   "source": [
    "# 누적된 값들이 나옴"
   ]
  },
  {
   "cell_type": "code",
   "execution_count": 256,
   "id": "5c5b93a4",
   "metadata": {},
   "outputs": [
    {
     "data": {
      "text/plain": [
       "-4"
      ]
     },
     "execution_count": 256,
     "metadata": {},
     "output_type": "execute_result"
    }
   ],
   "source": [
    "walk[-1]"
   ]
  },
  {
   "cell_type": "code",
   "execution_count": 257,
   "id": "20962e29",
   "metadata": {},
   "outputs": [],
   "source": [
    "# -4칸에서 끝남"
   ]
  },
  {
   "cell_type": "code",
   "execution_count": 258,
   "id": "e26ebf11",
   "metadata": {},
   "outputs": [],
   "source": [
    "# 자 이제 위에껄 넘파이로 바꿔보자"
   ]
  },
  {
   "cell_type": "code",
   "execution_count": 262,
   "id": "4b610f55",
   "metadata": {},
   "outputs": [
    {
     "data": {
      "text/plain": [
       "[<matplotlib.lines.Line2D at 0x1e9c4802d30>]"
      ]
     },
     "execution_count": 262,
     "metadata": {},
     "output_type": "execute_result"
    },
    {
     "data": {
      "image/png": "[encoded data removed]",
      "text/plain": [
       "<Figure size 432x288 with 1 Axes>"
      ]
     },
     "metadata": {
      "needs_background": "light"
     },
     "output_type": "display_data"
    }
   ],
   "source": [
    "import matplotlib.pyplot as plt\n",
    "plt.plot(walk[:100])"
   ]
  },
  {
   "cell_type": "code",
   "execution_count": 269,
   "id": "375d6326",
   "metadata": {},
   "outputs": [
    {
     "data": {
      "text/plain": [
       "[<matplotlib.lines.Line2D at 0x1e9c4d2c970>]"
      ]
     },
     "execution_count": 269,
     "metadata": {},
     "output_type": "execute_result"
    },
    {
     "data": {
      "image/png": "[encoded data removed]",
      "text/plain": [
       "<Figure size 432x288 with 1 Axes>"
      ]
     },
     "metadata": {
      "needs_background": "light"
     },
     "output_type": "display_data"
    }
   ],
   "source": [
    "position = 0\n",
    "steps = 1000\n",
    "walk = np.array([])\n",
    "\n",
    "for i in range(steps):\n",
    "    step = 1 if np.random.randint(0, 2) else -1\n",
    "    position += step\n",
    "    walk = np.append(walk, np.array(position))\n",
    "\n",
    "plt.plot(walk[:100])"
   ]
  },
  {
   "cell_type": "code",
   "execution_count": 271,
   "id": "23901267",
   "metadata": {},
   "outputs": [],
   "source": [
    "# 위 아래는 for 문을 사용 하냐 안하느냐에 따라 간결해지느냐 마느냐의 문제가 생김"
   ]
  },
  {
   "cell_type": "code",
   "execution_count": 270,
   "id": "6573c96e",
   "metadata": {},
   "outputs": [
    {
     "name": "stdout",
     "output_type": "stream",
     "text": [
      "26\n"
     ]
    }
   ],
   "source": [
    "arr = np.random.randint(0, 2, 1000)\n",
    "arr = np.where(arr == 1, 1, -1)\n",
    "\n",
    "walk = np.cumsum(arr)\n",
    "print(walk[-1])"
   ]
  },
  {
   "cell_type": "code",
   "execution_count": 272,
   "id": "72fe9b43",
   "metadata": {},
   "outputs": [
    {
     "data": {
      "text/plain": [
       "-38"
      ]
     },
     "execution_count": 272,
     "metadata": {},
     "output_type": "execute_result"
    }
   ],
   "source": [
    "walk = np.random.randint(0, 2, 1000)\n",
    "sum(walk > 0) - sum(walk < 1)"
   ]
  },
  {
   "cell_type": "code",
   "execution_count": null,
   "id": "6120d311",
   "metadata": {},
   "outputs": [],
   "source": [
    "# choice 함수 이용 가능\n",
    "\n",
    "position = sum(np.random.choice([-1,1], 1000, p=[0.5, 0.5]))\n",
    "steps = np.cumsum(np.random.choice([-1,1], 1000, p=[0.5, 0.5]))"
   ]
  },
  {
   "cell_type": "code",
   "execution_count": 274,
   "id": "7d9fef19",
   "metadata": {},
   "outputs": [],
   "source": [
    "# 강사님 풀이"
   ]
  },
  {
   "cell_type": "code",
   "execution_count": 273,
   "id": "499d4a37",
   "metadata": {},
   "outputs": [],
   "source": [
    "nsteps = 1000\n",
    "draws = np.random.randint(0,2,size=nsteps) # 이기고 지는 경우만 상정 draws는 천개의 데이터를 가지고 있는 ndarray임"
   ]
  },
  {
   "cell_type": "code",
   "execution_count": 275,
   "id": "d9cca0fd",
   "metadata": {
    "collapsed": true
   },
   "outputs": [
    {
     "data": {
      "text/plain": [
       "array([-1, -1,  1,  1, -1, -1,  1,  1,  1, -1,  1, -1,  1, -1, -1,  1,  1,\n",
       "       -1,  1, -1, -1,  1, -1,  1, -1,  1,  1, -1,  1,  1, -1,  1, -1, -1,\n",
       "       -1, -1, -1,  1, -1,  1, -1,  1, -1,  1,  1, -1, -1, -1,  1, -1,  1,\n",
       "       -1,  1,  1, -1,  1,  1, -1, -1, -1,  1, -1,  1, -1, -1,  1,  1, -1,\n",
       "       -1,  1, -1, -1, -1, -1, -1, -1, -1,  1,  1, -1, -1, -1, -1, -1,  1,\n",
       "       -1, -1, -1, -1,  1, -1,  1,  1,  1,  1, -1, -1,  1, -1, -1,  1,  1,\n",
       "       -1, -1,  1, -1,  1, -1,  1,  1, -1, -1,  1,  1, -1,  1, -1,  1,  1,\n",
       "       -1,  1,  1, -1, -1,  1, -1,  1, -1,  1, -1, -1,  1, -1,  1, -1,  1,\n",
       "       -1,  1,  1,  1, -1,  1, -1,  1, -1,  1, -1,  1,  1,  1,  1, -1, -1,\n",
       "       -1, -1, -1,  1,  1,  1, -1,  1,  1, -1, -1,  1,  1,  1,  1,  1, -1,\n",
       "        1, -1, -1,  1,  1, -1, -1, -1,  1, -1,  1,  1, -1,  1, -1, -1, -1,\n",
       "       -1, -1, -1,  1,  1, -1, -1,  1, -1, -1, -1, -1, -1, -1,  1, -1, -1,\n",
       "        1, -1, -1, -1,  1, -1,  1,  1, -1, -1, -1,  1, -1, -1,  1, -1,  1,\n",
       "        1, -1, -1,  1, -1, -1, -1, -1, -1,  1, -1,  1,  1, -1,  1, -1,  1,\n",
       "        1,  1, -1,  1,  1, -1, -1, -1,  1,  1, -1, -1,  1,  1,  1,  1, -1,\n",
       "       -1,  1,  1,  1, -1,  1, -1,  1, -1,  1,  1,  1,  1, -1,  1, -1,  1,\n",
       "       -1,  1,  1, -1, -1, -1, -1, -1, -1, -1,  1,  1, -1, -1,  1,  1,  1,\n",
       "        1, -1,  1, -1,  1,  1,  1,  1,  1,  1,  1, -1, -1,  1,  1,  1,  1,\n",
       "        1, -1, -1,  1,  1,  1,  1,  1, -1,  1, -1, -1, -1,  1,  1, -1,  1,\n",
       "        1, -1,  1,  1, -1,  1, -1, -1,  1, -1,  1, -1, -1, -1, -1,  1,  1,\n",
       "       -1,  1, -1,  1,  1,  1, -1, -1,  1,  1,  1, -1,  1,  1, -1,  1,  1,\n",
       "       -1,  1, -1,  1, -1, -1, -1,  1, -1,  1,  1,  1,  1, -1,  1,  1, -1,\n",
       "       -1, -1, -1,  1, -1, -1,  1,  1, -1, -1,  1, -1, -1, -1, -1,  1,  1,\n",
       "       -1,  1,  1,  1, -1,  1,  1,  1,  1,  1,  1, -1,  1,  1, -1,  1,  1,\n",
       "       -1,  1,  1, -1, -1,  1, -1,  1, -1, -1, -1, -1,  1, -1,  1, -1, -1,\n",
       "       -1, -1,  1, -1, -1, -1,  1,  1, -1,  1,  1,  1,  1, -1, -1, -1,  1,\n",
       "        1, -1, -1, -1,  1,  1,  1,  1,  1, -1, -1,  1, -1, -1,  1, -1, -1,\n",
       "        1, -1,  1, -1,  1, -1,  1,  1, -1, -1, -1,  1,  1,  1, -1, -1, -1,\n",
       "        1, -1,  1,  1, -1, -1, -1, -1,  1,  1, -1,  1, -1,  1, -1,  1,  1,\n",
       "       -1, -1,  1,  1, -1,  1, -1, -1,  1,  1, -1, -1,  1,  1,  1,  1,  1,\n",
       "        1,  1, -1, -1,  1,  1,  1, -1, -1,  1,  1, -1,  1, -1,  1, -1,  1,\n",
       "       -1,  1,  1, -1,  1, -1, -1,  1,  1,  1,  1,  1,  1, -1,  1, -1, -1,\n",
       "       -1, -1,  1,  1, -1,  1, -1,  1, -1,  1, -1,  1, -1,  1,  1,  1, -1,\n",
       "       -1, -1, -1,  1,  1,  1,  1, -1,  1, -1, -1,  1,  1, -1,  1, -1,  1,\n",
       "       -1, -1,  1,  1, -1,  1, -1,  1,  1, -1, -1,  1,  1,  1,  1,  1, -1,\n",
       "        1,  1, -1, -1,  1,  1, -1, -1, -1, -1, -1,  1,  1, -1, -1, -1,  1,\n",
       "        1, -1, -1,  1,  1,  1, -1,  1, -1,  1,  1,  1,  1, -1,  1, -1, -1,\n",
       "       -1, -1, -1,  1,  1, -1, -1,  1,  1,  1,  1, -1,  1,  1, -1,  1,  1,\n",
       "       -1, -1, -1, -1, -1,  1,  1,  1, -1,  1, -1,  1, -1,  1, -1, -1,  1,\n",
       "       -1,  1, -1,  1,  1, -1,  1,  1, -1, -1,  1,  1, -1,  1,  1,  1,  1,\n",
       "       -1, -1,  1,  1,  1, -1, -1,  1, -1,  1, -1, -1, -1, -1,  1,  1,  1,\n",
       "        1, -1, -1,  1,  1, -1, -1, -1,  1,  1, -1, -1,  1,  1,  1, -1, -1,\n",
       "        1,  1,  1,  1,  1,  1,  1,  1,  1,  1,  1,  1,  1,  1,  1, -1, -1,\n",
       "       -1, -1, -1,  1, -1, -1,  1, -1, -1, -1, -1,  1, -1, -1,  1, -1, -1,\n",
       "        1, -1,  1,  1,  1,  1, -1, -1, -1,  1, -1, -1, -1,  1, -1, -1, -1,\n",
       "       -1, -1,  1, -1,  1, -1, -1, -1, -1,  1,  1,  1,  1, -1,  1,  1, -1,\n",
       "       -1,  1, -1, -1, -1, -1,  1, -1, -1, -1, -1, -1, -1,  1,  1,  1, -1,\n",
       "       -1, -1, -1, -1, -1, -1, -1, -1, -1, -1, -1, -1, -1,  1, -1,  1, -1,\n",
       "        1,  1, -1,  1,  1,  1,  1, -1,  1,  1,  1,  1,  1,  1,  1,  1,  1,\n",
       "       -1, -1, -1, -1, -1,  1, -1, -1, -1, -1, -1, -1, -1,  1,  1,  1, -1,\n",
       "        1,  1, -1,  1,  1, -1,  1,  1,  1, -1, -1, -1,  1, -1,  1, -1,  1,\n",
       "        1, -1, -1, -1,  1, -1, -1,  1, -1, -1, -1, -1,  1,  1, -1,  1,  1,\n",
       "       -1, -1,  1, -1, -1,  1,  1,  1,  1,  1, -1, -1,  1,  1, -1,  1, -1,\n",
       "        1,  1, -1,  1, -1, -1, -1, -1,  1,  1, -1,  1,  1, -1,  1,  1,  1,\n",
       "        1,  1,  1, -1,  1,  1,  1, -1, -1,  1,  1,  1, -1,  1,  1,  1,  1,\n",
       "       -1, -1, -1,  1,  1,  1,  1,  1,  1, -1,  1,  1,  1,  1, -1, -1,  1,\n",
       "       -1, -1, -1,  1, -1,  1,  1, -1,  1, -1, -1, -1,  1, -1,  1, -1,  1,\n",
       "        1,  1, -1,  1, -1,  1,  1, -1, -1,  1, -1, -1, -1,  1, -1,  1, -1,\n",
       "       -1, -1,  1,  1,  1,  1,  1, -1,  1, -1, -1,  1, -1, -1])"
      ]
     },
     "execution_count": 275,
     "metadata": {},
     "output_type": "execute_result"
    }
   ],
   "source": [
    "cond = draws > 0\n",
    "steps = np.where(cond, 1, -1) # 중간이 트루값, 오른쪽끝이 폴스값\n",
    "steps"
   ]
  },
  {
   "cell_type": "code",
   "execution_count": 276,
   "id": "cd62f06c",
   "metadata": {},
   "outputs": [],
   "source": [
    "# 자 이제 계단을 오르내리는 스탭이 정해짐"
   ]
  },
  {
   "cell_type": "code",
   "execution_count": null,
   "id": "a0c49690",
   "metadata": {},
   "outputs": [],
   "source": [
    "# 위랑 같은 말임\n",
    "steps = np.where(draws > 0, 1, -1) # 중간이 트루값, 오른쪽끝이 폴스값\n",
    "steps"
   ]
  },
  {
   "cell_type": "code",
   "execution_count": 277,
   "id": "b44ed20d",
   "metadata": {
    "collapsed": true
   },
   "outputs": [
    {
     "data": {
      "text/plain": [
       "array([ -1,  -2,  -1,   0,  -1,  -2,  -1,   0,   1,   0,   1,   0,   1,\n",
       "         0,  -1,   0,   1,   0,   1,   0,  -1,   0,  -1,   0,  -1,   0,\n",
       "         1,   0,   1,   2,   1,   2,   1,   0,  -1,  -2,  -3,  -2,  -3,\n",
       "        -2,  -3,  -2,  -3,  -2,  -1,  -2,  -3,  -4,  -3,  -4,  -3,  -4,\n",
       "        -3,  -2,  -3,  -2,  -1,  -2,  -3,  -4,  -3,  -4,  -3,  -4,  -5,\n",
       "        -4,  -3,  -4,  -5,  -4,  -5,  -6,  -7,  -8,  -9, -10, -11, -10,\n",
       "        -9, -10, -11, -12, -13, -14, -13, -14, -15, -16, -17, -16, -17,\n",
       "       -16, -15, -14, -13, -14, -15, -14, -15, -16, -15, -14, -15, -16,\n",
       "       -15, -16, -15, -16, -15, -14, -15, -16, -15, -14, -15, -14, -15,\n",
       "       -14, -13, -14, -13, -12, -13, -14, -13, -14, -13, -14, -13, -14,\n",
       "       -15, -14, -15, -14, -15, -14, -15, -14, -13, -12, -13, -12, -13,\n",
       "       -12, -13, -12, -13, -12, -11, -10,  -9, -10, -11, -12, -13, -14,\n",
       "       -13, -12, -11, -12, -11, -10, -11, -12, -11, -10,  -9,  -8,  -7,\n",
       "        -8,  -7,  -8,  -9,  -8,  -7,  -8,  -9, -10,  -9, -10,  -9,  -8,\n",
       "        -9,  -8,  -9, -10, -11, -12, -13, -14, -13, -12, -13, -14, -13,\n",
       "       -14, -15, -16, -17, -18, -19, -18, -19, -20, -19, -20, -21, -22,\n",
       "       -21, -22, -21, -20, -21, -22, -23, -22, -23, -24, -23, -24, -23,\n",
       "       -22, -23, -24, -23, -24, -25, -26, -27, -28, -27, -28, -27, -26,\n",
       "       -27, -26, -27, -26, -25, -24, -25, -24, -23, -24, -25, -26, -25,\n",
       "       -24, -25, -26, -25, -24, -23, -22, -23, -24, -23, -22, -21, -22,\n",
       "       -21, -22, -21, -22, -21, -20, -19, -18, -19, -18, -19, -18, -19,\n",
       "       -18, -17, -18, -19, -20, -21, -22, -23, -24, -23, -22, -23, -24,\n",
       "       -23, -22, -21, -20, -21, -20, -21, -20, -19, -18, -17, -16, -15,\n",
       "       -14, -15, -16, -15, -14, -13, -12, -11, -12, -13, -12, -11, -10,\n",
       "        -9,  -8,  -9,  -8,  -9, -10, -11, -10,  -9, -10,  -9,  -8,  -9,\n",
       "        -8,  -7,  -8,  -7,  -8,  -9,  -8,  -9,  -8,  -9, -10, -11, -12,\n",
       "       -11, -10, -11, -10, -11, -10,  -9,  -8,  -9, -10,  -9,  -8,  -7,\n",
       "        -8,  -7,  -6,  -7,  -6,  -5,  -6,  -5,  -6,  -5,  -6,  -7,  -8,\n",
       "        -7,  -8,  -7,  -6,  -5,  -4,  -5,  -4,  -3,  -4,  -5,  -6,  -7,\n",
       "        -6,  -7,  -8,  -7,  -6,  -7,  -8,  -7,  -8,  -9, -10, -11, -10,\n",
       "        -9, -10,  -9,  -8,  -7,  -8,  -7,  -6,  -5,  -4,  -3,  -2,  -3,\n",
       "        -2,  -1,  -2,  -1,   0,  -1,   0,   1,   0,  -1,   0,  -1,   0,\n",
       "        -1,  -2,  -3,  -4,  -3,  -4,  -3,  -4,  -5,  -6,  -7,  -6,  -7,\n",
       "        -8,  -9,  -8,  -7,  -8,  -7,  -6,  -5,  -4,  -5,  -6,  -7,  -6,\n",
       "        -5,  -6,  -7,  -8,  -7,  -6,  -5,  -4,  -3,  -4,  -5,  -4,  -5,\n",
       "        -6,  -5,  -6,  -7,  -6,  -7,  -6,  -7,  -6,  -7,  -6,  -5,  -6,\n",
       "        -7,  -8,  -7,  -6,  -5,  -6,  -7,  -8,  -7,  -8,  -7,  -6,  -7,\n",
       "        -8,  -9, -10,  -9,  -8,  -9,  -8,  -9,  -8,  -9,  -8,  -7,  -8,\n",
       "        -9,  -8,  -7,  -8,  -7,  -8,  -9,  -8,  -7,  -8,  -9,  -8,  -7,\n",
       "        -6,  -5,  -4,  -3,  -2,  -3,  -4,  -3,  -2,  -1,  -2,  -3,  -2,\n",
       "        -1,  -2,  -1,  -2,  -1,  -2,  -1,  -2,  -1,   0,  -1,   0,  -1,\n",
       "        -2,  -1,   0,   1,   2,   3,   4,   3,   4,   3,   2,   1,   0,\n",
       "         1,   2,   1,   2,   1,   2,   1,   2,   1,   2,   1,   2,   3,\n",
       "         4,   3,   2,   1,   0,   1,   2,   3,   4,   3,   4,   3,   2,\n",
       "         3,   4,   3,   4,   3,   4,   3,   2,   3,   4,   3,   4,   3,\n",
       "         4,   5,   4,   3,   4,   5,   6,   7,   8,   7,   8,   9,   8,\n",
       "         7,   8,   9,   8,   7,   6,   5,   4,   5,   6,   5,   4,   3,\n",
       "         4,   5,   4,   3,   4,   5,   6,   5,   6,   5,   6,   7,   8,\n",
       "         9,   8,   9,   8,   7,   6,   5,   4,   5,   6,   5,   4,   5,\n",
       "         6,   7,   8,   7,   8,   9,   8,   9,  10,   9,   8,   7,   6,\n",
       "         5,   6,   7,   8,   7,   8,   7,   8,   7,   8,   7,   6,   7,\n",
       "         6,   7,   6,   7,   8,   7,   8,   9,   8,   7,   8,   9,   8,\n",
       "         9,  10,  11,  12,  11,  10,  11,  12,  13,  12,  11,  12,  11,\n",
       "        12,  11,  10,   9,   8,   9,  10,  11,  12,  11,  10,  11,  12,\n",
       "        11,  10,   9,  10,  11,  10,   9,  10,  11,  12,  11,  10,  11,\n",
       "        12,  13,  14,  15,  16,  17,  18,  19,  20,  21,  22,  23,  24,\n",
       "        25,  24,  23,  22,  21,  20,  21,  20,  19,  20,  19,  18,  17,\n",
       "        16,  17,  16,  15,  16,  15,  14,  15,  14,  15,  16,  17,  18,\n",
       "        17,  16,  15,  16,  15,  14,  13,  14,  13,  12,  11,  10,   9,\n",
       "        10,   9,  10,   9,   8,   7,   6,   7,   8,   9,  10,   9,  10,\n",
       "        11,  10,   9,  10,   9,   8,   7,   6,   7,   6,   5,   4,   3,\n",
       "         2,   1,   2,   3,   4,   3,   2,   1,   0,  -1,  -2,  -3,  -4,\n",
       "        -5,  -6,  -7,  -8,  -9, -10,  -9, -10,  -9, -10,  -9,  -8,  -9,\n",
       "        -8,  -7,  -6,  -5,  -6,  -5,  -4,  -3,  -2,  -1,   0,   1,   2,\n",
       "         3,   2,   1,   0,  -1,  -2,  -1,  -2,  -3,  -4,  -5,  -6,  -7,\n",
       "        -8,  -7,  -6,  -5,  -6,  -5,  -4,  -5,  -4,  -3,  -4,  -3,  -2,\n",
       "        -1,  -2,  -3,  -4,  -3,  -4,  -3,  -4,  -3,  -2,  -3,  -4,  -5,\n",
       "        -4,  -5,  -6,  -5,  -6,  -7,  -8,  -9,  -8,  -7,  -8,  -7,  -6,\n",
       "        -7,  -8,  -7,  -8,  -9,  -8,  -7,  -6,  -5,  -4,  -5,  -6,  -5,\n",
       "        -4,  -5,  -4,  -5,  -4,  -3,  -4,  -3,  -4,  -5,  -6,  -7,  -6,\n",
       "        -5,  -6,  -5,  -4,  -5,  -4,  -3,  -2,  -1,   0,   1,   0,   1,\n",
       "         2,   3,   2,   1,   2,   3,   4,   3,   4,   5,   6,   7,   6,\n",
       "         5,   4,   5,   6,   7,   8,   9,  10,   9,  10,  11,  12,  13,\n",
       "        12,  11,  12,  11,  10,   9,  10,   9,  10,  11,  10,  11,  10,\n",
       "         9,   8,   9,   8,   9,   8,   9,  10,  11,  10,  11,  10,  11,\n",
       "        12,  11,  10,  11,  10,   9,   8,   9,   8,   9,   8,   7,   6,\n",
       "         7,   8,   9,  10,  11,  10,  11,  10,   9,  10,   9,   8],\n",
       "      dtype=int32)"
      ]
     },
     "execution_count": 277,
     "metadata": {},
     "output_type": "execute_result"
    }
   ],
   "source": [
    "walk = steps.cumsum()\n",
    "walk"
   ]
  },
  {
   "cell_type": "code",
   "execution_count": 278,
   "id": "4990cd07",
   "metadata": {},
   "outputs": [
    {
     "data": {
      "text/plain": [
       "-28"
      ]
     },
     "execution_count": 278,
     "metadata": {},
     "output_type": "execute_result"
    }
   ],
   "source": [
    "# 최소값\n",
    "walk.min()"
   ]
  },
  {
   "cell_type": "code",
   "execution_count": 279,
   "id": "df0ad5ff",
   "metadata": {},
   "outputs": [
    {
     "data": {
      "text/plain": [
       "25"
      ]
     },
     "execution_count": 279,
     "metadata": {},
     "output_type": "execute_result"
    }
   ],
   "source": [
    "# 최대값\n",
    "walk.max()"
   ]
  },
  {
   "cell_type": "code",
   "execution_count": 280,
   "id": "36a440e1",
   "metadata": {},
   "outputs": [],
   "source": [
    "# 처음 위치에서 10계단 이상 떨어지는데 걸린 횟수는?"
   ]
  },
  {
   "cell_type": "code",
   "execution_count": 281,
   "id": "8b3d6520",
   "metadata": {},
   "outputs": [],
   "source": [
    "# 처음으로 -10이 나오는 인덱스를 구하면 됨"
   ]
  },
  {
   "cell_type": "code",
   "execution_count": 282,
   "id": "e3b50ea8",
   "metadata": {},
   "outputs": [
    {
     "data": {
      "text/plain": [
       "75"
      ]
     },
     "execution_count": 282,
     "metadata": {},
     "output_type": "execute_result"
    }
   ],
   "source": [
    "(np.abs(walk) >=10).argmax()"
   ]
  },
  {
   "cell_type": "code",
   "execution_count": 283,
   "id": "dccf737b",
   "metadata": {},
   "outputs": [],
   "source": [
    "# 75번째 게임에서 -10으로 처음 떨어짐"
   ]
  },
  {
   "cell_type": "code",
   "execution_count": 284,
   "id": "931fad66",
   "metadata": {
    "collapsed": true
   },
   "outputs": [
    {
     "data": {
      "text/plain": [
       "array([False, False, False, False, False, False, False, False, False,\n",
       "       False, False, False, False, False, False, False, False, False,\n",
       "       False, False, False, False, False, False, False, False, False,\n",
       "       False, False, False, False, False, False, False, False, False,\n",
       "       False, False, False, False, False, False, False, False, False,\n",
       "       False, False, False, False, False, False, False, False, False,\n",
       "       False, False, False, False, False, False, False, False, False,\n",
       "       False, False, False, False, False, False, False, False, False,\n",
       "       False, False, False,  True,  True,  True, False,  True,  True,\n",
       "        True,  True,  True,  True,  True,  True,  True,  True,  True,\n",
       "        True,  True,  True,  True,  True,  True,  True,  True,  True,\n",
       "        True,  True,  True,  True,  True,  True,  True,  True,  True,\n",
       "        True,  True,  True,  True,  True,  True,  True,  True,  True,\n",
       "        True,  True,  True,  True,  True,  True,  True,  True,  True,\n",
       "        True,  True,  True,  True,  True,  True,  True,  True,  True,\n",
       "        True,  True,  True,  True,  True,  True,  True,  True,  True,\n",
       "        True,  True,  True,  True,  True,  True, False,  True,  True,\n",
       "        True,  True,  True,  True,  True,  True,  True,  True,  True,\n",
       "        True,  True,  True,  True, False, False, False, False, False,\n",
       "       False, False, False, False, False, False,  True, False,  True,\n",
       "       False, False, False, False, False,  True,  True,  True,  True,\n",
       "        True,  True,  True,  True,  True,  True,  True,  True,  True,\n",
       "        True,  True,  True,  True,  True,  True,  True,  True,  True,\n",
       "        True,  True,  True,  True,  True,  True,  True,  True,  True,\n",
       "        True,  True,  True,  True,  True,  True,  True,  True,  True,\n",
       "        True,  True,  True,  True,  True,  True,  True,  True,  True,\n",
       "        True,  True,  True,  True,  True,  True,  True,  True,  True,\n",
       "        True,  True,  True,  True,  True,  True,  True,  True,  True,\n",
       "        True,  True,  True,  True,  True,  True,  True,  True,  True,\n",
       "        True,  True,  True,  True,  True,  True,  True,  True,  True,\n",
       "        True,  True,  True,  True,  True,  True,  True,  True,  True,\n",
       "        True,  True,  True,  True,  True,  True,  True,  True,  True,\n",
       "        True,  True,  True,  True,  True,  True,  True,  True,  True,\n",
       "        True,  True,  True,  True,  True,  True,  True,  True,  True,\n",
       "        True,  True,  True,  True,  True,  True, False, False, False,\n",
       "       False, False,  True,  True,  True, False,  True, False, False,\n",
       "       False, False, False, False, False, False, False, False, False,\n",
       "       False, False,  True,  True,  True,  True,  True,  True,  True,\n",
       "        True,  True, False, False, False,  True, False, False, False,\n",
       "       False, False, False, False, False, False, False, False, False,\n",
       "       False, False, False, False, False, False, False, False, False,\n",
       "       False, False, False, False, False, False, False, False, False,\n",
       "       False, False, False, False, False, False, False, False, False,\n",
       "        True,  True,  True, False,  True, False, False, False, False,\n",
       "       False, False, False, False, False, False, False, False, False,\n",
       "       False, False, False, False, False, False, False, False, False,\n",
       "       False, False, False, False, False, False, False, False, False,\n",
       "       False, False, False, False, False, False, False, False, False,\n",
       "       False, False, False, False, False, False, False, False, False,\n",
       "       False, False, False, False, False, False, False, False, False,\n",
       "       False, False, False, False, False, False, False, False, False,\n",
       "       False, False, False, False, False, False, False, False, False,\n",
       "       False, False, False, False, False, False, False, False, False,\n",
       "       False, False, False, False, False, False,  True, False, False,\n",
       "       False, False, False, False, False, False, False, False, False,\n",
       "       False, False, False, False, False, False, False, False, False,\n",
       "       False, False, False, False, False, False, False, False, False,\n",
       "       False, False, False, False, False, False, False, False, False,\n",
       "       False, False, False, False, False, False, False, False, False,\n",
       "       False, False, False, False, False, False, False, False, False,\n",
       "       False, False, False, False, False, False, False, False, False,\n",
       "       False, False, False, False, False, False, False, False, False,\n",
       "       False, False, False, False, False, False, False, False, False,\n",
       "       False, False, False, False, False, False, False, False, False,\n",
       "       False, False, False, False, False, False, False, False, False,\n",
       "       False, False, False, False, False, False, False, False, False,\n",
       "       False, False, False, False, False, False, False, False, False,\n",
       "       False, False, False, False, False, False, False, False, False,\n",
       "       False, False, False, False, False, False, False, False, False,\n",
       "       False, False, False, False, False, False, False, False, False,\n",
       "       False, False, False, False, False, False, False, False, False,\n",
       "       False, False, False, False, False, False,  True, False, False,\n",
       "       False, False, False, False, False, False, False, False, False,\n",
       "       False, False, False, False, False, False, False, False, False,\n",
       "       False, False, False, False, False, False, False, False, False,\n",
       "       False, False,  True,  True,  True,  True,  True,  True,  True,\n",
       "        True,  True,  True,  True,  True,  True,  True,  True, False,\n",
       "       False, False,  True,  True,  True,  True,  True,  True,  True,\n",
       "        True,  True, False,  True,  True,  True, False,  True,  True,\n",
       "        True,  True,  True,  True,  True,  True,  True,  True,  True,\n",
       "        True,  True,  True,  True,  True,  True,  True,  True,  True,\n",
       "        True,  True,  True,  True,  True,  True,  True,  True,  True,\n",
       "        True,  True,  True,  True,  True,  True,  True,  True,  True,\n",
       "        True,  True,  True,  True,  True,  True,  True,  True,  True,\n",
       "        True,  True,  True,  True,  True,  True,  True,  True,  True,\n",
       "        True, False,  True, False,  True, False, False, False, False,\n",
       "       False, False, False,  True, False,  True,  True,  True, False,\n",
       "        True, False, False, False, False, False, False, False, False,\n",
       "       False, False, False, False, False, False, False, False, False,\n",
       "       False, False, False, False, False, False, False, False, False,\n",
       "       False,  True, False,  True, False,  True, False, False, False,\n",
       "       False, False, False, False, False, False, False, False, False,\n",
       "       False, False, False, False, False, False, False, False, False,\n",
       "       False, False, False, False, False, False, False, False, False,\n",
       "       False, False, False, False, False, False, False, False, False,\n",
       "       False, False, False, False, False, False, False, False, False,\n",
       "       False, False, False, False, False, False, False, False, False,\n",
       "       False, False, False, False, False, False, False, False, False,\n",
       "       False, False, False, False, False, False, False, False, False,\n",
       "       False, False, False, False, False, False, False, False, False,\n",
       "       False, False, False, False, False, False, False, False, False,\n",
       "       False, False, False, False, False, False, False, False, False,\n",
       "       False, False, False, False, False, False, False, False, False,\n",
       "       False, False, False, False, False, False, False, False, False,\n",
       "       False, False, False, False, False, False, False,  True, False,\n",
       "        True,  True,  True,  True,  True,  True,  True,  True,  True,\n",
       "       False,  True, False,  True,  True,  True,  True,  True, False,\n",
       "       False, False, False, False, False, False,  True,  True,  True,\n",
       "        True,  True,  True,  True,  True,  True,  True,  True, False,\n",
       "       False, False, False, False, False, False, False, False, False,\n",
       "       False,  True,  True,  True,  True,  True, False,  True, False,\n",
       "       False])"
      ]
     },
     "execution_count": 284,
     "metadata": {},
     "output_type": "execute_result"
    }
   ],
   "source": [
    "(np.abs(walk) >=10)"
   ]
  },
  {
   "cell_type": "code",
   "execution_count": 285,
   "id": "34beb309",
   "metadata": {},
   "outputs": [
    {
     "name": "stdout",
     "output_type": "stream",
     "text": [
      "24\n"
     ]
    }
   ],
   "source": [
    "# 재효씨가 한건데 이게 강사님 의도랑 가장 가까움\n",
    "\n",
    "arr = np.random.randint(0, 2, 1000)\n",
    "arr = np.where(arr == 1, 1, -1)\n",
    "\n",
    "walk = np.cumsum(arr)\n",
    "print(walk[-1])"
   ]
  },
  {
   "cell_type": "code",
   "execution_count": null,
   "id": "b93efd4a",
   "metadata": {},
   "outputs": [],
   "source": [
    "# choice 참고\n",
    "\n",
    "position = sum(np.random.choice([-1,1], 1000, p=[0.5, 0.5])) # 원하는 요소의 리스트, 뽑을 개수, p = 확률\n",
    "steps = np.cumsum(np.random.choice([-1,1], 1000, p=[0.5, 0.5]))"
   ]
  },
  {
   "cell_type": "code",
   "execution_count": 286,
   "id": "124d70e1",
   "metadata": {},
   "outputs": [],
   "source": [
    "# summery 는 강사님 버전 파일 받을 것"
   ]
  },
  {
   "cell_type": "code",
   "execution_count": null,
   "id": "8e5d0c22",
   "metadata": {},
   "outputs": [],
   "source": []
  }
 ],
 "metadata": {
  "kernelspec": {
   "display_name": "Python 3",
   "language": "python",
   "name": "python3"
  },
  "language_info": {
   "codemirror_mode": {
    "name": "ipython",
    "version": 3
   },
   "file_extension": ".py",
   "mimetype": "text/x-python",
   "name": "python",
   "nbconvert_exporter": "python",
   "pygments_lexer": "ipython3",
   "version": "3.8.8"
  }
 },
 "nbformat": 4,
 "nbformat_minor": 5
}
